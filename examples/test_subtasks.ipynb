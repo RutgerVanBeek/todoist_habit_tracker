{
 "cells": [
  {
   "cell_type": "code",
   "execution_count": 1,
   "metadata": {
    "collapsed": true
   },
   "outputs": [],
   "source": [
    "from todoist_habit_tracker.todoist_connection import TodoistConnection\n",
    "from todoist_habit_tracker.habit import Habit\n",
    "import os\n",
    "from datetime import datetime\n",
    "\n",
    "def init_todoist():\n",
    "    dirname = os.path.abspath('')\n",
    "    filename = os.path.join(os.path.split(dirname)[0], '.config/.todoist.txt')\n",
    "    todoist = TodoistConnection.from_config_file(filename)\n",
    "    return todoist\n"
   ]
  },
  {
   "cell_type": "code",
   "execution_count": 2,
   "outputs": [],
   "source": [
    "todoist = init_todoist()"
   ],
   "metadata": {
    "collapsed": false,
    "pycharm": {
     "name": "#%%\n"
    }
   }
  },
  {
   "cell_type": "code",
   "execution_count": 3,
   "outputs": [
    {
     "name": "stdout",
     "output_type": "stream",
     "text": [
      "5\n",
      "[]\n"
     ]
    }
   ],
   "source": [
    "PROJECT_NAME = 'habit_tracker_test'\n",
    "LABEL = 'habit_automatic'\n",
    "todoist = init_todoist()\n",
    "label_id = todoist.get_label_by_name(LABEL)['id']\n",
    "project_id = todoist.get_project_by_name(PROJECT_NAME)['id']\n",
    "habits = todoist.filter_tasks(lambda task: (label_id in task['labels']) and (project_id == task['project_id']))\n",
    "habit_objects = [Habit(habit, todoist, label_id) for habit in habits]\n",
    "for habit in habit_objects:\n",
    "    habit.determine_action()\n",
    "todoist.commit()"
   ],
   "metadata": {
    "collapsed": false,
    "pycharm": {
     "name": "#%%\n"
    }
   }
  },
  {
   "cell_type": "code",
   "execution_count": 14,
   "outputs": [],
   "source": [],
   "metadata": {
    "collapsed": false,
    "pycharm": {
     "name": "#%%\n"
    }
   }
  },
  {
   "cell_type": "code",
   "execution_count": null,
   "outputs": [],
   "source": [],
   "metadata": {
    "collapsed": false,
    "pycharm": {
     "name": "#%%\n"
    }
   }
  }
 ],
 "metadata": {
  "kernelspec": {
   "display_name": "Python 3",
   "language": "python",
   "name": "python3"
  },
  "language_info": {
   "codemirror_mode": {
    "name": "ipython",
    "version": 2
   },
   "file_extension": ".py",
   "mimetype": "text/x-python",
   "name": "python",
   "nbconvert_exporter": "python",
   "pygments_lexer": "ipython2",
   "version": "2.7.6"
  }
 },
 "nbformat": 4,
 "nbformat_minor": 0
}