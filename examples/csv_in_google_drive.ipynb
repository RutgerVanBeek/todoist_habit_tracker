{
 "cells": [
  {
   "cell_type": "code",
   "execution_count": 1,
   "metadata": {
    "collapsed": true
   },
   "outputs": [],
   "source": [
    "import pydrive"
   ]
  },
  {
   "cell_type": "code",
   "execution_count": 3,
   "outputs": [
    {
     "name": "stdout",
     "output_type": "stream",
     "text": [
      "done\n"
     ]
    }
   ],
   "source": [
    "from pydrive.auth import GoogleAuth\n",
    "gauth = GoogleAuth()\n",
    "gauth.LoadCredentialsFile('../.config/.drive_credentials.json')"
   ],
   "metadata": {
    "collapsed": false,
    "pycharm": {
     "name": "#%%\n"
    }
   }
  },
  {
   "cell_type": "code",
   "execution_count": 4,
   "outputs": [
    {
     "name": "stdout",
     "output_type": "stream",
     "text": [
      "done23\n"
     ]
    }
   ],
   "source": [
    "from pydrive.drive import GoogleDrive\n",
    "drive = GoogleDrive(gauth)"
   ],
   "metadata": {
    "collapsed": false,
    "pycharm": {
     "name": "#%%\n"
    }
   }
  },
  {
   "cell_type": "code",
   "execution_count": 5,
   "outputs": [
    {
     "name": "stdout",
     "output_type": "stream",
     "text": [
      "title: test, id: 1gVEVt_c3sJOYwqI66DKuxTipPf7CKrGfaYC_e2DOcmo\n",
      "title: test, id: 13ePsqpRlRGg_5XRmz8n1I8vsYxM9p-LKcse6R9f5H3Q\n",
      "title: test, id: 1ePpTgpS_JxkdhnD6ulnEO0okVmeJjcscFUlP-cBST2k\n",
      "title: QS, id: 1Jhi5v7dqb6ZnFgDlSSal2tmjUI1LLtv-\n",
      "title: 20210201_144432_001.mp4, id: 1z5oDw8Dpz9mQpVWQVOiz6HxKi32HVG76\n",
      "title: 20210201_144630_002.mp4, id: 1z5QNQcScAiMsGvIGjdiLhL850ysdivIJ\n",
      "title: 20210201_144630.mp4, id: 1z2FcNAKIds4dBokIfAVEVB1vmjfVq4wN\n",
      "title: 20210202_112647.jpg, id: 1z21rgyVBLOtRB2qVZvOOpp506-vbfwEf\n",
      "title: 20210202_112708.jpg, id: 1yzIMoMlEVyCGUZFCsYYtvXac6c53gtTW\n",
      "title: Kladblaadje ML1, id: 1obeVF_2j7KeBLZOgv4okreJ1GYEfS_blHOis4kKVfpQ\n",
      "title: Innovatie Wiskunde-onderwijs, id: 0B6vDDLXj6W5mfkVWZERjRzgxcmZvX2lkeFRVa0c5OEN4NTREMGhsVWN6UkMyeV8xbDF4cnc\n",
      "title: Kladblaadje Martingales, id: 1XBmfGDcOnM_3Ndfvd10WG05Z66bU7JJz8qw_YfzKErk\n",
      "title: Kladblaadje Inference, id: 1i8ECYAw8TdfLmi1eWBLuq040Y9df-3ytQaLmboq4oYk\n",
      "title: Kladblaadje Scientific computing, id: 1Izbf2WL4fvA28JAukRyeQnfUGmXpzFU9Uz8D-ShgFKU\n",
      "title: Kladblaadje Risk analysis, id: 1deiAKnglif5z9YX6BFZTlfTtDUR1yV4ztBNHxpHf6nA\n",
      "title: Colab Notebooks, id: 1tBaOPtNG2vOcYbWPPuy8EHbnaUeU8CdS\n",
      "title: Uitgeschreven presentatie, id: 16Ja002XmSGOAnaleTlAcHw6K84nPfr9x-dFXGyAVewI\n",
      "title: Ethics presentation, id: 13q8qGI5f5tuzEmO_1asb0WcchmD-ZpW9xYCO1OOTzzo\n",
      "title: Handboek voor de moderne stoïcijn, id: 1FTqwUHuT1ZpX93BkA8aHBCRHIWs4aORa\n",
      "title: rutger-HP-ZBook-Studio-G5, id: 1ouBDNl0cDFDcogthXbc-gdSvV3J6ctQT\n",
      "title: studieplan, id: 1RdaqThCD43ZpDxvmAsqFeNy3HcPiDJDx8ZhB2MWG_wg\n",
      "title: cond_cgc_real.PNG, id: 1g1Z5ADBD8an5hbmtp5N7iihkN6iRtaby\n",
      "title: cond_gcg.PNG, id: 13xy6IMuwx-orClB296vQS3qCaiy3Vukp\n",
      "title: cond_cg.PNG, id: 19ZBgm6_17KbUOHliAFU-niFRO3yzFFps\n",
      "title: network_grandparent_true.PNG, id: 1UFbyh6L_ZUqYJz0lPclnYEciDC42Rk9v\n",
      "title: Bohemian Birds, id: 1Ae2_nk9NONFtdRRFDBnqucbktc1xmADAbOipz-W8Hvk\n",
      "title: network_xx.PNG, id: 12ETVfBl3hdrjA1J7ig3VYG2b7L31MXbm\n",
      "title: network_10_12.PNG, id: 1T6gvB3KK-nwFpjHn9QaldXSDpMj4SW8Q\n",
      "title: network_basic.PNG, id: 103O0nCQFpYRI7nde1fgUyRwBmcOWsXdE\n",
      "title: Paper meeting, id: 1pwVuiVuCmsMxqtpdFdxkaRFPzZiXl5_4_AOqvzM8wbk\n",
      "title: sollicitatie geoDelta, id: 1cp3jAhtT0-i8FYjveUHDxT3GOEBC2No1RkB-Ay0EoyM\n",
      "title: sollicitatie DSW, id: 1mQ6tTvIhb-hgCVOLC2tQT8BiKwk9jkyfNhhuFJnwN6I\n",
      "title: Naamloos document, id: 1NqjBUtvadSClww1A1UrLYcryMpY6xpCwp5lw6rKu4RE\n",
      "title: Gedicht Margriet, id: 1VAQFO4SKeleUt8wtIVNavlnNz9K044drhIPIsNnuWlk\n",
      "title: Bohemian Birds meeting, id: 1ZPl5_NVWybz9bmthaBGGWNt44Yebs0uyg-UUDf6lIB4\n",
      "title: vergadering17_11_2020, id: 1zTNxbr0ptfW1KDEUSH1brYY5T5EFL812EiZlCkXMbEk\n",
      "title: Berichtje Sjaan, id: 1dMi3X-IxdaS9NHzoV1CqlIAHPB_R9oV8Ypq-SnxN4QI\n",
      "title: tentamens, id: 1J9sNbWbfXh3i8r_UmJfQM8ETQG6HCGAi\n",
      "title: March obstakeltijd, id: 1RCgl_KceoPg0vlxpF_9fEqkLcJsagaNN\n",
      "title: quickscan, id: 1TYJHAhOMeFD1X3YapIX--sn64me12fbmABVBW2Tcp1c\n",
      "title: RAS_rutger.pdf, id: 1zgTmadNY69wVRR795J1JvOjOV_LJKnWJ\n",
      "title: stairs_oud1.jpg, id: 1Gcx_qC9g6uN3mYyYuEda0gnbLdXbWxYS\n",
      "title: 20200626_131026.jpg, id: 1QNkAlZFciZWcfnW1LrAE0BtQGTZU7Agk\n",
      "title: 20200626_131053.jpg, id: 1Q6PNgw5DAtKd455kj06hkWd0Z8QbarLu\n",
      "title: 20200626_131123.jpg, id: 1Q4Ux9CbLHji9dnIlKzYGgN2GCeE4J6C2\n",
      "title: 20200626_131035.jpg, id: 1QF7S3hvHaGmBFSh_9fljbg6arHowdGN6\n",
      "title: 20200626_131125.jpg, id: 1Q4HBFFY902y--0W9f2Fmc7U-J_m5cIQ5\n",
      "title: 20200622_115019.mp4, id: 1OQXYSedh2qhRgj-IvBnnBQ2fCbjys8RH\n",
      "title: 20200622_114508.mp4, id: 1OTQfaRLvDwYchrR9mb6WDr-dy8FbTV1m\n",
      "title: March afmaken BS, id: 1sphKIKEqLV2WQ0fEEbjUHCuAnf0jFuRJK-3Zgq1Nhmo\n",
      "title: DSC01191-II.jpg, id: 15ZBNyW-sm8SW_BcvV_ezUH1exWhEmuGP\n",
      "title: Quantified self, id: 1s5SZ53r2e1MEBo31StdYMKWnFYpN6jI4\n",
      "title: Portfolio, id: 1vCOun53Uq7ojhUMNYSAeB3iVO9jzLmZn\n",
      "title: Essays, id: 1QmsxD3Ooff6rq1KCYiV1hmT2HElb-2Km\n",
      "title: sketchpad, id: 11mgY9pLYo_63llNMf-4TikqwhrAs3CT9\n",
      "title: 20200401_122027.mp4, id: 1EP_1tM-GjS-aBTVUQNloP9zYaIwRvopa\n",
      "title: 20200401_121749.mp4, id: 1EWVh6T1qOWu_gKTz67vCmmK3PNqKIkyJ\n",
      "title: boeksamenvattingen, id: 1IJZurjx0dCjTDAXb0cN10gc4x0m9y1Uh\n",
      "title: accounts, id: 1FdSLZoroB02rfev6w7AbP1GaL68SmE4-TjaPeGwUUBc\n",
      "title: Sinterklaas, id: 1vRmRPGn0d_bnQyT1l9baUa47h4H1eGhkSXNVFjvBjeo\n",
      "title: 20191121_171945.jpg, id: 1-Hk9Y5vwjvFZnuRmcfs5wsKygD6z1kjy\n",
      "title: 20191121_172004.jpg, id: 1-Fn9OAQ-cQD5dJuTkTg_gQ8N79sMCk5K\n",
      "title: 20191121_172054.jpg, id: 1-D9nqY5sy3SJeV6NOZSrbdTtdIPjkQqm\n",
      "title: 20191121_172103.jpg, id: 1-Ce7bB2el0DyOwldHYDZgb3dE7ViG0Co\n",
      "title: 20191119_102422.jpg, id: 1-NHTfg45R2IGdARIsht33NUoSYj43-ux\n",
      "title: uitreiking.jpg, id: 1IhcoUxox7x92sPV-SBhCFylo5l0rLncP\n",
      "title: PStesting.py, id: 1pbOc02wPq2VaZnbPSCyYGCVCIHoqQT2a\n",
      "title: InputPStest.py, id: 1qVUQjlnJrpc_kbKoAc41Mu4zWJVy0A66\n",
      "title: project March, id: 1FOMii0RiqWNQ6jM1OQppMRjD7vcV3qa8\n",
      "title: 20190803_162812.jpg, id: 1-IdYXYqf7pjvoWkdeQJdXFK7OFlJ4OYx\n",
      "title: 20190802_165752.jpg, id: 1-HqASFWYDj4EGIAjE3Fwm41xcAWaYrU-\n",
      "title: 21 hidde, id: 1-Di_asEz038xxcgE9LwMTCf21HnmxG1S\n",
      "title: Afbeelding van Rutger Van Beek, id: 1-CCvXX3iFi79K1Oht-UtHrNn2nMFdPTI\n",
      "title: Afbeelding van Rutger Van Beek, id: 1-A-nv9UZdiHfpD3vGPdFXfZRYIgvIJkM\n",
      "title: BEP overzicht, id: 17MMTIXQ_VpWZw5pj1IVpUJIV99Sh_8yY\n",
      "title: Decision_theory_project_2, id: 1Wj5PfoWUwaJtzIHxUX0QLs1YWwU1DNSTr2jV5l7TVVw\n",
      "title: Decision_theory_project_2.pdf, id: 0B1CcJ0eqWjAATmxfWEtZdVR5dmg4N0ZKZU5qbVlDeDdleEhr\n",
      "title: Dinner Saturday board weekend, id: 1i0wYT5nLmbFecs8zBQVMwTGjWOfkBzZUdsvU_VzMqq0\n",
      "title: appsheet, id: 1kzJqTSdEOrBQsrIxIgyC0Iy3UvbyTOaP\n",
      "title: DBL, id: 1xeGf7pblRDskNw79T5xNMLgwnGsEK-rX\n",
      "title: JC Perplex [Official], id: 0BzI9gbvYkpRwMU54N2hXc1QzSUE\n",
      "done25\n"
     ]
    }
   ],
   "source": [
    "file_list = drive.ListFile({'q': \"'root' in parents and trashed=false\"}).GetList()\n",
    "for file1 in file_list:\n",
    "  print('title: %s, id: %s' % (file1['title'], file1['id']))"
   ],
   "metadata": {
    "collapsed": false,
    "pycharm": {
     "name": "#%%\n"
    }
   }
  },
  {
   "cell_type": "code",
   "execution_count": null,
   "outputs": [],
   "source": [],
   "metadata": {
    "collapsed": false,
    "pycharm": {
     "name": "#%%\n"
    }
   }
  }
 ],
 "metadata": {
  "kernelspec": {
   "display_name": "Python 3",
   "language": "python",
   "name": "python3"
  },
  "language_info": {
   "codemirror_mode": {
    "name": "ipython",
    "version": 2
   },
   "file_extension": ".py",
   "mimetype": "text/x-python",
   "name": "python",
   "nbconvert_exporter": "python",
   "pygments_lexer": "ipython2",
   "version": "2.7.6"
  }
 },
 "nbformat": 4,
 "nbformat_minor": 0
}