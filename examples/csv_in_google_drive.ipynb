{
 "cells": [
  {
   "cell_type": "code",
   "execution_count": 1,
   "metadata": {
    "collapsed": true
   },
   "outputs": [],
   "source": [
    "import pydrive"
   ]
  },
  {
   "cell_type": "code",
   "execution_count": 3,
   "outputs": [
    {
     "name": "stdout",
     "output_type": "stream",
     "text": [
      "done\n"
     ]
    }
   ],
   "source": [
    "from pydrive.auth import GoogleAuth\n",
    "gauth = GoogleAuth()\n",
    "gauth.LoadCredentialsFile('../.config/.drive_credentials.json')\n",
    "print('done')"
   ],
   "metadata": {
    "collapsed": false,
    "pycharm": {
     "name": "#%%\n"
    }
   }
  },
  {
   "cell_type": "code",
   "execution_count": 4,
   "outputs": [
    {
     "ename": "InvalidConfigError",
     "evalue": "Invalid client secrets file ('Error opening file', 'client_secrets.json', 'No such file or directory', 2)",
     "output_type": "error",
     "traceback": [
      "\u001B[0;31m---------------------------------------------------------------------------\u001B[0m",
      "\u001B[0;31mFileNotFoundError\u001B[0m                         Traceback (most recent call last)",
      "\u001B[0;32m~/anaconda3/envs/todoist_habit_tracker/lib/python3.8/site-packages/oauth2client/clientsecrets.py\u001B[0m in \u001B[0;36m_loadfile\u001B[0;34m(filename)\u001B[0m\n\u001B[1;32m    120\u001B[0m     \u001B[0;32mtry\u001B[0m\u001B[0;34m:\u001B[0m\u001B[0;34m\u001B[0m\u001B[0;34m\u001B[0m\u001B[0m\n\u001B[0;32m--> 121\u001B[0;31m         \u001B[0;32mwith\u001B[0m \u001B[0mopen\u001B[0m\u001B[0;34m(\u001B[0m\u001B[0mfilename\u001B[0m\u001B[0;34m,\u001B[0m \u001B[0;34m'r'\u001B[0m\u001B[0;34m)\u001B[0m \u001B[0;32mas\u001B[0m \u001B[0mfp\u001B[0m\u001B[0;34m:\u001B[0m\u001B[0;34m\u001B[0m\u001B[0;34m\u001B[0m\u001B[0m\n\u001B[0m\u001B[1;32m    122\u001B[0m             \u001B[0mobj\u001B[0m \u001B[0;34m=\u001B[0m \u001B[0mjson\u001B[0m\u001B[0;34m.\u001B[0m\u001B[0mload\u001B[0m\u001B[0;34m(\u001B[0m\u001B[0mfp\u001B[0m\u001B[0;34m)\u001B[0m\u001B[0;34m\u001B[0m\u001B[0;34m\u001B[0m\u001B[0m\n",
      "\u001B[0;31mFileNotFoundError\u001B[0m: [Errno 2] No such file or directory: 'client_secrets.json'",
      "\nDuring handling of the above exception, another exception occurred:\n",
      "\u001B[0;31mInvalidClientSecretsError\u001B[0m                 Traceback (most recent call last)",
      "\u001B[0;32m~/anaconda3/envs/todoist_habit_tracker/lib/python3.8/site-packages/pydrive/auth.py\u001B[0m in \u001B[0;36mLoadClientConfigFile\u001B[0;34m(self, client_config_file)\u001B[0m\n\u001B[1;32m    385\u001B[0m     \u001B[0;32mtry\u001B[0m\u001B[0;34m:\u001B[0m\u001B[0;34m\u001B[0m\u001B[0;34m\u001B[0m\u001B[0m\n\u001B[0;32m--> 386\u001B[0;31m       \u001B[0mclient_type\u001B[0m\u001B[0;34m,\u001B[0m \u001B[0mclient_info\u001B[0m \u001B[0;34m=\u001B[0m \u001B[0mclientsecrets\u001B[0m\u001B[0;34m.\u001B[0m\u001B[0mloadfile\u001B[0m\u001B[0;34m(\u001B[0m\u001B[0mclient_config_file\u001B[0m\u001B[0;34m)\u001B[0m\u001B[0;34m\u001B[0m\u001B[0;34m\u001B[0m\u001B[0m\n\u001B[0m\u001B[1;32m    387\u001B[0m     \u001B[0;32mexcept\u001B[0m \u001B[0mclientsecrets\u001B[0m\u001B[0;34m.\u001B[0m\u001B[0mInvalidClientSecretsError\u001B[0m \u001B[0;32mas\u001B[0m \u001B[0merror\u001B[0m\u001B[0;34m:\u001B[0m\u001B[0;34m\u001B[0m\u001B[0;34m\u001B[0m\u001B[0m\n",
      "\u001B[0;32m~/anaconda3/envs/todoist_habit_tracker/lib/python3.8/site-packages/oauth2client/clientsecrets.py\u001B[0m in \u001B[0;36mloadfile\u001B[0;34m(filename, cache)\u001B[0m\n\u001B[1;32m    164\u001B[0m     \u001B[0;32mif\u001B[0m \u001B[0;32mnot\u001B[0m \u001B[0mcache\u001B[0m\u001B[0;34m:\u001B[0m\u001B[0;34m\u001B[0m\u001B[0;34m\u001B[0m\u001B[0m\n\u001B[0;32m--> 165\u001B[0;31m         \u001B[0;32mreturn\u001B[0m \u001B[0m_loadfile\u001B[0m\u001B[0;34m(\u001B[0m\u001B[0mfilename\u001B[0m\u001B[0;34m)\u001B[0m\u001B[0;34m\u001B[0m\u001B[0;34m\u001B[0m\u001B[0m\n\u001B[0m\u001B[1;32m    166\u001B[0m \u001B[0;34m\u001B[0m\u001B[0m\n",
      "\u001B[0;32m~/anaconda3/envs/todoist_habit_tracker/lib/python3.8/site-packages/oauth2client/clientsecrets.py\u001B[0m in \u001B[0;36m_loadfile\u001B[0;34m(filename)\u001B[0m\n\u001B[1;32m    123\u001B[0m     \u001B[0;32mexcept\u001B[0m \u001B[0mIOError\u001B[0m \u001B[0;32mas\u001B[0m \u001B[0mexc\u001B[0m\u001B[0;34m:\u001B[0m\u001B[0;34m\u001B[0m\u001B[0;34m\u001B[0m\u001B[0m\n\u001B[0;32m--> 124\u001B[0;31m         raise InvalidClientSecretsError('Error opening file', exc.filename,\n\u001B[0m\u001B[1;32m    125\u001B[0m                                         exc.strerror, exc.errno)\n",
      "\u001B[0;31mInvalidClientSecretsError\u001B[0m: ('Error opening file', 'client_secrets.json', 'No such file or directory', 2)",
      "\nDuring handling of the above exception, another exception occurred:\n",
      "\u001B[0;31mInvalidConfigError\u001B[0m                        Traceback (most recent call last)",
      "\u001B[0;32m<ipython-input-4-22fc102516cb>\u001B[0m in \u001B[0;36m<module>\u001B[0;34m\u001B[0m\n\u001B[0;32m----> 1\u001B[0;31m \u001B[0mgauth\u001B[0m\u001B[0;34m.\u001B[0m\u001B[0mLocalWebserverAuth\u001B[0m\u001B[0;34m(\u001B[0m\u001B[0;34m)\u001B[0m\u001B[0;34m\u001B[0m\u001B[0;34m\u001B[0m\u001B[0m\n\u001B[0m\u001B[1;32m      2\u001B[0m \u001B[0mprint\u001B[0m\u001B[0;34m(\u001B[0m\u001B[0;34m'done2'\u001B[0m\u001B[0;34m)\u001B[0m\u001B[0;34m\u001B[0m\u001B[0;34m\u001B[0m\u001B[0m\n",
      "\u001B[0;32m~/anaconda3/envs/todoist_habit_tracker/lib/python3.8/site-packages/pydrive/auth.py\u001B[0m in \u001B[0;36m_decorated\u001B[0;34m(self, *args, **kwargs)\u001B[0m\n\u001B[1;32m    111\u001B[0m       \u001B[0mself\u001B[0m\u001B[0;34m.\u001B[0m\u001B[0mLoadCredentials\u001B[0m\u001B[0;34m(\u001B[0m\u001B[0;34m)\u001B[0m\u001B[0;34m\u001B[0m\u001B[0;34m\u001B[0m\u001B[0m\n\u001B[1;32m    112\u001B[0m     \u001B[0;32mif\u001B[0m \u001B[0mself\u001B[0m\u001B[0;34m.\u001B[0m\u001B[0mflow\u001B[0m \u001B[0;32mis\u001B[0m \u001B[0;32mNone\u001B[0m\u001B[0;34m:\u001B[0m\u001B[0;34m\u001B[0m\u001B[0;34m\u001B[0m\u001B[0m\n\u001B[0;32m--> 113\u001B[0;31m       \u001B[0mself\u001B[0m\u001B[0;34m.\u001B[0m\u001B[0mGetFlow\u001B[0m\u001B[0;34m(\u001B[0m\u001B[0;34m)\u001B[0m\u001B[0;34m\u001B[0m\u001B[0;34m\u001B[0m\u001B[0m\n\u001B[0m\u001B[1;32m    114\u001B[0m     \u001B[0;32mif\u001B[0m \u001B[0mself\u001B[0m\u001B[0;34m.\u001B[0m\u001B[0mcredentials\u001B[0m \u001B[0;32mis\u001B[0m \u001B[0;32mNone\u001B[0m\u001B[0;34m:\u001B[0m\u001B[0;34m\u001B[0m\u001B[0;34m\u001B[0m\u001B[0m\n\u001B[1;32m    115\u001B[0m       \u001B[0mcode\u001B[0m \u001B[0;34m=\u001B[0m \u001B[0mdecoratee\u001B[0m\u001B[0;34m(\u001B[0m\u001B[0mself\u001B[0m\u001B[0;34m,\u001B[0m \u001B[0;34m*\u001B[0m\u001B[0margs\u001B[0m\u001B[0;34m,\u001B[0m \u001B[0;34m**\u001B[0m\u001B[0mkwargs\u001B[0m\u001B[0;34m)\u001B[0m\u001B[0;34m\u001B[0m\u001B[0;34m\u001B[0m\u001B[0m\n",
      "\u001B[0;32m~/anaconda3/envs/todoist_habit_tracker/lib/python3.8/site-packages/pydrive/auth.py\u001B[0m in \u001B[0;36mGetFlow\u001B[0;34m(self)\u001B[0m\n\u001B[1;32m    441\u001B[0m     if not all(config in self.client_config \\\n\u001B[1;32m    442\u001B[0m                for config in self.CLIENT_CONFIGS_LIST):\n\u001B[0;32m--> 443\u001B[0;31m       \u001B[0mself\u001B[0m\u001B[0;34m.\u001B[0m\u001B[0mLoadClientConfig\u001B[0m\u001B[0;34m(\u001B[0m\u001B[0;34m)\u001B[0m\u001B[0;34m\u001B[0m\u001B[0;34m\u001B[0m\u001B[0m\n\u001B[0m\u001B[1;32m    444\u001B[0m     constructor_kwargs = {\n\u001B[1;32m    445\u001B[0m         \u001B[0;34m'redirect_uri'\u001B[0m\u001B[0;34m:\u001B[0m \u001B[0mself\u001B[0m\u001B[0;34m.\u001B[0m\u001B[0mclient_config\u001B[0m\u001B[0;34m[\u001B[0m\u001B[0;34m'redirect_uri'\u001B[0m\u001B[0;34m]\u001B[0m\u001B[0;34m,\u001B[0m\u001B[0;34m\u001B[0m\u001B[0;34m\u001B[0m\u001B[0m\n",
      "\u001B[0;32m~/anaconda3/envs/todoist_habit_tracker/lib/python3.8/site-packages/pydrive/auth.py\u001B[0m in \u001B[0;36mLoadClientConfig\u001B[0;34m(self, backend)\u001B[0m\n\u001B[1;32m    364\u001B[0m         \u001B[0;32mraise\u001B[0m \u001B[0mInvalidConfigError\u001B[0m\u001B[0;34m(\u001B[0m\u001B[0;34m'Please specify client config backend'\u001B[0m\u001B[0;34m)\u001B[0m\u001B[0;34m\u001B[0m\u001B[0;34m\u001B[0m\u001B[0m\n\u001B[1;32m    365\u001B[0m     \u001B[0;32mif\u001B[0m \u001B[0mbackend\u001B[0m \u001B[0;34m==\u001B[0m \u001B[0;34m'file'\u001B[0m\u001B[0;34m:\u001B[0m\u001B[0;34m\u001B[0m\u001B[0;34m\u001B[0m\u001B[0m\n\u001B[0;32m--> 366\u001B[0;31m       \u001B[0mself\u001B[0m\u001B[0;34m.\u001B[0m\u001B[0mLoadClientConfigFile\u001B[0m\u001B[0;34m(\u001B[0m\u001B[0;34m)\u001B[0m\u001B[0;34m\u001B[0m\u001B[0;34m\u001B[0m\u001B[0m\n\u001B[0m\u001B[1;32m    367\u001B[0m     \u001B[0;32melif\u001B[0m \u001B[0mbackend\u001B[0m \u001B[0;34m==\u001B[0m \u001B[0;34m'settings'\u001B[0m\u001B[0;34m:\u001B[0m\u001B[0;34m\u001B[0m\u001B[0;34m\u001B[0m\u001B[0m\n\u001B[1;32m    368\u001B[0m       \u001B[0mself\u001B[0m\u001B[0;34m.\u001B[0m\u001B[0mLoadClientConfigSettings\u001B[0m\u001B[0;34m(\u001B[0m\u001B[0;34m)\u001B[0m\u001B[0;34m\u001B[0m\u001B[0;34m\u001B[0m\u001B[0m\n",
      "\u001B[0;32m~/anaconda3/envs/todoist_habit_tracker/lib/python3.8/site-packages/pydrive/auth.py\u001B[0m in \u001B[0;36mLoadClientConfigFile\u001B[0;34m(self, client_config_file)\u001B[0m\n\u001B[1;32m    386\u001B[0m       \u001B[0mclient_type\u001B[0m\u001B[0;34m,\u001B[0m \u001B[0mclient_info\u001B[0m \u001B[0;34m=\u001B[0m \u001B[0mclientsecrets\u001B[0m\u001B[0;34m.\u001B[0m\u001B[0mloadfile\u001B[0m\u001B[0;34m(\u001B[0m\u001B[0mclient_config_file\u001B[0m\u001B[0;34m)\u001B[0m\u001B[0;34m\u001B[0m\u001B[0;34m\u001B[0m\u001B[0m\n\u001B[1;32m    387\u001B[0m     \u001B[0;32mexcept\u001B[0m \u001B[0mclientsecrets\u001B[0m\u001B[0;34m.\u001B[0m\u001B[0mInvalidClientSecretsError\u001B[0m \u001B[0;32mas\u001B[0m \u001B[0merror\u001B[0m\u001B[0;34m:\u001B[0m\u001B[0;34m\u001B[0m\u001B[0;34m\u001B[0m\u001B[0m\n\u001B[0;32m--> 388\u001B[0;31m       \u001B[0;32mraise\u001B[0m \u001B[0mInvalidConfigError\u001B[0m\u001B[0;34m(\u001B[0m\u001B[0;34m'Invalid client secrets file %s'\u001B[0m \u001B[0;34m%\u001B[0m \u001B[0merror\u001B[0m\u001B[0;34m)\u001B[0m\u001B[0;34m\u001B[0m\u001B[0;34m\u001B[0m\u001B[0m\n\u001B[0m\u001B[1;32m    389\u001B[0m     if not client_type in (clientsecrets.TYPE_WEB,\n\u001B[1;32m    390\u001B[0m                            clientsecrets.TYPE_INSTALLED):\n",
      "\u001B[0;31mInvalidConfigError\u001B[0m: Invalid client secrets file ('Error opening file', 'client_secrets.json', 'No such file or directory', 2)"
     ]
    }
   ],
   "source": [
    "# gauth.LocalWebserverAuth()\n",
    "print('done2')"
   ],
   "metadata": {
    "collapsed": false,
    "pycharm": {
     "name": "#%%\n"
    }
   }
  },
  {
   "cell_type": "code",
   "execution_count": 4,
   "outputs": [
    {
     "name": "stdout",
     "output_type": "stream",
     "text": [
      "done23\n"
     ]
    }
   ],
   "source": [
    "from pydrive.drive import GoogleDrive\n",
    "drive = GoogleDrive(gauth)\n",
    "print('done23')"
   ],
   "metadata": {
    "collapsed": false,
    "pycharm": {
     "name": "#%%\n"
    }
   }
  },
  {
   "cell_type": "code",
   "execution_count": 5,
   "outputs": [
    {
     "name": "stdout",
     "output_type": "stream",
     "text": [
      "title: test, id: 1gVEVt_c3sJOYwqI66DKuxTipPf7CKrGfaYC_e2DOcmo\n",
      "title: test, id: 13ePsqpRlRGg_5XRmz8n1I8vsYxM9p-LKcse6R9f5H3Q\n",
      "title: test, id: 1ePpTgpS_JxkdhnD6ulnEO0okVmeJjcscFUlP-cBST2k\n",
      "title: QS, id: 1Jhi5v7dqb6ZnFgDlSSal2tmjUI1LLtv-\n",
      "title: 20210201_144432_001.mp4, id: 1z5oDw8Dpz9mQpVWQVOiz6HxKi32HVG76\n",
      "title: 20210201_144630_002.mp4, id: 1z5QNQcScAiMsGvIGjdiLhL850ysdivIJ\n",
      "title: 20210201_144630.mp4, id: 1z2FcNAKIds4dBokIfAVEVB1vmjfVq4wN\n",
      "title: 20210202_112647.jpg, id: 1z21rgyVBLOtRB2qVZvOOpp506-vbfwEf\n",
      "title: 20210202_112708.jpg, id: 1yzIMoMlEVyCGUZFCsYYtvXac6c53gtTW\n",
      "title: Kladblaadje ML1, id: 1obeVF_2j7KeBLZOgv4okreJ1GYEfS_blHOis4kKVfpQ\n",
      "title: Innovatie Wiskunde-onderwijs, id: 0B6vDDLXj6W5mfkVWZERjRzgxcmZvX2lkeFRVa0c5OEN4NTREMGhsVWN6UkMyeV8xbDF4cnc\n",
      "title: Kladblaadje Martingales, id: 1XBmfGDcOnM_3Ndfvd10WG05Z66bU7JJz8qw_YfzKErk\n",
      "title: Kladblaadje Inference, id: 1i8ECYAw8TdfLmi1eWBLuq040Y9df-3ytQaLmboq4oYk\n",
      "title: Kladblaadje Scientific computing, id: 1Izbf2WL4fvA28JAukRyeQnfUGmXpzFU9Uz8D-ShgFKU\n",
      "title: Kladblaadje Risk analysis, id: 1deiAKnglif5z9YX6BFZTlfTtDUR1yV4ztBNHxpHf6nA\n",
      "title: Colab Notebooks, id: 1tBaOPtNG2vOcYbWPPuy8EHbnaUeU8CdS\n",
      "title: Uitgeschreven presentatie, id: 16Ja002XmSGOAnaleTlAcHw6K84nPfr9x-dFXGyAVewI\n",
      "title: Ethics presentation, id: 13q8qGI5f5tuzEmO_1asb0WcchmD-ZpW9xYCO1OOTzzo\n",
      "title: Handboek voor de moderne stoïcijn, id: 1FTqwUHuT1ZpX93BkA8aHBCRHIWs4aORa\n",
      "title: rutger-HP-ZBook-Studio-G5, id: 1ouBDNl0cDFDcogthXbc-gdSvV3J6ctQT\n",
      "title: studieplan, id: 1RdaqThCD43ZpDxvmAsqFeNy3HcPiDJDx8ZhB2MWG_wg\n",
      "title: cond_cgc_real.PNG, id: 1g1Z5ADBD8an5hbmtp5N7iihkN6iRtaby\n",
      "title: cond_gcg.PNG, id: 13xy6IMuwx-orClB296vQS3qCaiy3Vukp\n",
      "title: cond_cg.PNG, id: 19ZBgm6_17KbUOHliAFU-niFRO3yzFFps\n",
      "title: network_grandparent_true.PNG, id: 1UFbyh6L_ZUqYJz0lPclnYEciDC42Rk9v\n",
      "title: Bohemian Birds, id: 1Ae2_nk9NONFtdRRFDBnqucbktc1xmADAbOipz-W8Hvk\n",
      "title: network_xx.PNG, id: 12ETVfBl3hdrjA1J7ig3VYG2b7L31MXbm\n",
      "title: network_10_12.PNG, id: 1T6gvB3KK-nwFpjHn9QaldXSDpMj4SW8Q\n",
      "title: network_basic.PNG, id: 103O0nCQFpYRI7nde1fgUyRwBmcOWsXdE\n",
      "title: Paper meeting, id: 1pwVuiVuCmsMxqtpdFdxkaRFPzZiXl5_4_AOqvzM8wbk\n",
      "title: sollicitatie geoDelta, id: 1cp3jAhtT0-i8FYjveUHDxT3GOEBC2No1RkB-Ay0EoyM\n",
      "title: sollicitatie DSW, id: 1mQ6tTvIhb-hgCVOLC2tQT8BiKwk9jkyfNhhuFJnwN6I\n",
      "title: Naamloos document, id: 1NqjBUtvadSClww1A1UrLYcryMpY6xpCwp5lw6rKu4RE\n",
      "title: Gedicht Margriet, id: 1VAQFO4SKeleUt8wtIVNavlnNz9K044drhIPIsNnuWlk\n",
      "title: Bohemian Birds meeting, id: 1ZPl5_NVWybz9bmthaBGGWNt44Yebs0uyg-UUDf6lIB4\n",
      "title: vergadering17_11_2020, id: 1zTNxbr0ptfW1KDEUSH1brYY5T5EFL812EiZlCkXMbEk\n",
      "title: Berichtje Sjaan, id: 1dMi3X-IxdaS9NHzoV1CqlIAHPB_R9oV8Ypq-SnxN4QI\n",
      "title: tentamens, id: 1J9sNbWbfXh3i8r_UmJfQM8ETQG6HCGAi\n",
      "title: March obstakeltijd, id: 1RCgl_KceoPg0vlxpF_9fEqkLcJsagaNN\n",
      "title: quickscan, id: 1TYJHAhOMeFD1X3YapIX--sn64me12fbmABVBW2Tcp1c\n",
      "title: RAS_rutger.pdf, id: 1zgTmadNY69wVRR795J1JvOjOV_LJKnWJ\n",
      "title: stairs_oud1.jpg, id: 1Gcx_qC9g6uN3mYyYuEda0gnbLdXbWxYS\n",
      "title: 20200626_131026.jpg, id: 1QNkAlZFciZWcfnW1LrAE0BtQGTZU7Agk\n",
      "title: 20200626_131053.jpg, id: 1Q6PNgw5DAtKd455kj06hkWd0Z8QbarLu\n",
      "title: 20200626_131123.jpg, id: 1Q4Ux9CbLHji9dnIlKzYGgN2GCeE4J6C2\n",
      "title: 20200626_131035.jpg, id: 1QF7S3hvHaGmBFSh_9fljbg6arHowdGN6\n",
      "title: 20200626_131125.jpg, id: 1Q4HBFFY902y--0W9f2Fmc7U-J_m5cIQ5\n",
      "title: 20200622_115019.mp4, id: 1OQXYSedh2qhRgj-IvBnnBQ2fCbjys8RH\n",
      "title: 20200622_114508.mp4, id: 1OTQfaRLvDwYchrR9mb6WDr-dy8FbTV1m\n",
      "title: March afmaken BS, id: 1sphKIKEqLV2WQ0fEEbjUHCuAnf0jFuRJK-3Zgq1Nhmo\n",
      "title: DSC01191-II.jpg, id: 15ZBNyW-sm8SW_BcvV_ezUH1exWhEmuGP\n",
      "title: Quantified self, id: 1s5SZ53r2e1MEBo31StdYMKWnFYpN6jI4\n",
      "title: Portfolio, id: 1vCOun53Uq7ojhUMNYSAeB3iVO9jzLmZn\n",
      "title: Essays, id: 1QmsxD3Ooff6rq1KCYiV1hmT2HElb-2Km\n",
      "title: sketchpad, id: 11mgY9pLYo_63llNMf-4TikqwhrAs3CT9\n",
      "title: 20200401_122027.mp4, id: 1EP_1tM-GjS-aBTVUQNloP9zYaIwRvopa\n",
      "title: 20200401_121749.mp4, id: 1EWVh6T1qOWu_gKTz67vCmmK3PNqKIkyJ\n",
      "title: boeksamenvattingen, id: 1IJZurjx0dCjTDAXb0cN10gc4x0m9y1Uh\n",
      "title: accounts, id: 1FdSLZoroB02rfev6w7AbP1GaL68SmE4-TjaPeGwUUBc\n",
      "title: Sinterklaas, id: 1vRmRPGn0d_bnQyT1l9baUa47h4H1eGhkSXNVFjvBjeo\n",
      "title: 20191121_171945.jpg, id: 1-Hk9Y5vwjvFZnuRmcfs5wsKygD6z1kjy\n",
      "title: 20191121_172004.jpg, id: 1-Fn9OAQ-cQD5dJuTkTg_gQ8N79sMCk5K\n",
      "title: 20191121_172054.jpg, id: 1-D9nqY5sy3SJeV6NOZSrbdTtdIPjkQqm\n",
      "title: 20191121_172103.jpg, id: 1-Ce7bB2el0DyOwldHYDZgb3dE7ViG0Co\n",
      "title: 20191119_102422.jpg, id: 1-NHTfg45R2IGdARIsht33NUoSYj43-ux\n",
      "title: uitreiking.jpg, id: 1IhcoUxox7x92sPV-SBhCFylo5l0rLncP\n",
      "title: PStesting.py, id: 1pbOc02wPq2VaZnbPSCyYGCVCIHoqQT2a\n",
      "title: InputPStest.py, id: 1qVUQjlnJrpc_kbKoAc41Mu4zWJVy0A66\n",
      "title: project March, id: 1FOMii0RiqWNQ6jM1OQppMRjD7vcV3qa8\n",
      "title: 20190803_162812.jpg, id: 1-IdYXYqf7pjvoWkdeQJdXFK7OFlJ4OYx\n",
      "title: 20190802_165752.jpg, id: 1-HqASFWYDj4EGIAjE3Fwm41xcAWaYrU-\n",
      "title: 21 hidde, id: 1-Di_asEz038xxcgE9LwMTCf21HnmxG1S\n",
      "title: Afbeelding van Rutger Van Beek, id: 1-CCvXX3iFi79K1Oht-UtHrNn2nMFdPTI\n",
      "title: Afbeelding van Rutger Van Beek, id: 1-A-nv9UZdiHfpD3vGPdFXfZRYIgvIJkM\n",
      "title: BEP overzicht, id: 17MMTIXQ_VpWZw5pj1IVpUJIV99Sh_8yY\n",
      "title: Decision_theory_project_2, id: 1Wj5PfoWUwaJtzIHxUX0QLs1YWwU1DNSTr2jV5l7TVVw\n",
      "title: Decision_theory_project_2.pdf, id: 0B1CcJ0eqWjAATmxfWEtZdVR5dmg4N0ZKZU5qbVlDeDdleEhr\n",
      "title: Dinner Saturday board weekend, id: 1i0wYT5nLmbFecs8zBQVMwTGjWOfkBzZUdsvU_VzMqq0\n",
      "title: appsheet, id: 1kzJqTSdEOrBQsrIxIgyC0Iy3UvbyTOaP\n",
      "title: DBL, id: 1xeGf7pblRDskNw79T5xNMLgwnGsEK-rX\n",
      "title: JC Perplex [Official], id: 0BzI9gbvYkpRwMU54N2hXc1QzSUE\n",
      "done25\n"
     ]
    }
   ],
   "source": [
    "file_list = drive.ListFile({'q': \"'root' in parents and trashed=false\"}).GetList()\n",
    "for file1 in file_list:\n",
    "  print('title: %s, id: %s' % (file1['title'], file1['id']))\n",
    "print('done25')"
   ],
   "metadata": {
    "collapsed": false,
    "pycharm": {
     "name": "#%%\n"
    }
   }
  },
  {
   "cell_type": "code",
   "execution_count": 6,
   "outputs": [],
   "source": [
    "import pandas as pd\n",
    "\n"
   ],
   "metadata": {
    "collapsed": false,
    "pycharm": {
     "name": "#%%\n"
    }
   }
  },
  {
   "cell_type": "code",
   "execution_count": 17,
   "outputs": [],
   "source": [
    "df_test = pd.read_csv('/home/rutger/PycharmProjects/todoist_habit_tracker/log/daily_tasks.csv', index_col=0)"
   ],
   "metadata": {
    "collapsed": false,
    "pycharm": {
     "name": "#%%\n"
    }
   }
  },
  {
   "cell_type": "code",
   "execution_count": 18,
   "outputs": [],
   "source": [
    "from openpyxl.workbook import Workbook\n",
    "from openpyxl.writer.excel import save_virtual_workbook"
   ],
   "metadata": {
    "collapsed": false,
    "pycharm": {
     "name": "#%%\n"
    }
   }
  },
  {
   "cell_type": "code",
   "execution_count": 21,
   "outputs": [],
   "source": [
    "# wb = Workbook()\n",
    "# writer = pd.ExcelWriter('', engine='openpyxl')\n",
    "# writer.book = wb\n",
    "# df_test.to_excel(writer)"
   ],
   "metadata": {
    "collapsed": false,
    "pycharm": {
     "name": "#%%\n"
    }
   }
  },
  {
   "cell_type": "code",
   "execution_count": 24,
   "outputs": [
    {
     "name": "stderr",
     "output_type": "stream",
     "text": [
      "<ipython-input-24-3b5f6da6c6f0>:2: DeprecationWarning: Call to deprecated function save_virtual_workbook (Use a NamedTemporaryFile).\n",
      "  a = save_virtual_workbook(wb)\n"
     ]
    },
    {
     "ename": "AttributeError",
     "evalue": "'GoogleDriveFile' object has no attribute 'SetContent'",
     "output_type": "error",
     "traceback": [
      "\u001B[0;31m---------------------------------------------------------------------------\u001B[0m",
      "\u001B[0;31mAttributeError\u001B[0m                            Traceback (most recent call last)",
      "\u001B[0;32m<ipython-input-24-3b5f6da6c6f0>\u001B[0m in \u001B[0;36m<module>\u001B[0;34m\u001B[0m\n\u001B[1;32m      1\u001B[0m \u001B[0mf\u001B[0m \u001B[0;34m=\u001B[0m \u001B[0mdrive\u001B[0m\u001B[0;34m.\u001B[0m\u001B[0mCreateFile\u001B[0m\u001B[0;34m(\u001B[0m\u001B[0;34m)\u001B[0m \u001B[0;31m#test.xlsx file\u001B[0m\u001B[0;34m\u001B[0m\u001B[0;34m\u001B[0m\u001B[0m\n\u001B[1;32m      2\u001B[0m \u001B[0ma\u001B[0m \u001B[0;34m=\u001B[0m \u001B[0msave_virtual_workbook\u001B[0m\u001B[0;34m(\u001B[0m\u001B[0mwb\u001B[0m\u001B[0;34m)\u001B[0m\u001B[0;34m\u001B[0m\u001B[0;34m\u001B[0m\u001B[0m\n\u001B[0;32m----> 3\u001B[0;31m \u001B[0mf\u001B[0m\u001B[0;34m.\u001B[0m\u001B[0mSetContent\u001B[0m\u001B[0;34m(\u001B[0m\u001B[0ma\u001B[0m\u001B[0;34m)\u001B[0m\u001B[0;34m\u001B[0m\u001B[0;34m\u001B[0m\u001B[0m\n\u001B[0m\u001B[1;32m      4\u001B[0m \u001B[0mf\u001B[0m\u001B[0;34m.\u001B[0m\u001B[0mUpload\u001B[0m\u001B[0;34m(\u001B[0m\u001B[0;34m)\u001B[0m\u001B[0;34m\u001B[0m\u001B[0;34m\u001B[0m\u001B[0m\n",
      "\u001B[0;31mAttributeError\u001B[0m: 'GoogleDriveFile' object has no attribute 'SetContent'"
     ]
    }
   ],
   "source": [
    "# f = drive.CreateFile() #test.xlsx file\n",
    "# a = save_virtual_workbook(wb)\n",
    "# f.SetContent(a)\n",
    "# f.Upload()"
   ],
   "metadata": {
    "collapsed": false,
    "pycharm": {
     "name": "#%%\n"
    }
   }
  },
  {
   "cell_type": "code",
   "execution_count": 42,
   "outputs": [],
   "source": [
    "f = drive.CreateFile({'title': 'test.csv', 'parents': [{'id': folders['id']}]})\n",
    "f.SetContentFile('/home/rutger/PycharmProjects/todoist_habit_tracker/log/daily_tasks.csv')\n",
    "f.Upload({'convert': True})"
   ],
   "metadata": {
    "collapsed": false,
    "pycharm": {
     "name": "#%%\n"
    }
   }
  },
  {
   "cell_type": "code",
   "execution_count": 37,
   "outputs": [],
   "source": [
    "folderName = \"QS\"\n",
    "folders = drive.ListFile({'q': \"title='\" + folderName + \"' and mimeType='application/vnd.google-apps.folder' and trashed=false\"}).GetList()[0]"
   ],
   "metadata": {
    "collapsed": false,
    "pycharm": {
     "name": "#%%\n"
    }
   }
  },
  {
   "cell_type": "code",
   "execution_count": 39,
   "outputs": [
    {
     "data": {
      "text/plain": "'1Jhi5v7dqb6ZnFgDlSSal2tmjUI1LLtv-'"
     },
     "execution_count": 39,
     "metadata": {},
     "output_type": "execute_result"
    }
   ],
   "source": [
    "folders['id']"
   ],
   "metadata": {
    "collapsed": false,
    "pycharm": {
     "name": "#%%\n"
    }
   }
  },
  {
   "cell_type": "code",
   "execution_count": 43,
   "outputs": [],
   "source": [
    "df = df_test.astype(int)"
   ],
   "metadata": {
    "collapsed": false,
    "pycharm": {
     "name": "#%%\n"
    }
   }
  },
  {
   "cell_type": "code",
   "execution_count": 44,
   "outputs": [
    {
     "data": {
      "text/plain": "            registration mode  mail inbox check  daily review  stretching 1  \\\n01/01/2021                  1                 1             0             1   \n02/01/2021                  0                 1             0             1   \n03/01/2021                  1                 1             0             1   \n04/01/2021                  0                 1             0             1   \n05/01/2021                  0                 1             0             1   \n06/01/2021                  0                 1             0             1   \n07/01/2021                  1                 1             0             1   \n08/01/2021                  1                 1             0             1   \n09/01/2021                  1                 1             1             1   \n10/01/2021                  1                 1             1             1   \n11/01/2021                  1                 1             1             1   \n12/01/2021                  1                 1             1             1   \n13/01/2021                  1                 1             1             1   \n14/01/2021                  1                 1             0             1   \n15/01/2021                  1                 1             1             1   \n16/01/2021                  1                 1             1             1   \n17/01/2021                  1                 1             1             1   \n18/01/2021                  1                 1             1             1   \n19/01/2021                  1                 1             1             1   \n20/01/2021                  1                 1             1             1   \n21/01/2021                  1                 1             1             1   \n22/01/2021                  1                 1             1             1   \n23/01/2021                  1                 1             1             1   \n24/01/2021                  1                 1             1             1   \n25/01/2021                  1                 1             1             1   \n26/01/2021                  1                 1             1             1   \n27/01/2021                  1                 1             1             1   \n28/01/2021                  1                 1             1             1   \n\n            apply ointment evening  apply ointment morning  meditate  \\\n01/01/2021                       1                       1         1   \n02/01/2021                       0                       1         0   \n03/01/2021                       1                       1         1   \n04/01/2021                       1                       1         1   \n05/01/2021                       1                       1         1   \n06/01/2021                       1                       1         1   \n07/01/2021                       1                       1         1   \n08/01/2021                       1                       1         1   \n09/01/2021                       1                       1         1   \n10/01/2021                       1                       1         1   \n11/01/2021                       0                       1         1   \n12/01/2021                       1                       1         1   \n13/01/2021                       1                       1         1   \n14/01/2021                       0                       1         1   \n15/01/2021                       0                       1         1   \n16/01/2021                       0                       1         1   \n17/01/2021                       0                       1         1   \n18/01/2021                       0                       1         1   \n19/01/2021                       0                       1         1   \n20/01/2021                       1                       1         1   \n21/01/2021                       1                       1         1   \n22/01/2021                       1                       1         1   \n23/01/2021                       1                       1         1   \n24/01/2021                       1                       1         1   \n25/01/2021                       0                       1         1   \n26/01/2021                       1                       1         1   \n27/01/2021                       0                       1         1   \n28/01/2021                       1                       1         0   \n\n            update crm  stretching 2  stretchen 3  empty desk inbox daily  \\\n01/01/2021           1             1            1                       1   \n02/01/2021           0             1            0                       1   \n03/01/2021           1             1            1                       1   \n04/01/2021           1             1            1                       1   \n05/01/2021           1             1            1                       1   \n06/01/2021           1             1            0                       1   \n07/01/2021           1             1            1                       1   \n08/01/2021           1             1            0                       1   \n09/01/2021           1             1            1                       1   \n10/01/2021           1             1            1                       1   \n11/01/2021           1             1            1                       1   \n12/01/2021           1             1            1                       1   \n13/01/2021           1             1            1                       1   \n14/01/2021           1             1            0                       1   \n15/01/2021           1             0            0                       1   \n16/01/2021           1             1            0                       1   \n17/01/2021           1             1            0                       1   \n18/01/2021           1             1            1                       1   \n19/01/2021           1             1            0                       1   \n20/01/2021           1             1            1                       1   \n21/01/2021           1             1            0                       1   \n22/01/2021           1             1            1                       1   \n23/01/2021           1             1            1                       1   \n24/01/2021           1             1            1                       1   \n25/01/2021           1             1            0                       1   \n26/01/2021           1             1            1                       1   \n27/01/2021           1             0            1                       1   \n28/01/2021           1             1            1                       1   \n\n            shave  eat fruit 1  eat fruit 2  check news  \n01/01/2021      1            0            0           0  \n02/01/2021      0            0            0           0  \n03/01/2021      1            0            0           0  \n04/01/2021      1            0            0           0  \n05/01/2021      1            0            0           0  \n06/01/2021      1            0            0           0  \n07/01/2021      1            0            0           0  \n08/01/2021      1            0            0           0  \n09/01/2021      1            0            0           0  \n10/01/2021      1            0            0           0  \n11/01/2021      1            0            0           0  \n12/01/2021      1            0            0           0  \n13/01/2021      1            0            0           0  \n14/01/2021      1            0            0           0  \n15/01/2021      1            0            0           0  \n16/01/2021      0            0            0           0  \n17/01/2021      1            0            0           0  \n18/01/2021      1            0            0           0  \n19/01/2021      1            1            1           0  \n20/01/2021      1            1            1           1  \n21/01/2021      0            1            1           1  \n22/01/2021      1            1            1           1  \n23/01/2021      1            1            1           1  \n24/01/2021      1            1            1           1  \n25/01/2021      1            1            1           1  \n26/01/2021      1            1            1           1  \n27/01/2021      1            1            1           1  \n28/01/2021      1            1            1           1  ",
      "text/html": "<div>\n<style scoped>\n    .dataframe tbody tr th:only-of-type {\n        vertical-align: middle;\n    }\n\n    .dataframe tbody tr th {\n        vertical-align: top;\n    }\n\n    .dataframe thead th {\n        text-align: right;\n    }\n</style>\n<table border=\"1\" class=\"dataframe\">\n  <thead>\n    <tr style=\"text-align: right;\">\n      <th></th>\n      <th>registration mode</th>\n      <th>mail inbox check</th>\n      <th>daily review</th>\n      <th>stretching 1</th>\n      <th>apply ointment evening</th>\n      <th>apply ointment morning</th>\n      <th>meditate</th>\n      <th>update crm</th>\n      <th>stretching 2</th>\n      <th>stretchen 3</th>\n      <th>empty desk inbox daily</th>\n      <th>shave</th>\n      <th>eat fruit 1</th>\n      <th>eat fruit 2</th>\n      <th>check news</th>\n    </tr>\n  </thead>\n  <tbody>\n    <tr>\n      <th>01/01/2021</th>\n      <td>1</td>\n      <td>1</td>\n      <td>0</td>\n      <td>1</td>\n      <td>1</td>\n      <td>1</td>\n      <td>1</td>\n      <td>1</td>\n      <td>1</td>\n      <td>1</td>\n      <td>1</td>\n      <td>1</td>\n      <td>0</td>\n      <td>0</td>\n      <td>0</td>\n    </tr>\n    <tr>\n      <th>02/01/2021</th>\n      <td>0</td>\n      <td>1</td>\n      <td>0</td>\n      <td>1</td>\n      <td>0</td>\n      <td>1</td>\n      <td>0</td>\n      <td>0</td>\n      <td>1</td>\n      <td>0</td>\n      <td>1</td>\n      <td>0</td>\n      <td>0</td>\n      <td>0</td>\n      <td>0</td>\n    </tr>\n    <tr>\n      <th>03/01/2021</th>\n      <td>1</td>\n      <td>1</td>\n      <td>0</td>\n      <td>1</td>\n      <td>1</td>\n      <td>1</td>\n      <td>1</td>\n      <td>1</td>\n      <td>1</td>\n      <td>1</td>\n      <td>1</td>\n      <td>1</td>\n      <td>0</td>\n      <td>0</td>\n      <td>0</td>\n    </tr>\n    <tr>\n      <th>04/01/2021</th>\n      <td>0</td>\n      <td>1</td>\n      <td>0</td>\n      <td>1</td>\n      <td>1</td>\n      <td>1</td>\n      <td>1</td>\n      <td>1</td>\n      <td>1</td>\n      <td>1</td>\n      <td>1</td>\n      <td>1</td>\n      <td>0</td>\n      <td>0</td>\n      <td>0</td>\n    </tr>\n    <tr>\n      <th>05/01/2021</th>\n      <td>0</td>\n      <td>1</td>\n      <td>0</td>\n      <td>1</td>\n      <td>1</td>\n      <td>1</td>\n      <td>1</td>\n      <td>1</td>\n      <td>1</td>\n      <td>1</td>\n      <td>1</td>\n      <td>1</td>\n      <td>0</td>\n      <td>0</td>\n      <td>0</td>\n    </tr>\n    <tr>\n      <th>06/01/2021</th>\n      <td>0</td>\n      <td>1</td>\n      <td>0</td>\n      <td>1</td>\n      <td>1</td>\n      <td>1</td>\n      <td>1</td>\n      <td>1</td>\n      <td>1</td>\n      <td>0</td>\n      <td>1</td>\n      <td>1</td>\n      <td>0</td>\n      <td>0</td>\n      <td>0</td>\n    </tr>\n    <tr>\n      <th>07/01/2021</th>\n      <td>1</td>\n      <td>1</td>\n      <td>0</td>\n      <td>1</td>\n      <td>1</td>\n      <td>1</td>\n      <td>1</td>\n      <td>1</td>\n      <td>1</td>\n      <td>1</td>\n      <td>1</td>\n      <td>1</td>\n      <td>0</td>\n      <td>0</td>\n      <td>0</td>\n    </tr>\n    <tr>\n      <th>08/01/2021</th>\n      <td>1</td>\n      <td>1</td>\n      <td>0</td>\n      <td>1</td>\n      <td>1</td>\n      <td>1</td>\n      <td>1</td>\n      <td>1</td>\n      <td>1</td>\n      <td>0</td>\n      <td>1</td>\n      <td>1</td>\n      <td>0</td>\n      <td>0</td>\n      <td>0</td>\n    </tr>\n    <tr>\n      <th>09/01/2021</th>\n      <td>1</td>\n      <td>1</td>\n      <td>1</td>\n      <td>1</td>\n      <td>1</td>\n      <td>1</td>\n      <td>1</td>\n      <td>1</td>\n      <td>1</td>\n      <td>1</td>\n      <td>1</td>\n      <td>1</td>\n      <td>0</td>\n      <td>0</td>\n      <td>0</td>\n    </tr>\n    <tr>\n      <th>10/01/2021</th>\n      <td>1</td>\n      <td>1</td>\n      <td>1</td>\n      <td>1</td>\n      <td>1</td>\n      <td>1</td>\n      <td>1</td>\n      <td>1</td>\n      <td>1</td>\n      <td>1</td>\n      <td>1</td>\n      <td>1</td>\n      <td>0</td>\n      <td>0</td>\n      <td>0</td>\n    </tr>\n    <tr>\n      <th>11/01/2021</th>\n      <td>1</td>\n      <td>1</td>\n      <td>1</td>\n      <td>1</td>\n      <td>0</td>\n      <td>1</td>\n      <td>1</td>\n      <td>1</td>\n      <td>1</td>\n      <td>1</td>\n      <td>1</td>\n      <td>1</td>\n      <td>0</td>\n      <td>0</td>\n      <td>0</td>\n    </tr>\n    <tr>\n      <th>12/01/2021</th>\n      <td>1</td>\n      <td>1</td>\n      <td>1</td>\n      <td>1</td>\n      <td>1</td>\n      <td>1</td>\n      <td>1</td>\n      <td>1</td>\n      <td>1</td>\n      <td>1</td>\n      <td>1</td>\n      <td>1</td>\n      <td>0</td>\n      <td>0</td>\n      <td>0</td>\n    </tr>\n    <tr>\n      <th>13/01/2021</th>\n      <td>1</td>\n      <td>1</td>\n      <td>1</td>\n      <td>1</td>\n      <td>1</td>\n      <td>1</td>\n      <td>1</td>\n      <td>1</td>\n      <td>1</td>\n      <td>1</td>\n      <td>1</td>\n      <td>1</td>\n      <td>0</td>\n      <td>0</td>\n      <td>0</td>\n    </tr>\n    <tr>\n      <th>14/01/2021</th>\n      <td>1</td>\n      <td>1</td>\n      <td>0</td>\n      <td>1</td>\n      <td>0</td>\n      <td>1</td>\n      <td>1</td>\n      <td>1</td>\n      <td>1</td>\n      <td>0</td>\n      <td>1</td>\n      <td>1</td>\n      <td>0</td>\n      <td>0</td>\n      <td>0</td>\n    </tr>\n    <tr>\n      <th>15/01/2021</th>\n      <td>1</td>\n      <td>1</td>\n      <td>1</td>\n      <td>1</td>\n      <td>0</td>\n      <td>1</td>\n      <td>1</td>\n      <td>1</td>\n      <td>0</td>\n      <td>0</td>\n      <td>1</td>\n      <td>1</td>\n      <td>0</td>\n      <td>0</td>\n      <td>0</td>\n    </tr>\n    <tr>\n      <th>16/01/2021</th>\n      <td>1</td>\n      <td>1</td>\n      <td>1</td>\n      <td>1</td>\n      <td>0</td>\n      <td>1</td>\n      <td>1</td>\n      <td>1</td>\n      <td>1</td>\n      <td>0</td>\n      <td>1</td>\n      <td>0</td>\n      <td>0</td>\n      <td>0</td>\n      <td>0</td>\n    </tr>\n    <tr>\n      <th>17/01/2021</th>\n      <td>1</td>\n      <td>1</td>\n      <td>1</td>\n      <td>1</td>\n      <td>0</td>\n      <td>1</td>\n      <td>1</td>\n      <td>1</td>\n      <td>1</td>\n      <td>0</td>\n      <td>1</td>\n      <td>1</td>\n      <td>0</td>\n      <td>0</td>\n      <td>0</td>\n    </tr>\n    <tr>\n      <th>18/01/2021</th>\n      <td>1</td>\n      <td>1</td>\n      <td>1</td>\n      <td>1</td>\n      <td>0</td>\n      <td>1</td>\n      <td>1</td>\n      <td>1</td>\n      <td>1</td>\n      <td>1</td>\n      <td>1</td>\n      <td>1</td>\n      <td>0</td>\n      <td>0</td>\n      <td>0</td>\n    </tr>\n    <tr>\n      <th>19/01/2021</th>\n      <td>1</td>\n      <td>1</td>\n      <td>1</td>\n      <td>1</td>\n      <td>0</td>\n      <td>1</td>\n      <td>1</td>\n      <td>1</td>\n      <td>1</td>\n      <td>0</td>\n      <td>1</td>\n      <td>1</td>\n      <td>1</td>\n      <td>1</td>\n      <td>0</td>\n    </tr>\n    <tr>\n      <th>20/01/2021</th>\n      <td>1</td>\n      <td>1</td>\n      <td>1</td>\n      <td>1</td>\n      <td>1</td>\n      <td>1</td>\n      <td>1</td>\n      <td>1</td>\n      <td>1</td>\n      <td>1</td>\n      <td>1</td>\n      <td>1</td>\n      <td>1</td>\n      <td>1</td>\n      <td>1</td>\n    </tr>\n    <tr>\n      <th>21/01/2021</th>\n      <td>1</td>\n      <td>1</td>\n      <td>1</td>\n      <td>1</td>\n      <td>1</td>\n      <td>1</td>\n      <td>1</td>\n      <td>1</td>\n      <td>1</td>\n      <td>0</td>\n      <td>1</td>\n      <td>0</td>\n      <td>1</td>\n      <td>1</td>\n      <td>1</td>\n    </tr>\n    <tr>\n      <th>22/01/2021</th>\n      <td>1</td>\n      <td>1</td>\n      <td>1</td>\n      <td>1</td>\n      <td>1</td>\n      <td>1</td>\n      <td>1</td>\n      <td>1</td>\n      <td>1</td>\n      <td>1</td>\n      <td>1</td>\n      <td>1</td>\n      <td>1</td>\n      <td>1</td>\n      <td>1</td>\n    </tr>\n    <tr>\n      <th>23/01/2021</th>\n      <td>1</td>\n      <td>1</td>\n      <td>1</td>\n      <td>1</td>\n      <td>1</td>\n      <td>1</td>\n      <td>1</td>\n      <td>1</td>\n      <td>1</td>\n      <td>1</td>\n      <td>1</td>\n      <td>1</td>\n      <td>1</td>\n      <td>1</td>\n      <td>1</td>\n    </tr>\n    <tr>\n      <th>24/01/2021</th>\n      <td>1</td>\n      <td>1</td>\n      <td>1</td>\n      <td>1</td>\n      <td>1</td>\n      <td>1</td>\n      <td>1</td>\n      <td>1</td>\n      <td>1</td>\n      <td>1</td>\n      <td>1</td>\n      <td>1</td>\n      <td>1</td>\n      <td>1</td>\n      <td>1</td>\n    </tr>\n    <tr>\n      <th>25/01/2021</th>\n      <td>1</td>\n      <td>1</td>\n      <td>1</td>\n      <td>1</td>\n      <td>0</td>\n      <td>1</td>\n      <td>1</td>\n      <td>1</td>\n      <td>1</td>\n      <td>0</td>\n      <td>1</td>\n      <td>1</td>\n      <td>1</td>\n      <td>1</td>\n      <td>1</td>\n    </tr>\n    <tr>\n      <th>26/01/2021</th>\n      <td>1</td>\n      <td>1</td>\n      <td>1</td>\n      <td>1</td>\n      <td>1</td>\n      <td>1</td>\n      <td>1</td>\n      <td>1</td>\n      <td>1</td>\n      <td>1</td>\n      <td>1</td>\n      <td>1</td>\n      <td>1</td>\n      <td>1</td>\n      <td>1</td>\n    </tr>\n    <tr>\n      <th>27/01/2021</th>\n      <td>1</td>\n      <td>1</td>\n      <td>1</td>\n      <td>1</td>\n      <td>0</td>\n      <td>1</td>\n      <td>1</td>\n      <td>1</td>\n      <td>0</td>\n      <td>1</td>\n      <td>1</td>\n      <td>1</td>\n      <td>1</td>\n      <td>1</td>\n      <td>1</td>\n    </tr>\n    <tr>\n      <th>28/01/2021</th>\n      <td>1</td>\n      <td>1</td>\n      <td>1</td>\n      <td>1</td>\n      <td>1</td>\n      <td>1</td>\n      <td>0</td>\n      <td>1</td>\n      <td>1</td>\n      <td>1</td>\n      <td>1</td>\n      <td>1</td>\n      <td>1</td>\n      <td>1</td>\n      <td>1</td>\n    </tr>\n  </tbody>\n</table>\n</div>"
     },
     "execution_count": 44,
     "metadata": {},
     "output_type": "execute_result"
    }
   ],
   "source": [
    "df"
   ],
   "metadata": {
    "collapsed": false,
    "pycharm": {
     "name": "#%%\n"
    }
   }
  },
  {
   "cell_type": "code",
   "execution_count": 47,
   "outputs": [],
   "source": [
    "gauth.SaveCredentialsFile('../.config/test_credentials.json')"
   ],
   "metadata": {
    "collapsed": false,
    "pycharm": {
     "name": "#%%\n"
    }
   }
  },
  {
   "cell_type": "code",
   "execution_count": 13,
   "outputs": [],
   "source": [
    "from datetime import datetime\n",
    "import pandas as pd\n",
    "# test_df = pd.DataFrame({'now': datetime.now()})\n",
    "test_df = pd.DataFrame({'a':[datetime.now(),2],'b':[2,3]})"
   ],
   "metadata": {
    "collapsed": false,
    "pycharm": {
     "name": "#%%\n"
    }
   }
  },
  {
   "cell_type": "code",
   "execution_count": 14,
   "outputs": [
    {
     "data": {
      "text/plain": "                            a  b\n0  2021-02-03 15:49:06.783898  2\n1                           2  3",
      "text/html": "<div>\n<style scoped>\n    .dataframe tbody tr th:only-of-type {\n        vertical-align: middle;\n    }\n\n    .dataframe tbody tr th {\n        vertical-align: top;\n    }\n\n    .dataframe thead th {\n        text-align: right;\n    }\n</style>\n<table border=\"1\" class=\"dataframe\">\n  <thead>\n    <tr style=\"text-align: right;\">\n      <th></th>\n      <th>a</th>\n      <th>b</th>\n    </tr>\n  </thead>\n  <tbody>\n    <tr>\n      <th>0</th>\n      <td>2021-02-03 15:49:06.783898</td>\n      <td>2</td>\n    </tr>\n    <tr>\n      <th>1</th>\n      <td>2</td>\n      <td>3</td>\n    </tr>\n  </tbody>\n</table>\n</div>"
     },
     "execution_count": 14,
     "metadata": {},
     "output_type": "execute_result"
    }
   ],
   "source": [
    "test_df"
   ],
   "metadata": {
    "collapsed": false,
    "pycharm": {
     "name": "#%%\n"
    }
   }
  },
  {
   "cell_type": "code",
   "execution_count": null,
   "outputs": [],
   "source": [],
   "metadata": {
    "collapsed": false,
    "pycharm": {
     "name": "#%%\n"
    }
   }
  }
 ],
 "metadata": {
  "kernelspec": {
   "display_name": "Python 3",
   "language": "python",
   "name": "python3"
  },
  "language_info": {
   "codemirror_mode": {
    "name": "ipython",
    "version": 2
   },
   "file_extension": ".py",
   "mimetype": "text/x-python",
   "name": "python",
   "nbconvert_exporter": "python",
   "pygments_lexer": "ipython2",
   "version": "2.7.6"
  }
 },
 "nbformat": 4,
 "nbformat_minor": 0
}