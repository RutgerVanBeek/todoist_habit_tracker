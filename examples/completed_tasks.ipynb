{
 "cells": [
  {
   "cell_type": "code",
   "execution_count": 1,
   "outputs": [],
   "source": [
    "from todoist_habit_tracker.todoist_connection import TodoistConnection\n",
    "from todoist_habit_tracker.habit import Habit\n",
    "import os\n",
    "import pandas as pd\n",
    "from datetime import datetime\n",
    "\n",
    "def init_todoist():\n",
    "    dirname = os.path.abspath(os.path.abspath(''))\n",
    "    filename = os.path.join(os.path.split(dirname)[0], '.config/.todoist.txt')\n",
    "    todoist = TodoistConnection.from_config_file(filename)\n",
    "    return todoist\n",
    "\n",
    "def append_data(succes_dict):\n",
    "    dirname = os.path.abspath(os.path.abspath(''))\n",
    "    filename = os.path.join(os.path.split(dirname)[0], '.log/daily_tasks.csv')\n",
    "    try:\n",
    "        df = pd.read_csv(filename)\n",
    "    except FileNotFoundError:\n",
    "        return pd.DataFrame()"
   ],
   "metadata": {
    "collapsed": false,
    "pycharm": {
     "name": "#%%\n"
    }
   }
  },
  {
   "cell_type": "code",
   "execution_count": 2,
   "outputs": [
    {
     "name": "stdout",
     "output_type": "stream",
     "text": [
      "{'registration mode': False, 'mail inbox check': True, 'daily review': True, 'stretching 1': True, 'apply ointment evening': False, 'apply ointment morning': True, 'meditate': True, 'update crm': True, 'stretching 2': False, 'stretchen 3': False, 'empty desk inbox daily': True, 'shave': True, 'eat fruit 1': True, 'eat fruit 2': True, 'check news': True, 'home workout': False, 'breakfast outside of bed': True}\n"
     ]
    }
   ],
   "source": [
    "LABEL = 'habit_automatic'\n",
    "todoist = init_todoist()\n",
    "\n",
    "TEST_PROJECT='habit_tracker_test'\n",
    "project_id = todoist.get_project_by_name(TEST_PROJECT)['id']\n",
    "# open data file\n",
    "label_id = todoist.get_label_by_name(LABEL)['id']\n",
    "habits = todoist.filter_tasks(lambda task: (label_id in task['labels']) and (project_id != task['project_id']))\n",
    "habit_objects = [Habit(habit, todoist, label_id, None) for habit in habits]\n",
    "succes = {}\n",
    "for habit in habit_objects:\n",
    "    succes[str(habit)] =  habit.done()\n",
    "\n",
    "print(succes)\n",
    "\n"
   ],
   "metadata": {
    "collapsed": false,
    "pycharm": {
     "name": "#%%\n"
    }
   }
  },
  {
   "cell_type": "code",
   "execution_count": 3,
   "outputs": [],
   "source": [
    "def append_data(succes_dict):\n",
    "    dirname = os.path.abspath(os.path.abspath(''))\n",
    "    filename = os.path.join(os.path.split(dirname)[0], 'log/daily_tasks.csv')\n",
    "    try:\n",
    "        df = pd.read_csv(filename, index_col=0)\n",
    "        df = df.append(pd.DataFrame(succes, index=[datetime.today().strftime('%d/%m/%Y')]))\n",
    "    except FileNotFoundError:\n",
    "        df = pd.DataFrame(succes, index=[datetime.today().strftime('%d/%m/%Y')])\n",
    "        df.index.name = 'date'\n",
    "    df.to_csv(filename)\n",
    "\n"
   ],
   "metadata": {
    "collapsed": false,
    "pycharm": {
     "name": "#%%\n"
    }
   }
  },
  {
   "cell_type": "code",
   "execution_count": 4,
   "outputs": [],
   "source": [
    "year=2021\n",
    "month=1\n",
    "comp_task = [todoist.get_completed_tasks(year=year, month=month, day=day)['items'] for day in range(1, 32)]\n",
    "comp_task.append(todoist.get_completed_tasks(year=year, month=2, day=1)['items'])\n",
    "comp_task.append(todoist.get_completed_tasks(year=year, month=2, day=2)['items'])"
   ],
   "metadata": {
    "collapsed": false,
    "pycharm": {
     "name": "#%%\n"
    }
   }
  },
  {
   "cell_type": "code",
   "execution_count": 8,
   "outputs": [
    {
     "data": {
      "text/plain": "[{'completed_date': '2021-01-31T21:56:57Z',\n  'content': 'stretching 2 @habit',\n  'id': 4239660792,\n  'meta_data': None,\n  'project_id': 2245640739,\n  'task_id': 4538571446,\n  'user_id': 15358147},\n {'completed_date': '2021-01-31T21:56:56Z',\n  'content': 'apply ointment evening @habit @evening',\n  'id': 4239660784,\n  'meta_data': None,\n  'project_id': 2245640739,\n  'task_id': 4538571428,\n  'user_id': 15358147},\n {'completed_date': '2021-01-31T21:13:16Z',\n  'content': 'daily review @habit @evening @computer',\n  'id': 4239579415,\n  'meta_data': None,\n  'project_id': 2245640837,\n  'task_id': 4538571409,\n  'user_id': 15358147},\n {'completed_date': '2021-01-31T21:13:13Z',\n  'content': 'update exist',\n  'id': 4239579311,\n  'meta_data': None,\n  'project_id': 2245640837,\n  'task_id': 4538571419,\n  'user_id': 15358147},\n {'completed_date': '2021-01-31T21:10:25Z',\n  'content': 'read week focus',\n  'id': 4239573797,\n  'meta_data': None,\n  'project_id': 2245640837,\n  'task_id': 4538571415,\n  'user_id': 15358147},\n {'completed_date': '2021-01-31T21:10:25Z',\n  'content': 'plan task for next day',\n  'id': 4239573792,\n  'meta_data': None,\n  'project_id': 2245640837,\n  'task_id': 4538571417,\n  'user_id': 15358147},\n {'completed_date': '2021-01-31T21:09:01Z',\n  'content': 'look at already planned stuff',\n  'id': 4239571076,\n  'meta_data': None,\n  'project_id': 2245640837,\n  'task_id': 4538571412,\n  'user_id': 15358147},\n {'completed_date': '2021-01-31T21:09:01Z',\n  'content': 'empty Todoist inbox',\n  'id': 4239571069,\n  'meta_data': None,\n  'project_id': 2245640837,\n  'task_id': 4538571411,\n  'user_id': 15358147},\n {'completed_date': '2021-01-31T21:06:49Z',\n  'content': 'update crm @habit @evening',\n  'id': 4239566955,\n  'meta_data': None,\n  'project_id': 2245640786,\n  'task_id': 4538571438,\n  'user_id': 15358147},\n {'completed_date': '2021-01-31T21:05:41Z',\n  'content': 'empty desk inbox daily @habit',\n  'id': 4239564658,\n  'meta_data': None,\n  'project_id': 2245640837,\n  'task_id': 4538571466,\n  'user_id': 15358147},\n {'completed_date': '2021-01-31T19:55:00Z',\n  'content': 'chillings with 11+',\n  'id': 4239430780,\n  'meta_data': None,\n  'project_id': 2245640786,\n  'task_id': 4532509382,\n  'user_id': 15358147},\n {'completed_date': '2021-01-31T15:00:04Z',\n  'content': 'eat fruit 2 @habit @5_minutes',\n  'id': 4238887465,\n  'meta_data': None,\n  'project_id': 2245640739,\n  'task_id': 4538571492,\n  'user_id': 15358147},\n {'completed_date': '2021-01-31T15:00:00Z',\n  'content': 'meditate @habit',\n  'id': 4238887371,\n  'meta_data': None,\n  'project_id': 2245641603,\n  'task_id': 4538571434,\n  'user_id': 15358147},\n {'completed_date': '2021-01-31T15:00:00Z',\n  'content': 'clean room @5_minutes',\n  'id': 4238887366,\n  'meta_data': None,\n  'project_id': 2245641641,\n  'task_id': 4538924391,\n  'user_id': 15358147},\n {'completed_date': '2021-01-31T14:29:38Z',\n  'content': 'weekly overview @habit @computer',\n  'id': 4238834318,\n  'meta_data': None,\n  'project_id': 2245640837,\n  'task_id': 3421810439,\n  'user_id': 15358147},\n {'completed_date': '2021-01-31T14:17:22Z',\n  'content': 'shave @habit @5_minutes',\n  'id': 4238814332,\n  'meta_data': None,\n  'project_id': 2245640739,\n  'task_id': 4538571472,\n  'user_id': 15358147},\n {'completed_date': '2021-01-31T14:17:20Z',\n  'content': 'put wash in closet @5_minutes',\n  'id': 4238814305,\n  'meta_data': None,\n  'project_id': 2245641641,\n  'task_id': 4538924242,\n  'user_id': 15358147},\n {'completed_date': '2021-01-31T12:17:43Z',\n  'content': 'cold shower',\n  'id': 4238640064,\n  'meta_data': None,\n  'project_id': 2170868719,\n  'task_id': 4537829745,\n  'user_id': 15358147},\n {'completed_date': '2021-01-31T12:17:43Z',\n  'content': 'cycle with Stijn @appointment',\n  'id': 4238640061,\n  'meta_data': None,\n  'project_id': 2245640786,\n  'task_id': 4532508478,\n  'user_id': 15358147},\n {'completed_date': '2021-01-31T12:17:40Z',\n  'content': 'apply ointment morning @habit @morning',\n  'id': 4238639987,\n  'meta_data': None,\n  'project_id': 2245640739,\n  'task_id': 4538571430,\n  'user_id': 15358147},\n {'completed_date': '2021-01-31T12:17:40Z',\n  'content': 'stretching 1 @habit',\n  'id': 4238639978,\n  'meta_data': None,\n  'project_id': 2245640739,\n  'task_id': 4538571425,\n  'user_id': 15358147},\n {'completed_date': '2021-01-31T08:59:22Z',\n  'content': 'check news @habit',\n  'id': 4238408089,\n  'meta_data': None,\n  'project_id': 2245642080,\n  'task_id': 4538571498,\n  'user_id': 15358147},\n {'completed_date': '2021-01-31T08:52:03Z',\n  'content': 'eat fruit 1 @habit @5_minutes',\n  'id': 4238400757,\n  'meta_data': None,\n  'project_id': 2245640739,\n  'task_id': 4538571483,\n  'user_id': 15358147},\n {'completed_date': '2021-01-31T08:52:00Z',\n  'content': 'clean toilet',\n  'id': 4238400714,\n  'meta_data': None,\n  'project_id': 2245641641,\n  'task_id': 4535705243,\n  'user_id': 15358147},\n {'completed_date': '2021-01-31T08:27:40Z',\n  'content': 'reageer op mail mama @5_minutes @mail_action',\n  'id': 4238377071,\n  'meta_data': None,\n  'project_id': 2245640786,\n  'task_id': 4534400667,\n  'user_id': 15358147},\n {'completed_date': '2021-01-31T08:23:41Z',\n  'content': 'empty desk weekly inbox @habit',\n  'id': 4238373069,\n  'meta_data': None,\n  'project_id': 2245640837,\n  'task_id': 4434544307,\n  'user_id': 15358147},\n {'completed_date': '2021-01-31T08:14:14Z',\n  'content': 'mail inbox check @habit @5_minutes @computer',\n  'id': 4238364406,\n  'meta_data': None,\n  'project_id': 2245642080,\n  'task_id': 4538571407,\n  'user_id': 15358147},\n {'completed_date': '2021-01-31T08:10:04Z',\n  'content': 'check route for Stijn',\n  'id': 4238360459,\n  'meta_data': None,\n  'project_id': 2245640786,\n  'task_id': 4531433460,\n  'user_id': 15358147},\n {'completed_date': '2021-01-31T08:10:03Z',\n  'content': 'morning workout @habit @morning',\n  'id': 4238360458,\n  'meta_data': None,\n  'project_id': 2245640412,\n  'task_id': 4264615262,\n  'user_id': 15358147},\n {'completed_date': '2021-01-31T08:10:03Z',\n  'content': 'Drink water @habit @morning',\n  'id': 4238360456,\n  'meta_data': None,\n  'project_id': 2245640739,\n  'task_id': 4377238168,\n  'user_id': 15358147}]"
     },
     "execution_count": 8,
     "metadata": {},
     "output_type": "execute_result"
    }
   ],
   "source": [
    "comp_task[-3]"
   ],
   "metadata": {
    "collapsed": false,
    "pycharm": {
     "name": "#%%\n"
    }
   }
  },
  {
   "cell_type": "code",
   "execution_count": 9,
   "outputs": [],
   "source": [
    "import re\n",
    "days = {1:31, 2:2}\n",
    "results = {}\n",
    "for habit in habit_objects:\n",
    "    results[str(habit)]= {}\n",
    "    for month in days:\n",
    "        for day in range(1, days[month]+1):\n",
    "            contents = [re.sub('@.* ', '', c['content']) for c in comp_task[(month-1)*31 + day-1]]\n",
    "            contents = [re.sub('@.*', '', c).strip() for c in contents]\n",
    "            results[str(habit)][datetime(year=2021, month=month, day=day).strftime('%d/%m/%Y')] = habit.content in contents"
   ],
   "metadata": {
    "collapsed": false,
    "pycharm": {
     "name": "#%%\n"
    }
   }
  },
  {
   "cell_type": "code",
   "execution_count": 35,
   "outputs": [
    {
     "data": {
      "text/plain": "{'registration mode': {'01/01/2021': True,\n  '02/01/2021': False,\n  '03/01/2021': True,\n  '01/02/2021': True,\n  '02/02/2021': False},\n 'mail inbox check': {'01/01/2021': True,\n  '02/01/2021': True,\n  '03/01/2021': True,\n  '01/02/2021': True,\n  '02/02/2021': True},\n 'daily review': {'01/01/2021': False,\n  '02/01/2021': False,\n  '03/01/2021': False,\n  '01/02/2021': False,\n  '02/02/2021': False},\n 'stretching 1': {'01/01/2021': True,\n  '02/01/2021': True,\n  '03/01/2021': True,\n  '01/02/2021': True,\n  '02/02/2021': True},\n 'apply ointment evening': {'01/01/2021': True,\n  '02/01/2021': False,\n  '03/01/2021': True,\n  '01/02/2021': True,\n  '02/02/2021': False},\n 'apply ointment morning': {'01/01/2021': True,\n  '02/01/2021': True,\n  '03/01/2021': True,\n  '01/02/2021': True,\n  '02/02/2021': True},\n 'meditate': {'01/01/2021': True,\n  '02/01/2021': False,\n  '03/01/2021': True,\n  '01/02/2021': True,\n  '02/02/2021': False},\n 'update crm': {'01/01/2021': True,\n  '02/01/2021': False,\n  '03/01/2021': True,\n  '01/02/2021': True,\n  '02/02/2021': False},\n 'stretching 2': {'01/01/2021': True,\n  '02/01/2021': True,\n  '03/01/2021': True,\n  '01/02/2021': True,\n  '02/02/2021': True},\n 'stretchen 3': {'01/01/2021': True,\n  '02/01/2021': False,\n  '03/01/2021': True,\n  '01/02/2021': True,\n  '02/02/2021': False},\n 'empty desk inbox daily': {'01/01/2021': True,\n  '02/01/2021': True,\n  '03/01/2021': True,\n  '01/02/2021': True,\n  '02/02/2021': True},\n 'shave': {'01/01/2021': True,\n  '02/01/2021': False,\n  '03/01/2021': True,\n  '01/02/2021': True,\n  '02/02/2021': False},\n 'eat fruit 1': {'01/01/2021': False,\n  '02/01/2021': False,\n  '03/01/2021': False,\n  '01/02/2021': False,\n  '02/02/2021': False},\n 'eat fruit 2': {'01/01/2021': False,\n  '02/01/2021': False,\n  '03/01/2021': False,\n  '01/02/2021': False,\n  '02/02/2021': False},\n 'check news': {'01/01/2021': False,\n  '02/01/2021': False,\n  '03/01/2021': False,\n  '01/02/2021': False,\n  '02/02/2021': False},\n 'home workout': {'01/01/2021': False,\n  '02/01/2021': False,\n  '03/01/2021': False,\n  '01/02/2021': False,\n  '02/02/2021': False},\n 'breakfast outside of bed': {'01/01/2021': False,\n  '02/01/2021': False,\n  '03/01/2021': False,\n  '01/02/2021': False,\n  '02/02/2021': False}}"
     },
     "execution_count": 35,
     "metadata": {},
     "output_type": "execute_result"
    }
   ],
   "source": [
    "results"
   ],
   "metadata": {
    "collapsed": false,
    "pycharm": {
     "name": "#%%\n"
    }
   }
  },
  {
   "cell_type": "code",
   "execution_count": 10,
   "outputs": [
    {
     "data": {
      "text/plain": "            registration mode  mail inbox check  daily review  stretching 1  \\\n01/01/2021               True              True         False          True   \n02/01/2021              False              True         False          True   \n03/01/2021               True              True         False          True   \n04/01/2021              False              True         False          True   \n05/01/2021              False              True         False          True   \n06/01/2021              False              True         False          True   \n07/01/2021               True              True         False          True   \n08/01/2021               True              True         False          True   \n09/01/2021               True              True          True          True   \n10/01/2021               True              True          True          True   \n11/01/2021               True              True          True          True   \n12/01/2021               True              True          True          True   \n13/01/2021               True              True          True          True   \n14/01/2021               True              True         False          True   \n15/01/2021               True              True          True          True   \n16/01/2021               True              True          True          True   \n17/01/2021               True              True          True          True   \n18/01/2021               True              True          True          True   \n19/01/2021               True              True          True          True   \n20/01/2021               True              True          True          True   \n21/01/2021               True              True          True          True   \n22/01/2021               True              True          True          True   \n23/01/2021               True              True          True          True   \n24/01/2021               True              True          True          True   \n25/01/2021               True              True          True          True   \n26/01/2021               True              True          True          True   \n27/01/2021               True              True          True          True   \n28/01/2021               True              True          True          True   \n29/01/2021               True              True          True          True   \n30/01/2021               True              True          True          True   \n31/01/2021              False              True          True          True   \n01/02/2021               True              True          True          True   \n02/02/2021               True              True          True          True   \n\n            apply ointment evening  apply ointment morning  meditate  \\\n01/01/2021                    True                    True      True   \n02/01/2021                   False                    True     False   \n03/01/2021                    True                    True      True   \n04/01/2021                    True                    True      True   \n05/01/2021                    True                    True      True   \n06/01/2021                    True                    True      True   \n07/01/2021                    True                    True      True   \n08/01/2021                    True                    True      True   \n09/01/2021                    True                    True      True   \n10/01/2021                    True                    True      True   \n11/01/2021                   False                    True      True   \n12/01/2021                    True                    True      True   \n13/01/2021                    True                    True      True   \n14/01/2021                   False                    True      True   \n15/01/2021                   False                    True      True   \n16/01/2021                   False                    True      True   \n17/01/2021                   False                    True      True   \n18/01/2021                   False                    True      True   \n19/01/2021                   False                    True      True   \n20/01/2021                    True                    True      True   \n21/01/2021                    True                    True      True   \n22/01/2021                    True                    True      True   \n23/01/2021                    True                    True      True   \n24/01/2021                    True                    True      True   \n25/01/2021                   False                    True      True   \n26/01/2021                    True                    True      True   \n27/01/2021                   False                    True      True   \n28/01/2021                    True                    True     False   \n29/01/2021                    True                    True      True   \n30/01/2021                    True                    True      True   \n31/01/2021                    True                    True      True   \n01/02/2021                    True                    True      True   \n02/02/2021                   False                    True      True   \n\n            update crm  stretching 2  stretchen 3  empty desk inbox daily  \\\n01/01/2021        True          True         True                    True   \n02/01/2021       False          True        False                    True   \n03/01/2021        True          True         True                    True   \n04/01/2021        True          True         True                    True   \n05/01/2021        True          True         True                    True   \n06/01/2021        True          True        False                    True   \n07/01/2021        True          True         True                    True   \n08/01/2021        True          True        False                    True   \n09/01/2021        True          True         True                    True   \n10/01/2021        True          True         True                    True   \n11/01/2021        True          True         True                    True   \n12/01/2021        True          True         True                    True   \n13/01/2021        True          True         True                    True   \n14/01/2021        True          True        False                    True   \n15/01/2021        True         False        False                    True   \n16/01/2021        True          True        False                    True   \n17/01/2021        True          True        False                    True   \n18/01/2021        True          True         True                    True   \n19/01/2021        True          True        False                    True   \n20/01/2021        True          True         True                    True   \n21/01/2021        True          True        False                    True   \n22/01/2021        True          True         True                    True   \n23/01/2021        True          True         True                    True   \n24/01/2021        True          True         True                    True   \n25/01/2021        True          True        False                    True   \n26/01/2021        True          True         True                    True   \n27/01/2021        True         False         True                    True   \n28/01/2021        True          True         True                    True   \n29/01/2021        True          True         True                    True   \n30/01/2021        True          True         True                    True   \n31/01/2021        True          True        False                    True   \n01/02/2021        True          True         True                    True   \n02/02/2021        True          True        False                    True   \n\n            shave  eat fruit 1  eat fruit 2  check news  home workout  \\\n01/01/2021   True        False        False       False         False   \n02/01/2021  False        False        False       False         False   \n03/01/2021   True        False        False       False         False   \n04/01/2021   True        False        False       False         False   \n05/01/2021   True        False        False       False         False   \n06/01/2021   True        False        False       False         False   \n07/01/2021   True        False        False       False         False   \n08/01/2021   True        False        False       False         False   \n09/01/2021   True        False        False       False         False   \n10/01/2021   True        False        False       False         False   \n11/01/2021   True        False        False       False         False   \n12/01/2021   True        False        False       False         False   \n13/01/2021   True        False        False       False         False   \n14/01/2021   True        False        False       False         False   \n15/01/2021   True        False        False       False         False   \n16/01/2021  False        False        False       False         False   \n17/01/2021   True        False        False       False         False   \n18/01/2021   True        False        False       False         False   \n19/01/2021   True         True         True       False         False   \n20/01/2021   True         True         True        True         False   \n21/01/2021  False         True         True        True         False   \n22/01/2021   True         True         True        True         False   \n23/01/2021   True         True         True        True         False   \n24/01/2021   True         True         True        True         False   \n25/01/2021   True         True         True        True         False   \n26/01/2021   True         True         True        True         False   \n27/01/2021   True         True         True        True         False   \n28/01/2021   True         True         True        True         False   \n29/01/2021   True         True         True        True         False   \n30/01/2021   True         True         True        True         False   \n31/01/2021   True         True         True        True         False   \n01/02/2021   True         True         True        True          True   \n02/02/2021   True         True         True        True          True   \n\n            breakfast outside of bed  \n01/01/2021                     False  \n02/01/2021                     False  \n03/01/2021                     False  \n04/01/2021                     False  \n05/01/2021                     False  \n06/01/2021                     False  \n07/01/2021                     False  \n08/01/2021                     False  \n09/01/2021                     False  \n10/01/2021                     False  \n11/01/2021                     False  \n12/01/2021                     False  \n13/01/2021                     False  \n14/01/2021                     False  \n15/01/2021                     False  \n16/01/2021                     False  \n17/01/2021                     False  \n18/01/2021                     False  \n19/01/2021                     False  \n20/01/2021                     False  \n21/01/2021                     False  \n22/01/2021                     False  \n23/01/2021                     False  \n24/01/2021                     False  \n25/01/2021                     False  \n26/01/2021                     False  \n27/01/2021                     False  \n28/01/2021                     False  \n29/01/2021                     False  \n30/01/2021                     False  \n31/01/2021                     False  \n01/02/2021                      True  \n02/02/2021                      True  ",
      "text/html": "<div>\n<style scoped>\n    .dataframe tbody tr th:only-of-type {\n        vertical-align: middle;\n    }\n\n    .dataframe tbody tr th {\n        vertical-align: top;\n    }\n\n    .dataframe thead th {\n        text-align: right;\n    }\n</style>\n<table border=\"1\" class=\"dataframe\">\n  <thead>\n    <tr style=\"text-align: right;\">\n      <th></th>\n      <th>registration mode</th>\n      <th>mail inbox check</th>\n      <th>daily review</th>\n      <th>stretching 1</th>\n      <th>apply ointment evening</th>\n      <th>apply ointment morning</th>\n      <th>meditate</th>\n      <th>update crm</th>\n      <th>stretching 2</th>\n      <th>stretchen 3</th>\n      <th>empty desk inbox daily</th>\n      <th>shave</th>\n      <th>eat fruit 1</th>\n      <th>eat fruit 2</th>\n      <th>check news</th>\n      <th>home workout</th>\n      <th>breakfast outside of bed</th>\n    </tr>\n  </thead>\n  <tbody>\n    <tr>\n      <th>01/01/2021</th>\n      <td>True</td>\n      <td>True</td>\n      <td>False</td>\n      <td>True</td>\n      <td>True</td>\n      <td>True</td>\n      <td>True</td>\n      <td>True</td>\n      <td>True</td>\n      <td>True</td>\n      <td>True</td>\n      <td>True</td>\n      <td>False</td>\n      <td>False</td>\n      <td>False</td>\n      <td>False</td>\n      <td>False</td>\n    </tr>\n    <tr>\n      <th>02/01/2021</th>\n      <td>False</td>\n      <td>True</td>\n      <td>False</td>\n      <td>True</td>\n      <td>False</td>\n      <td>True</td>\n      <td>False</td>\n      <td>False</td>\n      <td>True</td>\n      <td>False</td>\n      <td>True</td>\n      <td>False</td>\n      <td>False</td>\n      <td>False</td>\n      <td>False</td>\n      <td>False</td>\n      <td>False</td>\n    </tr>\n    <tr>\n      <th>03/01/2021</th>\n      <td>True</td>\n      <td>True</td>\n      <td>False</td>\n      <td>True</td>\n      <td>True</td>\n      <td>True</td>\n      <td>True</td>\n      <td>True</td>\n      <td>True</td>\n      <td>True</td>\n      <td>True</td>\n      <td>True</td>\n      <td>False</td>\n      <td>False</td>\n      <td>False</td>\n      <td>False</td>\n      <td>False</td>\n    </tr>\n    <tr>\n      <th>04/01/2021</th>\n      <td>False</td>\n      <td>True</td>\n      <td>False</td>\n      <td>True</td>\n      <td>True</td>\n      <td>True</td>\n      <td>True</td>\n      <td>True</td>\n      <td>True</td>\n      <td>True</td>\n      <td>True</td>\n      <td>True</td>\n      <td>False</td>\n      <td>False</td>\n      <td>False</td>\n      <td>False</td>\n      <td>False</td>\n    </tr>\n    <tr>\n      <th>05/01/2021</th>\n      <td>False</td>\n      <td>True</td>\n      <td>False</td>\n      <td>True</td>\n      <td>True</td>\n      <td>True</td>\n      <td>True</td>\n      <td>True</td>\n      <td>True</td>\n      <td>True</td>\n      <td>True</td>\n      <td>True</td>\n      <td>False</td>\n      <td>False</td>\n      <td>False</td>\n      <td>False</td>\n      <td>False</td>\n    </tr>\n    <tr>\n      <th>06/01/2021</th>\n      <td>False</td>\n      <td>True</td>\n      <td>False</td>\n      <td>True</td>\n      <td>True</td>\n      <td>True</td>\n      <td>True</td>\n      <td>True</td>\n      <td>True</td>\n      <td>False</td>\n      <td>True</td>\n      <td>True</td>\n      <td>False</td>\n      <td>False</td>\n      <td>False</td>\n      <td>False</td>\n      <td>False</td>\n    </tr>\n    <tr>\n      <th>07/01/2021</th>\n      <td>True</td>\n      <td>True</td>\n      <td>False</td>\n      <td>True</td>\n      <td>True</td>\n      <td>True</td>\n      <td>True</td>\n      <td>True</td>\n      <td>True</td>\n      <td>True</td>\n      <td>True</td>\n      <td>True</td>\n      <td>False</td>\n      <td>False</td>\n      <td>False</td>\n      <td>False</td>\n      <td>False</td>\n    </tr>\n    <tr>\n      <th>08/01/2021</th>\n      <td>True</td>\n      <td>True</td>\n      <td>False</td>\n      <td>True</td>\n      <td>True</td>\n      <td>True</td>\n      <td>True</td>\n      <td>True</td>\n      <td>True</td>\n      <td>False</td>\n      <td>True</td>\n      <td>True</td>\n      <td>False</td>\n      <td>False</td>\n      <td>False</td>\n      <td>False</td>\n      <td>False</td>\n    </tr>\n    <tr>\n      <th>09/01/2021</th>\n      <td>True</td>\n      <td>True</td>\n      <td>True</td>\n      <td>True</td>\n      <td>True</td>\n      <td>True</td>\n      <td>True</td>\n      <td>True</td>\n      <td>True</td>\n      <td>True</td>\n      <td>True</td>\n      <td>True</td>\n      <td>False</td>\n      <td>False</td>\n      <td>False</td>\n      <td>False</td>\n      <td>False</td>\n    </tr>\n    <tr>\n      <th>10/01/2021</th>\n      <td>True</td>\n      <td>True</td>\n      <td>True</td>\n      <td>True</td>\n      <td>True</td>\n      <td>True</td>\n      <td>True</td>\n      <td>True</td>\n      <td>True</td>\n      <td>True</td>\n      <td>True</td>\n      <td>True</td>\n      <td>False</td>\n      <td>False</td>\n      <td>False</td>\n      <td>False</td>\n      <td>False</td>\n    </tr>\n    <tr>\n      <th>11/01/2021</th>\n      <td>True</td>\n      <td>True</td>\n      <td>True</td>\n      <td>True</td>\n      <td>False</td>\n      <td>True</td>\n      <td>True</td>\n      <td>True</td>\n      <td>True</td>\n      <td>True</td>\n      <td>True</td>\n      <td>True</td>\n      <td>False</td>\n      <td>False</td>\n      <td>False</td>\n      <td>False</td>\n      <td>False</td>\n    </tr>\n    <tr>\n      <th>12/01/2021</th>\n      <td>True</td>\n      <td>True</td>\n      <td>True</td>\n      <td>True</td>\n      <td>True</td>\n      <td>True</td>\n      <td>True</td>\n      <td>True</td>\n      <td>True</td>\n      <td>True</td>\n      <td>True</td>\n      <td>True</td>\n      <td>False</td>\n      <td>False</td>\n      <td>False</td>\n      <td>False</td>\n      <td>False</td>\n    </tr>\n    <tr>\n      <th>13/01/2021</th>\n      <td>True</td>\n      <td>True</td>\n      <td>True</td>\n      <td>True</td>\n      <td>True</td>\n      <td>True</td>\n      <td>True</td>\n      <td>True</td>\n      <td>True</td>\n      <td>True</td>\n      <td>True</td>\n      <td>True</td>\n      <td>False</td>\n      <td>False</td>\n      <td>False</td>\n      <td>False</td>\n      <td>False</td>\n    </tr>\n    <tr>\n      <th>14/01/2021</th>\n      <td>True</td>\n      <td>True</td>\n      <td>False</td>\n      <td>True</td>\n      <td>False</td>\n      <td>True</td>\n      <td>True</td>\n      <td>True</td>\n      <td>True</td>\n      <td>False</td>\n      <td>True</td>\n      <td>True</td>\n      <td>False</td>\n      <td>False</td>\n      <td>False</td>\n      <td>False</td>\n      <td>False</td>\n    </tr>\n    <tr>\n      <th>15/01/2021</th>\n      <td>True</td>\n      <td>True</td>\n      <td>True</td>\n      <td>True</td>\n      <td>False</td>\n      <td>True</td>\n      <td>True</td>\n      <td>True</td>\n      <td>False</td>\n      <td>False</td>\n      <td>True</td>\n      <td>True</td>\n      <td>False</td>\n      <td>False</td>\n      <td>False</td>\n      <td>False</td>\n      <td>False</td>\n    </tr>\n    <tr>\n      <th>16/01/2021</th>\n      <td>True</td>\n      <td>True</td>\n      <td>True</td>\n      <td>True</td>\n      <td>False</td>\n      <td>True</td>\n      <td>True</td>\n      <td>True</td>\n      <td>True</td>\n      <td>False</td>\n      <td>True</td>\n      <td>False</td>\n      <td>False</td>\n      <td>False</td>\n      <td>False</td>\n      <td>False</td>\n      <td>False</td>\n    </tr>\n    <tr>\n      <th>17/01/2021</th>\n      <td>True</td>\n      <td>True</td>\n      <td>True</td>\n      <td>True</td>\n      <td>False</td>\n      <td>True</td>\n      <td>True</td>\n      <td>True</td>\n      <td>True</td>\n      <td>False</td>\n      <td>True</td>\n      <td>True</td>\n      <td>False</td>\n      <td>False</td>\n      <td>False</td>\n      <td>False</td>\n      <td>False</td>\n    </tr>\n    <tr>\n      <th>18/01/2021</th>\n      <td>True</td>\n      <td>True</td>\n      <td>True</td>\n      <td>True</td>\n      <td>False</td>\n      <td>True</td>\n      <td>True</td>\n      <td>True</td>\n      <td>True</td>\n      <td>True</td>\n      <td>True</td>\n      <td>True</td>\n      <td>False</td>\n      <td>False</td>\n      <td>False</td>\n      <td>False</td>\n      <td>False</td>\n    </tr>\n    <tr>\n      <th>19/01/2021</th>\n      <td>True</td>\n      <td>True</td>\n      <td>True</td>\n      <td>True</td>\n      <td>False</td>\n      <td>True</td>\n      <td>True</td>\n      <td>True</td>\n      <td>True</td>\n      <td>False</td>\n      <td>True</td>\n      <td>True</td>\n      <td>True</td>\n      <td>True</td>\n      <td>False</td>\n      <td>False</td>\n      <td>False</td>\n    </tr>\n    <tr>\n      <th>20/01/2021</th>\n      <td>True</td>\n      <td>True</td>\n      <td>True</td>\n      <td>True</td>\n      <td>True</td>\n      <td>True</td>\n      <td>True</td>\n      <td>True</td>\n      <td>True</td>\n      <td>True</td>\n      <td>True</td>\n      <td>True</td>\n      <td>True</td>\n      <td>True</td>\n      <td>True</td>\n      <td>False</td>\n      <td>False</td>\n    </tr>\n    <tr>\n      <th>21/01/2021</th>\n      <td>True</td>\n      <td>True</td>\n      <td>True</td>\n      <td>True</td>\n      <td>True</td>\n      <td>True</td>\n      <td>True</td>\n      <td>True</td>\n      <td>True</td>\n      <td>False</td>\n      <td>True</td>\n      <td>False</td>\n      <td>True</td>\n      <td>True</td>\n      <td>True</td>\n      <td>False</td>\n      <td>False</td>\n    </tr>\n    <tr>\n      <th>22/01/2021</th>\n      <td>True</td>\n      <td>True</td>\n      <td>True</td>\n      <td>True</td>\n      <td>True</td>\n      <td>True</td>\n      <td>True</td>\n      <td>True</td>\n      <td>True</td>\n      <td>True</td>\n      <td>True</td>\n      <td>True</td>\n      <td>True</td>\n      <td>True</td>\n      <td>True</td>\n      <td>False</td>\n      <td>False</td>\n    </tr>\n    <tr>\n      <th>23/01/2021</th>\n      <td>True</td>\n      <td>True</td>\n      <td>True</td>\n      <td>True</td>\n      <td>True</td>\n      <td>True</td>\n      <td>True</td>\n      <td>True</td>\n      <td>True</td>\n      <td>True</td>\n      <td>True</td>\n      <td>True</td>\n      <td>True</td>\n      <td>True</td>\n      <td>True</td>\n      <td>False</td>\n      <td>False</td>\n    </tr>\n    <tr>\n      <th>24/01/2021</th>\n      <td>True</td>\n      <td>True</td>\n      <td>True</td>\n      <td>True</td>\n      <td>True</td>\n      <td>True</td>\n      <td>True</td>\n      <td>True</td>\n      <td>True</td>\n      <td>True</td>\n      <td>True</td>\n      <td>True</td>\n      <td>True</td>\n      <td>True</td>\n      <td>True</td>\n      <td>False</td>\n      <td>False</td>\n    </tr>\n    <tr>\n      <th>25/01/2021</th>\n      <td>True</td>\n      <td>True</td>\n      <td>True</td>\n      <td>True</td>\n      <td>False</td>\n      <td>True</td>\n      <td>True</td>\n      <td>True</td>\n      <td>True</td>\n      <td>False</td>\n      <td>True</td>\n      <td>True</td>\n      <td>True</td>\n      <td>True</td>\n      <td>True</td>\n      <td>False</td>\n      <td>False</td>\n    </tr>\n    <tr>\n      <th>26/01/2021</th>\n      <td>True</td>\n      <td>True</td>\n      <td>True</td>\n      <td>True</td>\n      <td>True</td>\n      <td>True</td>\n      <td>True</td>\n      <td>True</td>\n      <td>True</td>\n      <td>True</td>\n      <td>True</td>\n      <td>True</td>\n      <td>True</td>\n      <td>True</td>\n      <td>True</td>\n      <td>False</td>\n      <td>False</td>\n    </tr>\n    <tr>\n      <th>27/01/2021</th>\n      <td>True</td>\n      <td>True</td>\n      <td>True</td>\n      <td>True</td>\n      <td>False</td>\n      <td>True</td>\n      <td>True</td>\n      <td>True</td>\n      <td>False</td>\n      <td>True</td>\n      <td>True</td>\n      <td>True</td>\n      <td>True</td>\n      <td>True</td>\n      <td>True</td>\n      <td>False</td>\n      <td>False</td>\n    </tr>\n    <tr>\n      <th>28/01/2021</th>\n      <td>True</td>\n      <td>True</td>\n      <td>True</td>\n      <td>True</td>\n      <td>True</td>\n      <td>True</td>\n      <td>False</td>\n      <td>True</td>\n      <td>True</td>\n      <td>True</td>\n      <td>True</td>\n      <td>True</td>\n      <td>True</td>\n      <td>True</td>\n      <td>True</td>\n      <td>False</td>\n      <td>False</td>\n    </tr>\n    <tr>\n      <th>29/01/2021</th>\n      <td>True</td>\n      <td>True</td>\n      <td>True</td>\n      <td>True</td>\n      <td>True</td>\n      <td>True</td>\n      <td>True</td>\n      <td>True</td>\n      <td>True</td>\n      <td>True</td>\n      <td>True</td>\n      <td>True</td>\n      <td>True</td>\n      <td>True</td>\n      <td>True</td>\n      <td>False</td>\n      <td>False</td>\n    </tr>\n    <tr>\n      <th>30/01/2021</th>\n      <td>True</td>\n      <td>True</td>\n      <td>True</td>\n      <td>True</td>\n      <td>True</td>\n      <td>True</td>\n      <td>True</td>\n      <td>True</td>\n      <td>True</td>\n      <td>True</td>\n      <td>True</td>\n      <td>True</td>\n      <td>True</td>\n      <td>True</td>\n      <td>True</td>\n      <td>False</td>\n      <td>False</td>\n    </tr>\n    <tr>\n      <th>31/01/2021</th>\n      <td>False</td>\n      <td>True</td>\n      <td>True</td>\n      <td>True</td>\n      <td>True</td>\n      <td>True</td>\n      <td>True</td>\n      <td>True</td>\n      <td>True</td>\n      <td>False</td>\n      <td>True</td>\n      <td>True</td>\n      <td>True</td>\n      <td>True</td>\n      <td>True</td>\n      <td>False</td>\n      <td>False</td>\n    </tr>\n    <tr>\n      <th>01/02/2021</th>\n      <td>True</td>\n      <td>True</td>\n      <td>True</td>\n      <td>True</td>\n      <td>True</td>\n      <td>True</td>\n      <td>True</td>\n      <td>True</td>\n      <td>True</td>\n      <td>True</td>\n      <td>True</td>\n      <td>True</td>\n      <td>True</td>\n      <td>True</td>\n      <td>True</td>\n      <td>True</td>\n      <td>True</td>\n    </tr>\n    <tr>\n      <th>02/02/2021</th>\n      <td>True</td>\n      <td>True</td>\n      <td>True</td>\n      <td>True</td>\n      <td>False</td>\n      <td>True</td>\n      <td>True</td>\n      <td>True</td>\n      <td>True</td>\n      <td>False</td>\n      <td>True</td>\n      <td>True</td>\n      <td>True</td>\n      <td>True</td>\n      <td>True</td>\n      <td>True</td>\n      <td>True</td>\n    </tr>\n  </tbody>\n</table>\n</div>"
     },
     "execution_count": 10,
     "metadata": {},
     "output_type": "execute_result"
    }
   ],
   "source": [
    "res = pd.DataFrame(results)\n",
    "res"
   ],
   "metadata": {
    "collapsed": false,
    "pycharm": {
     "name": "#%%\n"
    }
   }
  },
  {
   "cell_type": "code",
   "execution_count": null,
   "outputs": [],
   "source": [
    "res.rolling(window=7, min_periods=7).mean()"
   ],
   "metadata": {
    "collapsed": false,
    "pycharm": {
     "name": "#%%\n"
    }
   }
  },
  {
   "cell_type": "code",
   "execution_count": 11,
   "outputs": [],
   "source": [
    "dirname = os.path.abspath(os.path.abspath(''))\n",
    "filename = os.path.join(os.path.split(dirname)[0], 'log/daily_tasks.csv')\n",
    "res.to_csv(filename)\n"
   ],
   "metadata": {
    "collapsed": false,
    "pycharm": {
     "name": "#%%\n"
    }
   }
  },
  {
   "cell_type": "code",
   "execution_count": null,
   "outputs": [],
   "source": [
    "df = pd.read_csv(filename, index_col=0)\n",
    "# new_columns = df.columns.values\n",
    "# new_columns[0] = 'Date'"
   ],
   "metadata": {
    "collapsed": false,
    "pycharm": {
     "name": "#%%\n"
    }
   }
  },
  {
   "cell_type": "code",
   "execution_count": 14,
   "outputs": [],
   "source": [
    "def df_to_drive(folder, drive_api, df, title):\n",
    "    folder_id = drive_api.ListFile({'q': \"title='\" + folder + \"' and mimeType='application/vnd.google-apps.folder' and trashed=false\"}).GetList()[0]['id']\n",
    "    f = drive_api.CreateFile({'title': title, 'parents': [{'id': folder_id}]})\n",
    "    dirname = os.path.abspath(os.path.abspath(''))\n",
    "    filename = os.path.join(os.path.split(dirname)[0], 'log/{0}'.format(title))\n",
    "    df.to_csv(filename)\n",
    "    f.SetContentFile(filename)\n",
    "    f.Upload({'convert': False})"
   ],
   "metadata": {
    "collapsed": false,
    "pycharm": {
     "name": "#%%\n"
    }
   }
  },
  {
   "cell_type": "code",
   "execution_count": 16,
   "outputs": [
    {
     "name": "stdout",
     "output_type": "stream",
     "text": [
      "/home/rutger/PycharmProjects/todoist_habit_tracker/.config/.drive_credentials.json\n"
     ]
    }
   ],
   "source": [
    "from pydrive.auth import GoogleAuth\n",
    "from pydrive.drive import GoogleDrive\n",
    "gauth = GoogleAuth()\n",
    "dirname = os.path.abspath(os.path.abspath(''))\n",
    "filename = os.path.join(os.path.split(dirname)[0], '.config/.drive_credentials.json')\n",
    "print(filename)\n",
    "gauth.LoadCredentialsFile(filename)\n",
    "if gauth.access_token_expired:\n",
    "    gauth.Refresh()\n",
    "drive = GoogleDrive(gauth)\n",
    "df_to_drive('QS', drive, res.astype(int), 'daily_tasks.csv')\n",
    "\n",
    "\n"
   ],
   "metadata": {
    "collapsed": false,
    "pycharm": {
     "name": "#%%\n"
    }
   }
  },
  {
   "cell_type": "code",
   "execution_count": null,
   "outputs": [],
   "source": [],
   "metadata": {
    "collapsed": false,
    "pycharm": {
     "name": "#%%\n"
    }
   }
  }
 ],
 "metadata": {
  "kernelspec": {
   "display_name": "Python 3",
   "language": "python",
   "name": "python3"
  },
  "language_info": {
   "codemirror_mode": {
    "name": "ipython",
    "version": 2
   },
   "file_extension": ".py",
   "mimetype": "text/x-python",
   "name": "python",
   "nbconvert_exporter": "python",
   "pygments_lexer": "ipython2",
   "version": "2.7.6"
  }
 },
 "nbformat": 4,
 "nbformat_minor": 0
}