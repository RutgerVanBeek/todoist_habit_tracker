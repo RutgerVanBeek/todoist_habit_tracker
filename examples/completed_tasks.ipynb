{
 "cells": [
  {
   "cell_type": "code",
   "execution_count": 1,
   "outputs": [],
   "source": [
    "from todoist_habit_tracker.todoist_connection import TodoistConnection\n",
    "from todoist_habit_tracker.habit import Habit\n",
    "import os\n",
    "import pandas as pd\n",
    "from datetime import datetime\n",
    "\n",
    "def init_todoist():\n",
    "    dirname = os.path.abspath(os.path.abspath(''))\n",
    "    filename = os.path.join(os.path.split(dirname)[0], '.config/.todoist.txt')\n",
    "    todoist = TodoistConnection.from_config_file(filename)\n",
    "    return todoist\n",
    "\n",
    "def append_data(succes_dict):\n",
    "    dirname = os.path.abspath(os.path.abspath(''))\n",
    "    filename = os.path.join(os.path.split(dirname)[0], '.log/daily_tasks.csv')\n",
    "    try:\n",
    "        df = pd.read_csv(filename)\n",
    "    except FileNotFoundError:\n",
    "        return pd.DataFrame()"
   ],
   "metadata": {
    "collapsed": false,
    "pycharm": {
     "name": "#%%\n"
    }
   }
  },
  {
   "cell_type": "code",
   "execution_count": 2,
   "outputs": [
    {
     "name": "stdout",
     "output_type": "stream",
     "text": [
      "registration mode [daily]\n",
      "mail inbox check [daily]\n",
      "daily review [daily, later]\n",
      "stretching 1 [daily]\n",
      "apply ointment evening [daily]\n",
      "apply ointment morning [daily]\n",
      "meditate [daily]\n",
      "update crm [daily]\n",
      "stretching 2 [daily]\n",
      "stretchen 3 [daily]\n",
      "empty desk inbox daily [daily]\n",
      "shave [daily]\n",
      "eat fruit 1 [daily]\n",
      "eat fruit 2 [daily]\n",
      "check news [daily]\n",
      "{'registration mode': True, 'mail inbox check': True, 'daily review': True, 'stretching 1': True, 'apply ointment evening': True, 'apply ointment morning': True, 'meditate': False, 'update crm': True, 'stretching 2': False, 'stretchen 3': True, 'empty desk inbox daily': True, 'shave': True, 'eat fruit 1': True, 'eat fruit 2': True, 'check news': True}\n"
     ]
    }
   ],
   "source": [
    "LABEL = 'habit_automatic'\n",
    "todoist = init_todoist()\n",
    "\n",
    "TEST_PROJECT='habit_tracker_test'\n",
    "project_id = todoist.get_project_by_name(TEST_PROJECT)['id']\n",
    "# open data file\n",
    "label_id = todoist.get_label_by_name(LABEL)['id']\n",
    "habits = todoist.filter_tasks(lambda task: (label_id in task['labels']) and (project_id != task['project_id']))\n",
    "habit_objects = [Habit(habit, todoist, label_id) for habit in habits]\n",
    "succes = {}\n",
    "for habit in habit_objects:\n",
    "    succes[str(habit)] =  habit.done_yesterday()\n",
    "\n",
    "print(succes)\n",
    "\n"
   ],
   "metadata": {
    "collapsed": false,
    "pycharm": {
     "name": "#%%\n"
    }
   }
  },
  {
   "cell_type": "code",
   "execution_count": 3,
   "outputs": [],
   "source": [
    "def append_data(succes_dict):\n",
    "    dirname = os.path.abspath(os.path.abspath(''))\n",
    "    filename = os.path.join(os.path.split(dirname)[0], 'log/daily_tasks.csv')\n",
    "    try:\n",
    "        df = pd.read_csv(filename, index_col=0)\n",
    "        df = df.append(pd.DataFrame(succes, index=[datetime.today().strftime('%d/%m/%Y')]))\n",
    "    except FileNotFoundError:\n",
    "        df = pd.DataFrame(succes, index=[datetime.today().strftime('%d/%m/%Y')])\n",
    "        df.index.name = 'date'\n",
    "    df.to_csv(filename)\n"
   ],
   "metadata": {
    "collapsed": false,
    "pycharm": {
     "name": "#%%\n"
    }
   }
  },
  {
   "cell_type": "code",
   "execution_count": 38,
   "outputs": [
    {
     "name": "stdout",
     "output_type": "stream",
     "text": [
      "/home/rutger/PycharmProjects/todoist_habit_tracker/log/daily_tasks.csv\n",
      "            registration mode  mail inbox check  daily review  stretching 1  \\\n",
      "01/01/2021               True              True         False          True   \n",
      "01/02/2021              False              True         False          True   \n",
      "01/03/2021               True              True         False          True   \n",
      "01/04/2021              False              True         False          True   \n",
      "01/05/2021              False              True         False          True   \n",
      "01/06/2021              False              True         False          True   \n",
      "01/07/2021               True              True         False          True   \n",
      "01/08/2021               True              True         False          True   \n",
      "01/09/2021               True              True          True          True   \n",
      "01/10/2021               True              True          True          True   \n",
      "01/11/2021               True              True          True          True   \n",
      "01/12/2021               True              True          True          True   \n",
      "01/13/2021               True              True          True          True   \n",
      "01/14/2021               True              True         False          True   \n",
      "01/15/2021               True              True          True          True   \n",
      "01/16/2021               True              True          True          True   \n",
      "01/17/2021               True              True          True          True   \n",
      "01/18/2021               True              True          True          True   \n",
      "01/19/2021               True              True          True          True   \n",
      "01/20/2021               True              True          True          True   \n",
      "01/21/2021               True              True          True          True   \n",
      "01/22/2021               True              True          True          True   \n",
      "01/23/2021               True              True          True          True   \n",
      "01/24/2021               True              True          True          True   \n",
      "01/25/2021               True              True          True          True   \n",
      "01/26/2021               True              True          True          True   \n",
      "27/01/2021               True              True          True          True   \n",
      "\n",
      "            apply ointment evening  apply ointment morning  meditate  \\\n",
      "01/01/2021                    True                    True      True   \n",
      "01/02/2021                   False                    True     False   \n",
      "01/03/2021                    True                    True      True   \n",
      "01/04/2021                    True                    True      True   \n",
      "01/05/2021                    True                    True      True   \n",
      "01/06/2021                    True                    True      True   \n",
      "01/07/2021                    True                    True      True   \n",
      "01/08/2021                    True                    True      True   \n",
      "01/09/2021                    True                    True      True   \n",
      "01/10/2021                    True                    True      True   \n",
      "01/11/2021                   False                    True      True   \n",
      "01/12/2021                    True                    True      True   \n",
      "01/13/2021                    True                    True      True   \n",
      "01/14/2021                   False                    True      True   \n",
      "01/15/2021                   False                    True      True   \n",
      "01/16/2021                   False                    True      True   \n",
      "01/17/2021                   False                    True      True   \n",
      "01/18/2021                   False                    True      True   \n",
      "01/19/2021                   False                    True      True   \n",
      "01/20/2021                    True                    True      True   \n",
      "01/21/2021                    True                    True      True   \n",
      "01/22/2021                    True                    True      True   \n",
      "01/23/2021                    True                    True      True   \n",
      "01/24/2021                    True                    True      True   \n",
      "01/25/2021                   False                    True      True   \n",
      "01/26/2021                    True                    True      True   \n",
      "27/01/2021                    True                    True     False   \n",
      "\n",
      "            update crm  stretching 2  stretchen 3  empty desk inbox daily  \\\n",
      "01/01/2021        True          True         True                    True   \n",
      "01/02/2021       False          True        False                    True   \n",
      "01/03/2021        True          True         True                    True   \n",
      "01/04/2021        True          True         True                    True   \n",
      "01/05/2021        True          True         True                    True   \n",
      "01/06/2021        True          True        False                    True   \n",
      "01/07/2021        True          True         True                    True   \n",
      "01/08/2021        True          True        False                    True   \n",
      "01/09/2021        True          True         True                    True   \n",
      "01/10/2021        True          True         True                    True   \n",
      "01/11/2021        True          True         True                    True   \n",
      "01/12/2021        True          True         True                    True   \n",
      "01/13/2021        True          True         True                    True   \n",
      "01/14/2021        True          True        False                    True   \n",
      "01/15/2021        True         False        False                    True   \n",
      "01/16/2021        True          True        False                    True   \n",
      "01/17/2021        True          True        False                    True   \n",
      "01/18/2021        True          True         True                    True   \n",
      "01/19/2021        True          True        False                    True   \n",
      "01/20/2021        True          True         True                    True   \n",
      "01/21/2021        True          True        False                    True   \n",
      "01/22/2021        True          True         True                    True   \n",
      "01/23/2021        True          True         True                    True   \n",
      "01/24/2021        True          True         True                    True   \n",
      "01/25/2021        True          True        False                    True   \n",
      "01/26/2021        True          True         True                    True   \n",
      "27/01/2021        True         False         True                    True   \n",
      "\n",
      "            shave  eat fruit 1  eat fruit 2  check news  \n",
      "01/01/2021   True        False        False       False  \n",
      "01/02/2021  False        False        False       False  \n",
      "01/03/2021   True        False        False       False  \n",
      "01/04/2021   True        False        False       False  \n",
      "01/05/2021   True        False        False       False  \n",
      "01/06/2021   True        False        False       False  \n",
      "01/07/2021   True        False        False       False  \n",
      "01/08/2021   True        False        False       False  \n",
      "01/09/2021   True        False        False       False  \n",
      "01/10/2021   True        False        False       False  \n",
      "01/11/2021   True        False        False       False  \n",
      "01/12/2021   True        False        False       False  \n",
      "01/13/2021   True        False        False       False  \n",
      "01/14/2021   True        False        False       False  \n",
      "01/15/2021   True        False        False       False  \n",
      "01/16/2021  False        False        False       False  \n",
      "01/17/2021   True        False        False       False  \n",
      "01/18/2021   True        False        False       False  \n",
      "01/19/2021   True         True         True       False  \n",
      "01/20/2021   True         True         True        True  \n",
      "01/21/2021  False         True         True        True  \n",
      "01/22/2021   True         True         True        True  \n",
      "01/23/2021   True         True         True        True  \n",
      "01/24/2021   True         True         True        True  \n",
      "01/25/2021   True         True         True        True  \n",
      "01/26/2021   True         True         True        True  \n",
      "27/01/2021   True         True         True        True  \n"
     ]
    }
   ],
   "source": [
    "append_data(succes)\n"
   ],
   "metadata": {
    "collapsed": false,
    "pycharm": {
     "name": "#%%\n"
    }
   }
  },
  {
   "cell_type": "code",
   "execution_count": 60,
   "outputs": [],
   "source": [
    "df_test = pd.read_csv('/home/rutger/PycharmProjects/todoist_habit_tracker/log/daily_tasks.csv', index_col='date')"
   ],
   "metadata": {
    "collapsed": false,
    "pycharm": {
     "name": "#%%\n"
    }
   }
  },
  {
   "cell_type": "code",
   "execution_count": 61,
   "outputs": [
    {
     "data": {
      "text/plain": "            registration mode  mail inbox check  daily review  stretching 1  \\\ndate                                                                          \n01/23/2021               True              True          True          True   \n\n            apply ointment evening  apply ointment morning  meditate  \\\ndate                                                                   \n01/23/2021                    True                    True      True   \n\n            update crm  stretching 2  stretchen 3  empty desk inbox daily  \\\ndate                                                                        \n01/23/2021        True          True         True                    True   \n\n            shave  eat fruit 1  eat fruit 2  check news   test  \ndate                                                            \n01/23/2021   True        False         True        True  False  ",
      "text/html": "<div>\n<style scoped>\n    .dataframe tbody tr th:only-of-type {\n        vertical-align: middle;\n    }\n\n    .dataframe tbody tr th {\n        vertical-align: top;\n    }\n\n    .dataframe thead th {\n        text-align: right;\n    }\n</style>\n<table border=\"1\" class=\"dataframe\">\n  <thead>\n    <tr style=\"text-align: right;\">\n      <th></th>\n      <th>registration mode</th>\n      <th>mail inbox check</th>\n      <th>daily review</th>\n      <th>stretching 1</th>\n      <th>apply ointment evening</th>\n      <th>apply ointment morning</th>\n      <th>meditate</th>\n      <th>update crm</th>\n      <th>stretching 2</th>\n      <th>stretchen 3</th>\n      <th>empty desk inbox daily</th>\n      <th>shave</th>\n      <th>eat fruit 1</th>\n      <th>eat fruit 2</th>\n      <th>check news</th>\n      <th>test</th>\n    </tr>\n    <tr>\n      <th>date</th>\n      <th></th>\n      <th></th>\n      <th></th>\n      <th></th>\n      <th></th>\n      <th></th>\n      <th></th>\n      <th></th>\n      <th></th>\n      <th></th>\n      <th></th>\n      <th></th>\n      <th></th>\n      <th></th>\n      <th></th>\n      <th></th>\n    </tr>\n  </thead>\n  <tbody>\n    <tr>\n      <th>01/23/2021</th>\n      <td>True</td>\n      <td>True</td>\n      <td>True</td>\n      <td>True</td>\n      <td>True</td>\n      <td>True</td>\n      <td>True</td>\n      <td>True</td>\n      <td>True</td>\n      <td>True</td>\n      <td>True</td>\n      <td>True</td>\n      <td>False</td>\n      <td>True</td>\n      <td>True</td>\n      <td>False</td>\n    </tr>\n  </tbody>\n</table>\n</div>"
     },
     "execution_count": 61,
     "metadata": {},
     "output_type": "execute_result"
    }
   ],
   "source": [
    "df_test"
   ],
   "metadata": {
    "collapsed": false,
    "pycharm": {
     "name": "#%%\n"
    }
   }
  },
  {
   "cell_type": "code",
   "execution_count": 4,
   "outputs": [],
   "source": [
    "year=2021\n",
    "month=1\n",
    "comp_task = [todoist.get_completed_tasks(year=year, month=month, day=day)['items'] for day in range(1, 27)]"
   ],
   "metadata": {
    "collapsed": false,
    "pycharm": {
     "name": "#%%\n"
    }
   }
  },
  {
   "cell_type": "code",
   "execution_count": 8,
   "outputs": [
    {
     "data": {
      "text/plain": "[{'completed_date': '2021-01-26T20:45:07Z',\n  'content': 'daily review @habit @evening @computer',\n  'id': 4228041349,\n  'meta_data': None,\n  'project_id': 2245640837,\n  'task_id': 4523976854,\n  'user_id': 15358147},\n {'completed_date': '2021-01-26T20:45:04Z',\n  'content': 'update exist',\n  'id': 4228041243,\n  'meta_data': None,\n  'project_id': 2245640837,\n  'task_id': 4523976897,\n  'user_id': 15358147},\n {'completed_date': '2021-01-26T20:38:27Z',\n  'content': 'plan task for next day',\n  'id': 4228026861,\n  'meta_data': None,\n  'project_id': 2245640837,\n  'task_id': 4523976893,\n  'user_id': 15358147},\n {'completed_date': '2021-01-26T20:38:25Z',\n  'content': 'read week focus',\n  'id': 4228026786,\n  'meta_data': None,\n  'project_id': 2245640837,\n  'task_id': 4523976877,\n  'user_id': 15358147},\n {'completed_date': '2021-01-26T20:36:14Z',\n  'content': 'eat fruit 2 @habit @5_minutes',\n  'id': 4228021974,\n  'meta_data': None,\n  'project_id': 2245640739,\n  'task_id': 4523977030,\n  'user_id': 15358147},\n {'completed_date': '2021-01-26T20:35:41Z',\n  'content': 'look at already planned stuff',\n  'id': 4228020717,\n  'meta_data': None,\n  'project_id': 2245640837,\n  'task_id': 4523976863,\n  'user_id': 15358147},\n {'completed_date': '2021-01-26T20:35:05Z',\n  'content': 'empty Todoist inbox',\n  'id': 4228019503,\n  'meta_data': None,\n  'project_id': 2245640837,\n  'task_id': 4523976857,\n  'user_id': 15358147},\n {'completed_date': '2021-01-26T20:35:00Z',\n  'content': 'update crm @habit @evening',\n  'id': 4228019357,\n  'meta_data': None,\n  'project_id': 2245640786,\n  'task_id': 4523976945,\n  'user_id': 15358147},\n {'completed_date': '2021-01-26T20:33:34Z',\n  'content': 'stretchen 3 @habit',\n  'id': 4228016282,\n  'meta_data': None,\n  'project_id': 2245640739,\n  'task_id': 4523976976,\n  'user_id': 15358147},\n {'completed_date': '2021-01-26T20:33:31Z',\n  'content': 'reflect on irritating situation',\n  'id': 4228016154,\n  'meta_data': None,\n  'project_id': 2254060408,\n  'task_id': 4517005705,\n  'user_id': 15358147},\n {'completed_date': '2021-01-26T20:28:59Z',\n  'content': 'go trough other old exams and answers @upcoming_week @3_pomodoro',\n  'id': 4228006196,\n  'meta_data': None,\n  'project_id': 2245640078,\n  'task_id': 4518087925,\n  'user_id': 15358147},\n {'completed_date': '2021-01-26T19:48:04Z',\n  'content': 'Velvet met huis @appointment',\n  'id': 4227917423,\n  'meta_data': None,\n  'project_id': 2245640786,\n  'task_id': 4525550687,\n  'user_id': 15358147},\n {'completed_date': '2021-01-26T18:22:40Z',\n  'content': 'empty desk inbox daily @habit',\n  'id': 4227725519,\n  'meta_data': None,\n  'project_id': 2245640837,\n  'task_id': 4523977000,\n  'user_id': 15358147},\n {'completed_date': '2021-01-26T18:22:40Z',\n  'content': 'registration mode @habit',\n  'id': 4227725514,\n  'meta_data': None,\n  'project_id': 2245641603,\n  'task_id': 4523976838,\n  'user_id': 15358147},\n {'completed_date': '2021-01-26T17:19:30Z',\n  'content': 'look into old True/False questions',\n  'id': 4227572675,\n  'meta_data': None,\n  'project_id': 2245640078,\n  'task_id': 4525557382,\n  'user_id': 15358147},\n {'completed_date': '2021-01-26T17:13:59Z',\n  'content': 'apply ointment evening @habit @evening',\n  'id': 4227558794,\n  'meta_data': None,\n  'project_id': 2245640739,\n  'task_id': 4523976913,\n  'user_id': 15358147},\n {'completed_date': '2021-01-26T16:54:57Z',\n  'content': 'resistance run @upcoming_week',\n  'id': 4227508559,\n  'meta_data': None,\n  'project_id': 2254060310,\n  'task_id': 4518124605,\n  'user_id': 15358147},\n {'completed_date': '2021-01-26T16:54:57Z',\n  'content': 'home workout 2 @upcoming_week',\n  'id': 4227508551,\n  'meta_data': None,\n  'project_id': 2245640412,\n  'task_id': 4518123281,\n  'user_id': 15358147},\n {'completed_date': '2021-01-26T16:54:56Z',\n  'content': 'workout 1 @upcoming_week',\n  'id': 4227508541,\n  'meta_data': None,\n  'project_id': 2245640412,\n  'task_id': 4518123558,\n  'user_id': 15358147},\n {'completed_date': '2021-01-26T16:52:30Z',\n  'content': 'eat fruit 1 @habit @5_minutes',\n  'id': 4227501757,\n  'meta_data': None,\n  'project_id': 2245640739,\n  'task_id': 4523977026,\n  'user_id': 15358147},\n {'completed_date': '2021-01-26T16:49:30Z',\n  'content': 'discuss practice exam @upcoming_week @appointment',\n  'id': 4227493936,\n  'meta_data': None,\n  'project_id': 2249598916,\n  'task_id': 4522568275,\n  'user_id': 15358147},\n {'completed_date': '2021-01-26T16:49:14Z',\n  'content': 'make exam check list',\n  'id': 4227493161,\n  'meta_data': None,\n  'project_id': 2245640078,\n  'task_id': 4522932132,\n  'user_id': 15358147},\n {'completed_date': '2021-01-26T15:49:36Z',\n  'content': 'running with Hidde @appointment',\n  'id': 4227334247,\n  'meta_data': None,\n  'project_id': 2245640786,\n  'task_id': 4518083888,\n  'user_id': 15358147},\n {'completed_date': '2021-01-26T12:51:18Z',\n  'content': 'meditate @habit',\n  'id': 4226880281,\n  'meta_data': None,\n  'project_id': 2245641603,\n  'task_id': 4523976933,\n  'user_id': 15358147},\n {'completed_date': '2021-01-26T12:39:56Z',\n  'content': 'stretching 2 @habit',\n  'id': 4226856170,\n  'meta_data': None,\n  'project_id': 2245640739,\n  'task_id': 4523976964,\n  'user_id': 15358147},\n {'completed_date': '2021-01-26T12:37:33Z',\n  'content': 'trainings checklist @5_minutes',\n  'id': 4226851067,\n  'meta_data': None,\n  'project_id': 2245639901,\n  'task_id': 4522675072,\n  'user_id': 15358147},\n {'completed_date': '2021-01-26T11:34:46Z',\n  'content': 'go trough old exercises brownian Motion @upcoming_week @2_pomodoro',\n  'id': 4226727993,\n  'meta_data': None,\n  'project_id': 2245640078,\n  'task_id': 4518087453,\n  'user_id': 15358147},\n {'completed_date': '2021-01-26T11:26:37Z',\n  'content': 'check news @habit',\n  'id': 4226712578,\n  'meta_data': None,\n  'project_id': 2245642080,\n  'task_id': 4523977040,\n  'user_id': 15358147},\n {'completed_date': '2021-01-26T11:20:28Z',\n  'content': 'make practice exam 2 @upcoming_week @4_pomodoro',\n  'id': 4226700708,\n  'meta_data': None,\n  'project_id': 2245640078,\n  'task_id': 4518086698,\n  'user_id': 15358147},\n {'completed_date': '2021-01-26T09:54:30Z',\n  'content': 'shave @habit @5_minutes',\n  'id': 4226542123,\n  'meta_data': None,\n  'project_id': 2245640739,\n  'task_id': 4523977009,\n  'user_id': 15358147},\n {'completed_date': '2021-01-26T09:54:30Z',\n  'content': 'mouth wash @habit @5_minutes',\n  'id': 4226542118,\n  'meta_data': None,\n  'project_id': 2245640739,\n  'task_id': 4364775232,\n  'user_id': 15358147},\n {'completed_date': '2021-01-26T08:56:40Z',\n  'content': 'mail inbox check @habit @5_minutes @computer',\n  'id': 4226435999,\n  'meta_data': None,\n  'project_id': 2245642080,\n  'task_id': 4523976846,\n  'user_id': 15358147},\n {'completed_date': '2021-01-26T07:44:49Z',\n  'content': 'stretching 1 @habit',\n  'id': 4226311404,\n  'meta_data': None,\n  'project_id': 2245640739,\n  'task_id': 4523976906,\n  'user_id': 15358147},\n {'completed_date': '2021-01-26T07:44:49Z',\n  'content': 'apply ointment morning @habit @morning',\n  'id': 4226311401,\n  'meta_data': None,\n  'project_id': 2245640739,\n  'task_id': 4523976922,\n  'user_id': 15358147},\n {'completed_date': '2021-01-26T07:02:55Z',\n  'content': 'Drink water @habit @morning',\n  'id': 4226248551,\n  'meta_data': None,\n  'project_id': 2245640739,\n  'task_id': 4377238168,\n  'user_id': 15358147},\n {'completed_date': '2021-01-26T07:02:55Z',\n  'content': 'morning workout @habit @morning',\n  'id': 4226248547,\n  'meta_data': None,\n  'project_id': 2245640412,\n  'task_id': 4264615262,\n  'user_id': 15358147},\n {'completed_date': '2021-01-26T07:02:49Z',\n  'content': 'stretchen 3 @habit',\n  'id': 4226248420,\n  'meta_data': None,\n  'project_id': 2245640739,\n  'task_id': 4520496210,\n  'user_id': 15358147},\n {'completed_date': '2021-01-26T07:02:49Z',\n  'content': 'apply ointment evening @habit @evening',\n  'id': 4226248419,\n  'meta_data': None,\n  'project_id': 2245640739,\n  'task_id': 4520496136,\n  'user_id': 15358147}]"
     },
     "execution_count": 8,
     "metadata": {},
     "output_type": "execute_result"
    }
   ],
   "source": [
    "comp_task[-1]"
   ],
   "metadata": {
    "collapsed": false,
    "pycharm": {
     "name": "#%%\n"
    }
   }
  },
  {
   "cell_type": "code",
   "execution_count": 5,
   "outputs": [],
   "source": [
    "import re\n",
    "results = {}\n",
    "for habit in habit_objects:\n",
    "    results[str(habit)]= {}\n",
    "    for day in range(1, 27):\n",
    "        contents = [re.sub('@.* ', '', c['content']) for c in comp_task[day-1]]\n",
    "        contents = [re.sub('@.*', '', c).strip() for c in contents]\n",
    "        results[str(habit)][datetime(year=2021, month=1, day=day).strftime('%d/%m/%Y')] = habit.content in contents"
   ],
   "metadata": {
    "collapsed": false,
    "pycharm": {
     "name": "#%%\n"
    }
   }
  },
  {
   "cell_type": "code",
   "execution_count": 22,
   "outputs": [
    {
     "data": {
      "text/plain": "{'registration mode': {'01/01/2021': True,\n  '01/02/2021': False,\n  '01/03/2021': True,\n  '01/04/2021': False,\n  '01/05/2021': False,\n  '01/06/2021': False,\n  '01/07/2021': True,\n  '01/08/2021': True,\n  '01/09/2021': True,\n  '01/10/2021': True,\n  '01/11/2021': True,\n  '01/12/2021': True,\n  '01/13/2021': True,\n  '01/14/2021': True,\n  '01/15/2021': True,\n  '01/16/2021': True,\n  '01/17/2021': True,\n  '01/18/2021': True,\n  '01/19/2021': True,\n  '01/20/2021': True,\n  '01/21/2021': True,\n  '01/22/2021': True,\n  '01/23/2021': True,\n  '01/24/2021': True,\n  '01/25/2021': True,\n  '01/26/2021': True},\n 'mail inbox check': {'01/01/2021': True,\n  '01/02/2021': True,\n  '01/03/2021': True,\n  '01/04/2021': True,\n  '01/05/2021': True,\n  '01/06/2021': True,\n  '01/07/2021': True,\n  '01/08/2021': True,\n  '01/09/2021': True,\n  '01/10/2021': True,\n  '01/11/2021': True,\n  '01/12/2021': True,\n  '01/13/2021': True,\n  '01/14/2021': True,\n  '01/15/2021': True,\n  '01/16/2021': True,\n  '01/17/2021': True,\n  '01/18/2021': True,\n  '01/19/2021': True,\n  '01/20/2021': True,\n  '01/21/2021': True,\n  '01/22/2021': True,\n  '01/23/2021': True,\n  '01/24/2021': True,\n  '01/25/2021': True,\n  '01/26/2021': True},\n 'daily review': {'01/01/2021': False,\n  '01/02/2021': False,\n  '01/03/2021': False,\n  '01/04/2021': False,\n  '01/05/2021': False,\n  '01/06/2021': False,\n  '01/07/2021': False,\n  '01/08/2021': False,\n  '01/09/2021': True,\n  '01/10/2021': True,\n  '01/11/2021': True,\n  '01/12/2021': True,\n  '01/13/2021': True,\n  '01/14/2021': False,\n  '01/15/2021': True,\n  '01/16/2021': True,\n  '01/17/2021': True,\n  '01/18/2021': True,\n  '01/19/2021': True,\n  '01/20/2021': True,\n  '01/21/2021': True,\n  '01/22/2021': True,\n  '01/23/2021': True,\n  '01/24/2021': True,\n  '01/25/2021': True,\n  '01/26/2021': True},\n 'stretching 1': {'01/01/2021': True,\n  '01/02/2021': True,\n  '01/03/2021': True,\n  '01/04/2021': True,\n  '01/05/2021': True,\n  '01/06/2021': True,\n  '01/07/2021': True,\n  '01/08/2021': True,\n  '01/09/2021': True,\n  '01/10/2021': True,\n  '01/11/2021': True,\n  '01/12/2021': True,\n  '01/13/2021': True,\n  '01/14/2021': True,\n  '01/15/2021': True,\n  '01/16/2021': True,\n  '01/17/2021': True,\n  '01/18/2021': True,\n  '01/19/2021': True,\n  '01/20/2021': True,\n  '01/21/2021': True,\n  '01/22/2021': True,\n  '01/23/2021': True,\n  '01/24/2021': True,\n  '01/25/2021': True,\n  '01/26/2021': True},\n 'apply ointment evening': {'01/01/2021': True,\n  '01/02/2021': False,\n  '01/03/2021': True,\n  '01/04/2021': True,\n  '01/05/2021': True,\n  '01/06/2021': True,\n  '01/07/2021': True,\n  '01/08/2021': True,\n  '01/09/2021': True,\n  '01/10/2021': True,\n  '01/11/2021': False,\n  '01/12/2021': True,\n  '01/13/2021': True,\n  '01/14/2021': False,\n  '01/15/2021': False,\n  '01/16/2021': False,\n  '01/17/2021': False,\n  '01/18/2021': False,\n  '01/19/2021': False,\n  '01/20/2021': True,\n  '01/21/2021': True,\n  '01/22/2021': True,\n  '01/23/2021': True,\n  '01/24/2021': True,\n  '01/25/2021': False,\n  '01/26/2021': True},\n 'apply ointment morning': {'01/01/2021': True,\n  '01/02/2021': True,\n  '01/03/2021': True,\n  '01/04/2021': True,\n  '01/05/2021': True,\n  '01/06/2021': True,\n  '01/07/2021': True,\n  '01/08/2021': True,\n  '01/09/2021': True,\n  '01/10/2021': True,\n  '01/11/2021': True,\n  '01/12/2021': True,\n  '01/13/2021': True,\n  '01/14/2021': True,\n  '01/15/2021': True,\n  '01/16/2021': True,\n  '01/17/2021': True,\n  '01/18/2021': True,\n  '01/19/2021': True,\n  '01/20/2021': True,\n  '01/21/2021': True,\n  '01/22/2021': True,\n  '01/23/2021': True,\n  '01/24/2021': True,\n  '01/25/2021': True,\n  '01/26/2021': True},\n 'meditate': {'01/01/2021': True,\n  '01/02/2021': False,\n  '01/03/2021': True,\n  '01/04/2021': True,\n  '01/05/2021': True,\n  '01/06/2021': True,\n  '01/07/2021': True,\n  '01/08/2021': True,\n  '01/09/2021': True,\n  '01/10/2021': True,\n  '01/11/2021': True,\n  '01/12/2021': True,\n  '01/13/2021': True,\n  '01/14/2021': True,\n  '01/15/2021': True,\n  '01/16/2021': True,\n  '01/17/2021': True,\n  '01/18/2021': True,\n  '01/19/2021': True,\n  '01/20/2021': True,\n  '01/21/2021': True,\n  '01/22/2021': True,\n  '01/23/2021': True,\n  '01/24/2021': True,\n  '01/25/2021': True,\n  '01/26/2021': True},\n 'update crm': {'01/01/2021': True,\n  '01/02/2021': False,\n  '01/03/2021': True,\n  '01/04/2021': True,\n  '01/05/2021': True,\n  '01/06/2021': True,\n  '01/07/2021': True,\n  '01/08/2021': True,\n  '01/09/2021': True,\n  '01/10/2021': True,\n  '01/11/2021': True,\n  '01/12/2021': True,\n  '01/13/2021': True,\n  '01/14/2021': True,\n  '01/15/2021': True,\n  '01/16/2021': True,\n  '01/17/2021': True,\n  '01/18/2021': True,\n  '01/19/2021': True,\n  '01/20/2021': True,\n  '01/21/2021': True,\n  '01/22/2021': True,\n  '01/23/2021': True,\n  '01/24/2021': True,\n  '01/25/2021': True,\n  '01/26/2021': True},\n 'stretching 2': {'01/01/2021': True,\n  '01/02/2021': True,\n  '01/03/2021': True,\n  '01/04/2021': True,\n  '01/05/2021': True,\n  '01/06/2021': True,\n  '01/07/2021': True,\n  '01/08/2021': True,\n  '01/09/2021': True,\n  '01/10/2021': True,\n  '01/11/2021': True,\n  '01/12/2021': True,\n  '01/13/2021': True,\n  '01/14/2021': True,\n  '01/15/2021': False,\n  '01/16/2021': True,\n  '01/17/2021': True,\n  '01/18/2021': True,\n  '01/19/2021': True,\n  '01/20/2021': True,\n  '01/21/2021': True,\n  '01/22/2021': True,\n  '01/23/2021': True,\n  '01/24/2021': True,\n  '01/25/2021': True,\n  '01/26/2021': True},\n 'stretchen 3': {'01/01/2021': True,\n  '01/02/2021': False,\n  '01/03/2021': True,\n  '01/04/2021': True,\n  '01/05/2021': True,\n  '01/06/2021': False,\n  '01/07/2021': True,\n  '01/08/2021': False,\n  '01/09/2021': True,\n  '01/10/2021': True,\n  '01/11/2021': True,\n  '01/12/2021': True,\n  '01/13/2021': True,\n  '01/14/2021': False,\n  '01/15/2021': False,\n  '01/16/2021': False,\n  '01/17/2021': False,\n  '01/18/2021': True,\n  '01/19/2021': False,\n  '01/20/2021': True,\n  '01/21/2021': False,\n  '01/22/2021': True,\n  '01/23/2021': True,\n  '01/24/2021': True,\n  '01/25/2021': False,\n  '01/26/2021': True},\n 'empty desk inbox daily': {'01/01/2021': True,\n  '01/02/2021': True,\n  '01/03/2021': True,\n  '01/04/2021': True,\n  '01/05/2021': True,\n  '01/06/2021': True,\n  '01/07/2021': True,\n  '01/08/2021': True,\n  '01/09/2021': True,\n  '01/10/2021': True,\n  '01/11/2021': True,\n  '01/12/2021': True,\n  '01/13/2021': True,\n  '01/14/2021': True,\n  '01/15/2021': True,\n  '01/16/2021': True,\n  '01/17/2021': True,\n  '01/18/2021': True,\n  '01/19/2021': True,\n  '01/20/2021': True,\n  '01/21/2021': True,\n  '01/22/2021': True,\n  '01/23/2021': True,\n  '01/24/2021': True,\n  '01/25/2021': True,\n  '01/26/2021': True},\n 'shave': {'01/01/2021': True,\n  '01/02/2021': False,\n  '01/03/2021': True,\n  '01/04/2021': True,\n  '01/05/2021': True,\n  '01/06/2021': True,\n  '01/07/2021': True,\n  '01/08/2021': True,\n  '01/09/2021': True,\n  '01/10/2021': True,\n  '01/11/2021': True,\n  '01/12/2021': True,\n  '01/13/2021': True,\n  '01/14/2021': True,\n  '01/15/2021': True,\n  '01/16/2021': False,\n  '01/17/2021': True,\n  '01/18/2021': True,\n  '01/19/2021': True,\n  '01/20/2021': True,\n  '01/21/2021': False,\n  '01/22/2021': True,\n  '01/23/2021': True,\n  '01/24/2021': True,\n  '01/25/2021': True,\n  '01/26/2021': True},\n 'eat fruit 1': {'01/01/2021': False,\n  '01/02/2021': False,\n  '01/03/2021': False,\n  '01/04/2021': False,\n  '01/05/2021': False,\n  '01/06/2021': False,\n  '01/07/2021': False,\n  '01/08/2021': False,\n  '01/09/2021': False,\n  '01/10/2021': False,\n  '01/11/2021': False,\n  '01/12/2021': False,\n  '01/13/2021': False,\n  '01/14/2021': False,\n  '01/15/2021': False,\n  '01/16/2021': False,\n  '01/17/2021': False,\n  '01/18/2021': False,\n  '01/19/2021': True,\n  '01/20/2021': True,\n  '01/21/2021': True,\n  '01/22/2021': True,\n  '01/23/2021': True,\n  '01/24/2021': True,\n  '01/25/2021': True,\n  '01/26/2021': True},\n 'eat fruit 2': {'01/01/2021': False,\n  '01/02/2021': False,\n  '01/03/2021': False,\n  '01/04/2021': False,\n  '01/05/2021': False,\n  '01/06/2021': False,\n  '01/07/2021': False,\n  '01/08/2021': False,\n  '01/09/2021': False,\n  '01/10/2021': False,\n  '01/11/2021': False,\n  '01/12/2021': False,\n  '01/13/2021': False,\n  '01/14/2021': False,\n  '01/15/2021': False,\n  '01/16/2021': False,\n  '01/17/2021': False,\n  '01/18/2021': False,\n  '01/19/2021': True,\n  '01/20/2021': True,\n  '01/21/2021': True,\n  '01/22/2021': True,\n  '01/23/2021': True,\n  '01/24/2021': True,\n  '01/25/2021': True,\n  '01/26/2021': True},\n 'check news': {'01/01/2021': False,\n  '01/02/2021': False,\n  '01/03/2021': False,\n  '01/04/2021': False,\n  '01/05/2021': False,\n  '01/06/2021': False,\n  '01/07/2021': False,\n  '01/08/2021': False,\n  '01/09/2021': False,\n  '01/10/2021': False,\n  '01/11/2021': False,\n  '01/12/2021': False,\n  '01/13/2021': False,\n  '01/14/2021': False,\n  '01/15/2021': False,\n  '01/16/2021': False,\n  '01/17/2021': False,\n  '01/18/2021': False,\n  '01/19/2021': False,\n  '01/20/2021': True,\n  '01/21/2021': True,\n  '01/22/2021': True,\n  '01/23/2021': True,\n  '01/24/2021': True,\n  '01/25/2021': True,\n  '01/26/2021': True}}"
     },
     "execution_count": 22,
     "metadata": {},
     "output_type": "execute_result"
    }
   ],
   "source": [
    "results"
   ],
   "metadata": {
    "collapsed": false,
    "pycharm": {
     "name": "#%%\n"
    }
   }
  },
  {
   "cell_type": "code",
   "execution_count": 7,
   "outputs": [],
   "source": [
    "res = pd.DataFrame(results)"
   ],
   "metadata": {
    "collapsed": false,
    "pycharm": {
     "name": "#%%\n"
    }
   }
  },
  {
   "cell_type": "code",
   "execution_count": 25,
   "outputs": [
    {
     "data": {
      "text/plain": "            registration mode  mail inbox check  daily review  stretching 1  \\\n01/01/2021                NaN               NaN           NaN           NaN   \n01/02/2021                NaN               NaN           NaN           NaN   \n01/03/2021                NaN               NaN           NaN           NaN   \n01/04/2021                NaN               NaN           NaN           NaN   \n01/05/2021                NaN               NaN           NaN           NaN   \n01/06/2021                NaN               NaN           NaN           NaN   \n01/07/2021           0.428571               1.0      0.000000           1.0   \n01/08/2021           0.428571               1.0      0.000000           1.0   \n01/09/2021           0.571429               1.0      0.142857           1.0   \n01/10/2021           0.571429               1.0      0.285714           1.0   \n01/11/2021           0.714286               1.0      0.428571           1.0   \n01/12/2021           0.857143               1.0      0.571429           1.0   \n01/13/2021           1.000000               1.0      0.714286           1.0   \n01/14/2021           1.000000               1.0      0.714286           1.0   \n01/15/2021           1.000000               1.0      0.857143           1.0   \n01/16/2021           1.000000               1.0      0.857143           1.0   \n01/17/2021           1.000000               1.0      0.857143           1.0   \n01/18/2021           1.000000               1.0      0.857143           1.0   \n01/19/2021           1.000000               1.0      0.857143           1.0   \n01/20/2021           1.000000               1.0      0.857143           1.0   \n01/21/2021           1.000000               1.0      1.000000           1.0   \n01/22/2021           1.000000               1.0      1.000000           1.0   \n01/23/2021           1.000000               1.0      1.000000           1.0   \n01/24/2021           1.000000               1.0      1.000000           1.0   \n01/25/2021           1.000000               1.0      1.000000           1.0   \n01/26/2021           1.000000               1.0      1.000000           1.0   \n\n            apply ointment evening  apply ointment morning  meditate  \\\n01/01/2021                     NaN                     NaN       NaN   \n01/02/2021                     NaN                     NaN       NaN   \n01/03/2021                     NaN                     NaN       NaN   \n01/04/2021                     NaN                     NaN       NaN   \n01/05/2021                     NaN                     NaN       NaN   \n01/06/2021                     NaN                     NaN       NaN   \n01/07/2021                0.857143                     1.0  0.857143   \n01/08/2021                0.857143                     1.0  0.857143   \n01/09/2021                1.000000                     1.0  1.000000   \n01/10/2021                1.000000                     1.0  1.000000   \n01/11/2021                0.857143                     1.0  1.000000   \n01/12/2021                0.857143                     1.0  1.000000   \n01/13/2021                0.857143                     1.0  1.000000   \n01/14/2021                0.714286                     1.0  1.000000   \n01/15/2021                0.571429                     1.0  1.000000   \n01/16/2021                0.428571                     1.0  1.000000   \n01/17/2021                0.285714                     1.0  1.000000   \n01/18/2021                0.285714                     1.0  1.000000   \n01/19/2021                0.142857                     1.0  1.000000   \n01/20/2021                0.142857                     1.0  1.000000   \n01/21/2021                0.285714                     1.0  1.000000   \n01/22/2021                0.428571                     1.0  1.000000   \n01/23/2021                0.571429                     1.0  1.000000   \n01/24/2021                0.714286                     1.0  1.000000   \n01/25/2021                0.714286                     1.0  1.000000   \n01/26/2021                0.857143                     1.0  1.000000   \n\n            update crm  stretching 2  stretchen 3  empty desk inbox daily  \\\n01/01/2021         NaN           NaN          NaN                     NaN   \n01/02/2021         NaN           NaN          NaN                     NaN   \n01/03/2021         NaN           NaN          NaN                     NaN   \n01/04/2021         NaN           NaN          NaN                     NaN   \n01/05/2021         NaN           NaN          NaN                     NaN   \n01/06/2021         NaN           NaN          NaN                     NaN   \n01/07/2021    0.857143      1.000000     0.714286                     1.0   \n01/08/2021    0.857143      1.000000     0.571429                     1.0   \n01/09/2021    1.000000      1.000000     0.714286                     1.0   \n01/10/2021    1.000000      1.000000     0.714286                     1.0   \n01/11/2021    1.000000      1.000000     0.714286                     1.0   \n01/12/2021    1.000000      1.000000     0.714286                     1.0   \n01/13/2021    1.000000      1.000000     0.857143                     1.0   \n01/14/2021    1.000000      1.000000     0.714286                     1.0   \n01/15/2021    1.000000      0.857143     0.714286                     1.0   \n01/16/2021    1.000000      0.857143     0.571429                     1.0   \n01/17/2021    1.000000      0.857143     0.428571                     1.0   \n01/18/2021    1.000000      0.857143     0.428571                     1.0   \n01/19/2021    1.000000      0.857143     0.285714                     1.0   \n01/20/2021    1.000000      0.857143     0.285714                     1.0   \n01/21/2021    1.000000      0.857143     0.285714                     1.0   \n01/22/2021    1.000000      1.000000     0.428571                     1.0   \n01/23/2021    1.000000      1.000000     0.571429                     1.0   \n01/24/2021    1.000000      1.000000     0.714286                     1.0   \n01/25/2021    1.000000      1.000000     0.571429                     1.0   \n01/26/2021    1.000000      1.000000     0.714286                     1.0   \n\n               shave  eat fruit 1  eat fruit 2  check news  \n01/01/2021       NaN          NaN          NaN         NaN  \n01/02/2021       NaN          NaN          NaN         NaN  \n01/03/2021       NaN          NaN          NaN         NaN  \n01/04/2021       NaN          NaN          NaN         NaN  \n01/05/2021       NaN          NaN          NaN         NaN  \n01/06/2021       NaN          NaN          NaN         NaN  \n01/07/2021  0.857143     0.000000     0.000000    0.000000  \n01/08/2021  0.857143     0.000000     0.000000    0.000000  \n01/09/2021  1.000000     0.000000     0.000000    0.000000  \n01/10/2021  1.000000     0.000000     0.000000    0.000000  \n01/11/2021  1.000000     0.000000     0.000000    0.000000  \n01/12/2021  1.000000     0.000000     0.000000    0.000000  \n01/13/2021  1.000000     0.000000     0.000000    0.000000  \n01/14/2021  1.000000     0.000000     0.000000    0.000000  \n01/15/2021  1.000000     0.000000     0.000000    0.000000  \n01/16/2021  0.857143     0.000000     0.000000    0.000000  \n01/17/2021  0.857143     0.000000     0.000000    0.000000  \n01/18/2021  0.857143     0.000000     0.000000    0.000000  \n01/19/2021  0.857143     0.142857     0.142857    0.000000  \n01/20/2021  0.857143     0.285714     0.285714    0.142857  \n01/21/2021  0.714286     0.428571     0.428571    0.285714  \n01/22/2021  0.714286     0.571429     0.571429    0.428571  \n01/23/2021  0.857143     0.714286     0.714286    0.571429  \n01/24/2021  0.857143     0.857143     0.857143    0.714286  \n01/25/2021  0.857143     1.000000     1.000000    0.857143  \n01/26/2021  0.857143     1.000000     1.000000    1.000000  ",
      "text/html": "<div>\n<style scoped>\n    .dataframe tbody tr th:only-of-type {\n        vertical-align: middle;\n    }\n\n    .dataframe tbody tr th {\n        vertical-align: top;\n    }\n\n    .dataframe thead th {\n        text-align: right;\n    }\n</style>\n<table border=\"1\" class=\"dataframe\">\n  <thead>\n    <tr style=\"text-align: right;\">\n      <th></th>\n      <th>registration mode</th>\n      <th>mail inbox check</th>\n      <th>daily review</th>\n      <th>stretching 1</th>\n      <th>apply ointment evening</th>\n      <th>apply ointment morning</th>\n      <th>meditate</th>\n      <th>update crm</th>\n      <th>stretching 2</th>\n      <th>stretchen 3</th>\n      <th>empty desk inbox daily</th>\n      <th>shave</th>\n      <th>eat fruit 1</th>\n      <th>eat fruit 2</th>\n      <th>check news</th>\n    </tr>\n  </thead>\n  <tbody>\n    <tr>\n      <th>01/01/2021</th>\n      <td>NaN</td>\n      <td>NaN</td>\n      <td>NaN</td>\n      <td>NaN</td>\n      <td>NaN</td>\n      <td>NaN</td>\n      <td>NaN</td>\n      <td>NaN</td>\n      <td>NaN</td>\n      <td>NaN</td>\n      <td>NaN</td>\n      <td>NaN</td>\n      <td>NaN</td>\n      <td>NaN</td>\n      <td>NaN</td>\n    </tr>\n    <tr>\n      <th>01/02/2021</th>\n      <td>NaN</td>\n      <td>NaN</td>\n      <td>NaN</td>\n      <td>NaN</td>\n      <td>NaN</td>\n      <td>NaN</td>\n      <td>NaN</td>\n      <td>NaN</td>\n      <td>NaN</td>\n      <td>NaN</td>\n      <td>NaN</td>\n      <td>NaN</td>\n      <td>NaN</td>\n      <td>NaN</td>\n      <td>NaN</td>\n    </tr>\n    <tr>\n      <th>01/03/2021</th>\n      <td>NaN</td>\n      <td>NaN</td>\n      <td>NaN</td>\n      <td>NaN</td>\n      <td>NaN</td>\n      <td>NaN</td>\n      <td>NaN</td>\n      <td>NaN</td>\n      <td>NaN</td>\n      <td>NaN</td>\n      <td>NaN</td>\n      <td>NaN</td>\n      <td>NaN</td>\n      <td>NaN</td>\n      <td>NaN</td>\n    </tr>\n    <tr>\n      <th>01/04/2021</th>\n      <td>NaN</td>\n      <td>NaN</td>\n      <td>NaN</td>\n      <td>NaN</td>\n      <td>NaN</td>\n      <td>NaN</td>\n      <td>NaN</td>\n      <td>NaN</td>\n      <td>NaN</td>\n      <td>NaN</td>\n      <td>NaN</td>\n      <td>NaN</td>\n      <td>NaN</td>\n      <td>NaN</td>\n      <td>NaN</td>\n    </tr>\n    <tr>\n      <th>01/05/2021</th>\n      <td>NaN</td>\n      <td>NaN</td>\n      <td>NaN</td>\n      <td>NaN</td>\n      <td>NaN</td>\n      <td>NaN</td>\n      <td>NaN</td>\n      <td>NaN</td>\n      <td>NaN</td>\n      <td>NaN</td>\n      <td>NaN</td>\n      <td>NaN</td>\n      <td>NaN</td>\n      <td>NaN</td>\n      <td>NaN</td>\n    </tr>\n    <tr>\n      <th>01/06/2021</th>\n      <td>NaN</td>\n      <td>NaN</td>\n      <td>NaN</td>\n      <td>NaN</td>\n      <td>NaN</td>\n      <td>NaN</td>\n      <td>NaN</td>\n      <td>NaN</td>\n      <td>NaN</td>\n      <td>NaN</td>\n      <td>NaN</td>\n      <td>NaN</td>\n      <td>NaN</td>\n      <td>NaN</td>\n      <td>NaN</td>\n    </tr>\n    <tr>\n      <th>01/07/2021</th>\n      <td>0.428571</td>\n      <td>1.0</td>\n      <td>0.000000</td>\n      <td>1.0</td>\n      <td>0.857143</td>\n      <td>1.0</td>\n      <td>0.857143</td>\n      <td>0.857143</td>\n      <td>1.000000</td>\n      <td>0.714286</td>\n      <td>1.0</td>\n      <td>0.857143</td>\n      <td>0.000000</td>\n      <td>0.000000</td>\n      <td>0.000000</td>\n    </tr>\n    <tr>\n      <th>01/08/2021</th>\n      <td>0.428571</td>\n      <td>1.0</td>\n      <td>0.000000</td>\n      <td>1.0</td>\n      <td>0.857143</td>\n      <td>1.0</td>\n      <td>0.857143</td>\n      <td>0.857143</td>\n      <td>1.000000</td>\n      <td>0.571429</td>\n      <td>1.0</td>\n      <td>0.857143</td>\n      <td>0.000000</td>\n      <td>0.000000</td>\n      <td>0.000000</td>\n    </tr>\n    <tr>\n      <th>01/09/2021</th>\n      <td>0.571429</td>\n      <td>1.0</td>\n      <td>0.142857</td>\n      <td>1.0</td>\n      <td>1.000000</td>\n      <td>1.0</td>\n      <td>1.000000</td>\n      <td>1.000000</td>\n      <td>1.000000</td>\n      <td>0.714286</td>\n      <td>1.0</td>\n      <td>1.000000</td>\n      <td>0.000000</td>\n      <td>0.000000</td>\n      <td>0.000000</td>\n    </tr>\n    <tr>\n      <th>01/10/2021</th>\n      <td>0.571429</td>\n      <td>1.0</td>\n      <td>0.285714</td>\n      <td>1.0</td>\n      <td>1.000000</td>\n      <td>1.0</td>\n      <td>1.000000</td>\n      <td>1.000000</td>\n      <td>1.000000</td>\n      <td>0.714286</td>\n      <td>1.0</td>\n      <td>1.000000</td>\n      <td>0.000000</td>\n      <td>0.000000</td>\n      <td>0.000000</td>\n    </tr>\n    <tr>\n      <th>01/11/2021</th>\n      <td>0.714286</td>\n      <td>1.0</td>\n      <td>0.428571</td>\n      <td>1.0</td>\n      <td>0.857143</td>\n      <td>1.0</td>\n      <td>1.000000</td>\n      <td>1.000000</td>\n      <td>1.000000</td>\n      <td>0.714286</td>\n      <td>1.0</td>\n      <td>1.000000</td>\n      <td>0.000000</td>\n      <td>0.000000</td>\n      <td>0.000000</td>\n    </tr>\n    <tr>\n      <th>01/12/2021</th>\n      <td>0.857143</td>\n      <td>1.0</td>\n      <td>0.571429</td>\n      <td>1.0</td>\n      <td>0.857143</td>\n      <td>1.0</td>\n      <td>1.000000</td>\n      <td>1.000000</td>\n      <td>1.000000</td>\n      <td>0.714286</td>\n      <td>1.0</td>\n      <td>1.000000</td>\n      <td>0.000000</td>\n      <td>0.000000</td>\n      <td>0.000000</td>\n    </tr>\n    <tr>\n      <th>01/13/2021</th>\n      <td>1.000000</td>\n      <td>1.0</td>\n      <td>0.714286</td>\n      <td>1.0</td>\n      <td>0.857143</td>\n      <td>1.0</td>\n      <td>1.000000</td>\n      <td>1.000000</td>\n      <td>1.000000</td>\n      <td>0.857143</td>\n      <td>1.0</td>\n      <td>1.000000</td>\n      <td>0.000000</td>\n      <td>0.000000</td>\n      <td>0.000000</td>\n    </tr>\n    <tr>\n      <th>01/14/2021</th>\n      <td>1.000000</td>\n      <td>1.0</td>\n      <td>0.714286</td>\n      <td>1.0</td>\n      <td>0.714286</td>\n      <td>1.0</td>\n      <td>1.000000</td>\n      <td>1.000000</td>\n      <td>1.000000</td>\n      <td>0.714286</td>\n      <td>1.0</td>\n      <td>1.000000</td>\n      <td>0.000000</td>\n      <td>0.000000</td>\n      <td>0.000000</td>\n    </tr>\n    <tr>\n      <th>01/15/2021</th>\n      <td>1.000000</td>\n      <td>1.0</td>\n      <td>0.857143</td>\n      <td>1.0</td>\n      <td>0.571429</td>\n      <td>1.0</td>\n      <td>1.000000</td>\n      <td>1.000000</td>\n      <td>0.857143</td>\n      <td>0.714286</td>\n      <td>1.0</td>\n      <td>1.000000</td>\n      <td>0.000000</td>\n      <td>0.000000</td>\n      <td>0.000000</td>\n    </tr>\n    <tr>\n      <th>01/16/2021</th>\n      <td>1.000000</td>\n      <td>1.0</td>\n      <td>0.857143</td>\n      <td>1.0</td>\n      <td>0.428571</td>\n      <td>1.0</td>\n      <td>1.000000</td>\n      <td>1.000000</td>\n      <td>0.857143</td>\n      <td>0.571429</td>\n      <td>1.0</td>\n      <td>0.857143</td>\n      <td>0.000000</td>\n      <td>0.000000</td>\n      <td>0.000000</td>\n    </tr>\n    <tr>\n      <th>01/17/2021</th>\n      <td>1.000000</td>\n      <td>1.0</td>\n      <td>0.857143</td>\n      <td>1.0</td>\n      <td>0.285714</td>\n      <td>1.0</td>\n      <td>1.000000</td>\n      <td>1.000000</td>\n      <td>0.857143</td>\n      <td>0.428571</td>\n      <td>1.0</td>\n      <td>0.857143</td>\n      <td>0.000000</td>\n      <td>0.000000</td>\n      <td>0.000000</td>\n    </tr>\n    <tr>\n      <th>01/18/2021</th>\n      <td>1.000000</td>\n      <td>1.0</td>\n      <td>0.857143</td>\n      <td>1.0</td>\n      <td>0.285714</td>\n      <td>1.0</td>\n      <td>1.000000</td>\n      <td>1.000000</td>\n      <td>0.857143</td>\n      <td>0.428571</td>\n      <td>1.0</td>\n      <td>0.857143</td>\n      <td>0.000000</td>\n      <td>0.000000</td>\n      <td>0.000000</td>\n    </tr>\n    <tr>\n      <th>01/19/2021</th>\n      <td>1.000000</td>\n      <td>1.0</td>\n      <td>0.857143</td>\n      <td>1.0</td>\n      <td>0.142857</td>\n      <td>1.0</td>\n      <td>1.000000</td>\n      <td>1.000000</td>\n      <td>0.857143</td>\n      <td>0.285714</td>\n      <td>1.0</td>\n      <td>0.857143</td>\n      <td>0.142857</td>\n      <td>0.142857</td>\n      <td>0.000000</td>\n    </tr>\n    <tr>\n      <th>01/20/2021</th>\n      <td>1.000000</td>\n      <td>1.0</td>\n      <td>0.857143</td>\n      <td>1.0</td>\n      <td>0.142857</td>\n      <td>1.0</td>\n      <td>1.000000</td>\n      <td>1.000000</td>\n      <td>0.857143</td>\n      <td>0.285714</td>\n      <td>1.0</td>\n      <td>0.857143</td>\n      <td>0.285714</td>\n      <td>0.285714</td>\n      <td>0.142857</td>\n    </tr>\n    <tr>\n      <th>01/21/2021</th>\n      <td>1.000000</td>\n      <td>1.0</td>\n      <td>1.000000</td>\n      <td>1.0</td>\n      <td>0.285714</td>\n      <td>1.0</td>\n      <td>1.000000</td>\n      <td>1.000000</td>\n      <td>0.857143</td>\n      <td>0.285714</td>\n      <td>1.0</td>\n      <td>0.714286</td>\n      <td>0.428571</td>\n      <td>0.428571</td>\n      <td>0.285714</td>\n    </tr>\n    <tr>\n      <th>01/22/2021</th>\n      <td>1.000000</td>\n      <td>1.0</td>\n      <td>1.000000</td>\n      <td>1.0</td>\n      <td>0.428571</td>\n      <td>1.0</td>\n      <td>1.000000</td>\n      <td>1.000000</td>\n      <td>1.000000</td>\n      <td>0.428571</td>\n      <td>1.0</td>\n      <td>0.714286</td>\n      <td>0.571429</td>\n      <td>0.571429</td>\n      <td>0.428571</td>\n    </tr>\n    <tr>\n      <th>01/23/2021</th>\n      <td>1.000000</td>\n      <td>1.0</td>\n      <td>1.000000</td>\n      <td>1.0</td>\n      <td>0.571429</td>\n      <td>1.0</td>\n      <td>1.000000</td>\n      <td>1.000000</td>\n      <td>1.000000</td>\n      <td>0.571429</td>\n      <td>1.0</td>\n      <td>0.857143</td>\n      <td>0.714286</td>\n      <td>0.714286</td>\n      <td>0.571429</td>\n    </tr>\n    <tr>\n      <th>01/24/2021</th>\n      <td>1.000000</td>\n      <td>1.0</td>\n      <td>1.000000</td>\n      <td>1.0</td>\n      <td>0.714286</td>\n      <td>1.0</td>\n      <td>1.000000</td>\n      <td>1.000000</td>\n      <td>1.000000</td>\n      <td>0.714286</td>\n      <td>1.0</td>\n      <td>0.857143</td>\n      <td>0.857143</td>\n      <td>0.857143</td>\n      <td>0.714286</td>\n    </tr>\n    <tr>\n      <th>01/25/2021</th>\n      <td>1.000000</td>\n      <td>1.0</td>\n      <td>1.000000</td>\n      <td>1.0</td>\n      <td>0.714286</td>\n      <td>1.0</td>\n      <td>1.000000</td>\n      <td>1.000000</td>\n      <td>1.000000</td>\n      <td>0.571429</td>\n      <td>1.0</td>\n      <td>0.857143</td>\n      <td>1.000000</td>\n      <td>1.000000</td>\n      <td>0.857143</td>\n    </tr>\n    <tr>\n      <th>01/26/2021</th>\n      <td>1.000000</td>\n      <td>1.0</td>\n      <td>1.000000</td>\n      <td>1.0</td>\n      <td>0.857143</td>\n      <td>1.0</td>\n      <td>1.000000</td>\n      <td>1.000000</td>\n      <td>1.000000</td>\n      <td>0.714286</td>\n      <td>1.0</td>\n      <td>0.857143</td>\n      <td>1.000000</td>\n      <td>1.000000</td>\n      <td>1.000000</td>\n    </tr>\n  </tbody>\n</table>\n</div>"
     },
     "execution_count": 25,
     "metadata": {},
     "output_type": "execute_result"
    }
   ],
   "source": [
    "res.rolling(window=7, min_periods=7).mean()"
   ],
   "metadata": {
    "collapsed": false,
    "pycharm": {
     "name": "#%%\n"
    }
   }
  },
  {
   "cell_type": "code",
   "execution_count": 8,
   "outputs": [],
   "source": [
    "dirname = os.path.abspath(os.path.abspath(''))\n",
    "filename = os.path.join(os.path.split(dirname)[0], 'log/daily_tasks.csv')\n",
    "res.to_csv(filename)\n"
   ],
   "metadata": {
    "collapsed": false,
    "pycharm": {
     "name": "#%%\n"
    }
   }
  },
  {
   "cell_type": "code",
   "execution_count": 9,
   "outputs": [],
   "source": [
    "df = pd.read_csv(filename, index_col=0)\n",
    "# new_columns = df.columns.values\n",
    "# new_columns[0] = 'Date'"
   ],
   "metadata": {
    "collapsed": false,
    "pycharm": {
     "name": "#%%\n"
    }
   }
  },
  {
   "cell_type": "code",
   "execution_count": 10,
   "outputs": [
    {
     "data": {
      "text/plain": "            registration mode  mail inbox check  daily review  stretching 1  \\\n01/01/2021               True              True         False          True   \n02/01/2021              False              True         False          True   \n03/01/2021               True              True         False          True   \n04/01/2021              False              True         False          True   \n05/01/2021              False              True         False          True   \n06/01/2021              False              True         False          True   \n07/01/2021               True              True         False          True   \n08/01/2021               True              True         False          True   \n09/01/2021               True              True          True          True   \n10/01/2021               True              True          True          True   \n11/01/2021               True              True          True          True   \n12/01/2021               True              True          True          True   \n13/01/2021               True              True          True          True   \n14/01/2021               True              True         False          True   \n15/01/2021               True              True          True          True   \n16/01/2021               True              True          True          True   \n17/01/2021               True              True          True          True   \n18/01/2021               True              True          True          True   \n19/01/2021               True              True          True          True   \n20/01/2021               True              True          True          True   \n21/01/2021               True              True          True          True   \n22/01/2021               True              True          True          True   \n23/01/2021               True              True          True          True   \n24/01/2021               True              True          True          True   \n25/01/2021               True              True          True          True   \n26/01/2021               True              True          True          True   \n\n            apply ointment evening  apply ointment morning  meditate  \\\n01/01/2021                    True                    True      True   \n02/01/2021                   False                    True     False   \n03/01/2021                    True                    True      True   \n04/01/2021                    True                    True      True   \n05/01/2021                    True                    True      True   \n06/01/2021                    True                    True      True   \n07/01/2021                    True                    True      True   \n08/01/2021                    True                    True      True   \n09/01/2021                    True                    True      True   \n10/01/2021                    True                    True      True   \n11/01/2021                   False                    True      True   \n12/01/2021                    True                    True      True   \n13/01/2021                    True                    True      True   \n14/01/2021                   False                    True      True   \n15/01/2021                   False                    True      True   \n16/01/2021                   False                    True      True   \n17/01/2021                   False                    True      True   \n18/01/2021                   False                    True      True   \n19/01/2021                   False                    True      True   \n20/01/2021                    True                    True      True   \n21/01/2021                    True                    True      True   \n22/01/2021                    True                    True      True   \n23/01/2021                    True                    True      True   \n24/01/2021                    True                    True      True   \n25/01/2021                   False                    True      True   \n26/01/2021                    True                    True      True   \n\n            update crm  stretching 2  stretchen 3  empty desk inbox daily  \\\n01/01/2021        True          True         True                    True   \n02/01/2021       False          True        False                    True   \n03/01/2021        True          True         True                    True   \n04/01/2021        True          True         True                    True   \n05/01/2021        True          True         True                    True   \n06/01/2021        True          True        False                    True   \n07/01/2021        True          True         True                    True   \n08/01/2021        True          True        False                    True   \n09/01/2021        True          True         True                    True   \n10/01/2021        True          True         True                    True   \n11/01/2021        True          True         True                    True   \n12/01/2021        True          True         True                    True   \n13/01/2021        True          True         True                    True   \n14/01/2021        True          True        False                    True   \n15/01/2021        True         False        False                    True   \n16/01/2021        True          True        False                    True   \n17/01/2021        True          True        False                    True   \n18/01/2021        True          True         True                    True   \n19/01/2021        True          True        False                    True   \n20/01/2021        True          True         True                    True   \n21/01/2021        True          True        False                    True   \n22/01/2021        True          True         True                    True   \n23/01/2021        True          True         True                    True   \n24/01/2021        True          True         True                    True   \n25/01/2021        True          True        False                    True   \n26/01/2021        True          True         True                    True   \n\n            shave  eat fruit 1  eat fruit 2  check news  \n01/01/2021   True        False        False       False  \n02/01/2021  False        False        False       False  \n03/01/2021   True        False        False       False  \n04/01/2021   True        False        False       False  \n05/01/2021   True        False        False       False  \n06/01/2021   True        False        False       False  \n07/01/2021   True        False        False       False  \n08/01/2021   True        False        False       False  \n09/01/2021   True        False        False       False  \n10/01/2021   True        False        False       False  \n11/01/2021   True        False        False       False  \n12/01/2021   True        False        False       False  \n13/01/2021   True        False        False       False  \n14/01/2021   True        False        False       False  \n15/01/2021   True        False        False       False  \n16/01/2021  False        False        False       False  \n17/01/2021   True        False        False       False  \n18/01/2021   True        False        False       False  \n19/01/2021   True         True         True       False  \n20/01/2021   True         True         True        True  \n21/01/2021  False         True         True        True  \n22/01/2021   True         True         True        True  \n23/01/2021   True         True         True        True  \n24/01/2021   True         True         True        True  \n25/01/2021   True         True         True        True  \n26/01/2021   True         True         True        True  ",
      "text/html": "<div>\n<style scoped>\n    .dataframe tbody tr th:only-of-type {\n        vertical-align: middle;\n    }\n\n    .dataframe tbody tr th {\n        vertical-align: top;\n    }\n\n    .dataframe thead th {\n        text-align: right;\n    }\n</style>\n<table border=\"1\" class=\"dataframe\">\n  <thead>\n    <tr style=\"text-align: right;\">\n      <th></th>\n      <th>registration mode</th>\n      <th>mail inbox check</th>\n      <th>daily review</th>\n      <th>stretching 1</th>\n      <th>apply ointment evening</th>\n      <th>apply ointment morning</th>\n      <th>meditate</th>\n      <th>update crm</th>\n      <th>stretching 2</th>\n      <th>stretchen 3</th>\n      <th>empty desk inbox daily</th>\n      <th>shave</th>\n      <th>eat fruit 1</th>\n      <th>eat fruit 2</th>\n      <th>check news</th>\n    </tr>\n  </thead>\n  <tbody>\n    <tr>\n      <th>01/01/2021</th>\n      <td>True</td>\n      <td>True</td>\n      <td>False</td>\n      <td>True</td>\n      <td>True</td>\n      <td>True</td>\n      <td>True</td>\n      <td>True</td>\n      <td>True</td>\n      <td>True</td>\n      <td>True</td>\n      <td>True</td>\n      <td>False</td>\n      <td>False</td>\n      <td>False</td>\n    </tr>\n    <tr>\n      <th>02/01/2021</th>\n      <td>False</td>\n      <td>True</td>\n      <td>False</td>\n      <td>True</td>\n      <td>False</td>\n      <td>True</td>\n      <td>False</td>\n      <td>False</td>\n      <td>True</td>\n      <td>False</td>\n      <td>True</td>\n      <td>False</td>\n      <td>False</td>\n      <td>False</td>\n      <td>False</td>\n    </tr>\n    <tr>\n      <th>03/01/2021</th>\n      <td>True</td>\n      <td>True</td>\n      <td>False</td>\n      <td>True</td>\n      <td>True</td>\n      <td>True</td>\n      <td>True</td>\n      <td>True</td>\n      <td>True</td>\n      <td>True</td>\n      <td>True</td>\n      <td>True</td>\n      <td>False</td>\n      <td>False</td>\n      <td>False</td>\n    </tr>\n    <tr>\n      <th>04/01/2021</th>\n      <td>False</td>\n      <td>True</td>\n      <td>False</td>\n      <td>True</td>\n      <td>True</td>\n      <td>True</td>\n      <td>True</td>\n      <td>True</td>\n      <td>True</td>\n      <td>True</td>\n      <td>True</td>\n      <td>True</td>\n      <td>False</td>\n      <td>False</td>\n      <td>False</td>\n    </tr>\n    <tr>\n      <th>05/01/2021</th>\n      <td>False</td>\n      <td>True</td>\n      <td>False</td>\n      <td>True</td>\n      <td>True</td>\n      <td>True</td>\n      <td>True</td>\n      <td>True</td>\n      <td>True</td>\n      <td>True</td>\n      <td>True</td>\n      <td>True</td>\n      <td>False</td>\n      <td>False</td>\n      <td>False</td>\n    </tr>\n    <tr>\n      <th>06/01/2021</th>\n      <td>False</td>\n      <td>True</td>\n      <td>False</td>\n      <td>True</td>\n      <td>True</td>\n      <td>True</td>\n      <td>True</td>\n      <td>True</td>\n      <td>True</td>\n      <td>False</td>\n      <td>True</td>\n      <td>True</td>\n      <td>False</td>\n      <td>False</td>\n      <td>False</td>\n    </tr>\n    <tr>\n      <th>07/01/2021</th>\n      <td>True</td>\n      <td>True</td>\n      <td>False</td>\n      <td>True</td>\n      <td>True</td>\n      <td>True</td>\n      <td>True</td>\n      <td>True</td>\n      <td>True</td>\n      <td>True</td>\n      <td>True</td>\n      <td>True</td>\n      <td>False</td>\n      <td>False</td>\n      <td>False</td>\n    </tr>\n    <tr>\n      <th>08/01/2021</th>\n      <td>True</td>\n      <td>True</td>\n      <td>False</td>\n      <td>True</td>\n      <td>True</td>\n      <td>True</td>\n      <td>True</td>\n      <td>True</td>\n      <td>True</td>\n      <td>False</td>\n      <td>True</td>\n      <td>True</td>\n      <td>False</td>\n      <td>False</td>\n      <td>False</td>\n    </tr>\n    <tr>\n      <th>09/01/2021</th>\n      <td>True</td>\n      <td>True</td>\n      <td>True</td>\n      <td>True</td>\n      <td>True</td>\n      <td>True</td>\n      <td>True</td>\n      <td>True</td>\n      <td>True</td>\n      <td>True</td>\n      <td>True</td>\n      <td>True</td>\n      <td>False</td>\n      <td>False</td>\n      <td>False</td>\n    </tr>\n    <tr>\n      <th>10/01/2021</th>\n      <td>True</td>\n      <td>True</td>\n      <td>True</td>\n      <td>True</td>\n      <td>True</td>\n      <td>True</td>\n      <td>True</td>\n      <td>True</td>\n      <td>True</td>\n      <td>True</td>\n      <td>True</td>\n      <td>True</td>\n      <td>False</td>\n      <td>False</td>\n      <td>False</td>\n    </tr>\n    <tr>\n      <th>11/01/2021</th>\n      <td>True</td>\n      <td>True</td>\n      <td>True</td>\n      <td>True</td>\n      <td>False</td>\n      <td>True</td>\n      <td>True</td>\n      <td>True</td>\n      <td>True</td>\n      <td>True</td>\n      <td>True</td>\n      <td>True</td>\n      <td>False</td>\n      <td>False</td>\n      <td>False</td>\n    </tr>\n    <tr>\n      <th>12/01/2021</th>\n      <td>True</td>\n      <td>True</td>\n      <td>True</td>\n      <td>True</td>\n      <td>True</td>\n      <td>True</td>\n      <td>True</td>\n      <td>True</td>\n      <td>True</td>\n      <td>True</td>\n      <td>True</td>\n      <td>True</td>\n      <td>False</td>\n      <td>False</td>\n      <td>False</td>\n    </tr>\n    <tr>\n      <th>13/01/2021</th>\n      <td>True</td>\n      <td>True</td>\n      <td>True</td>\n      <td>True</td>\n      <td>True</td>\n      <td>True</td>\n      <td>True</td>\n      <td>True</td>\n      <td>True</td>\n      <td>True</td>\n      <td>True</td>\n      <td>True</td>\n      <td>False</td>\n      <td>False</td>\n      <td>False</td>\n    </tr>\n    <tr>\n      <th>14/01/2021</th>\n      <td>True</td>\n      <td>True</td>\n      <td>False</td>\n      <td>True</td>\n      <td>False</td>\n      <td>True</td>\n      <td>True</td>\n      <td>True</td>\n      <td>True</td>\n      <td>False</td>\n      <td>True</td>\n      <td>True</td>\n      <td>False</td>\n      <td>False</td>\n      <td>False</td>\n    </tr>\n    <tr>\n      <th>15/01/2021</th>\n      <td>True</td>\n      <td>True</td>\n      <td>True</td>\n      <td>True</td>\n      <td>False</td>\n      <td>True</td>\n      <td>True</td>\n      <td>True</td>\n      <td>False</td>\n      <td>False</td>\n      <td>True</td>\n      <td>True</td>\n      <td>False</td>\n      <td>False</td>\n      <td>False</td>\n    </tr>\n    <tr>\n      <th>16/01/2021</th>\n      <td>True</td>\n      <td>True</td>\n      <td>True</td>\n      <td>True</td>\n      <td>False</td>\n      <td>True</td>\n      <td>True</td>\n      <td>True</td>\n      <td>True</td>\n      <td>False</td>\n      <td>True</td>\n      <td>False</td>\n      <td>False</td>\n      <td>False</td>\n      <td>False</td>\n    </tr>\n    <tr>\n      <th>17/01/2021</th>\n      <td>True</td>\n      <td>True</td>\n      <td>True</td>\n      <td>True</td>\n      <td>False</td>\n      <td>True</td>\n      <td>True</td>\n      <td>True</td>\n      <td>True</td>\n      <td>False</td>\n      <td>True</td>\n      <td>True</td>\n      <td>False</td>\n      <td>False</td>\n      <td>False</td>\n    </tr>\n    <tr>\n      <th>18/01/2021</th>\n      <td>True</td>\n      <td>True</td>\n      <td>True</td>\n      <td>True</td>\n      <td>False</td>\n      <td>True</td>\n      <td>True</td>\n      <td>True</td>\n      <td>True</td>\n      <td>True</td>\n      <td>True</td>\n      <td>True</td>\n      <td>False</td>\n      <td>False</td>\n      <td>False</td>\n    </tr>\n    <tr>\n      <th>19/01/2021</th>\n      <td>True</td>\n      <td>True</td>\n      <td>True</td>\n      <td>True</td>\n      <td>False</td>\n      <td>True</td>\n      <td>True</td>\n      <td>True</td>\n      <td>True</td>\n      <td>False</td>\n      <td>True</td>\n      <td>True</td>\n      <td>True</td>\n      <td>True</td>\n      <td>False</td>\n    </tr>\n    <tr>\n      <th>20/01/2021</th>\n      <td>True</td>\n      <td>True</td>\n      <td>True</td>\n      <td>True</td>\n      <td>True</td>\n      <td>True</td>\n      <td>True</td>\n      <td>True</td>\n      <td>True</td>\n      <td>True</td>\n      <td>True</td>\n      <td>True</td>\n      <td>True</td>\n      <td>True</td>\n      <td>True</td>\n    </tr>\n    <tr>\n      <th>21/01/2021</th>\n      <td>True</td>\n      <td>True</td>\n      <td>True</td>\n      <td>True</td>\n      <td>True</td>\n      <td>True</td>\n      <td>True</td>\n      <td>True</td>\n      <td>True</td>\n      <td>False</td>\n      <td>True</td>\n      <td>False</td>\n      <td>True</td>\n      <td>True</td>\n      <td>True</td>\n    </tr>\n    <tr>\n      <th>22/01/2021</th>\n      <td>True</td>\n      <td>True</td>\n      <td>True</td>\n      <td>True</td>\n      <td>True</td>\n      <td>True</td>\n      <td>True</td>\n      <td>True</td>\n      <td>True</td>\n      <td>True</td>\n      <td>True</td>\n      <td>True</td>\n      <td>True</td>\n      <td>True</td>\n      <td>True</td>\n    </tr>\n    <tr>\n      <th>23/01/2021</th>\n      <td>True</td>\n      <td>True</td>\n      <td>True</td>\n      <td>True</td>\n      <td>True</td>\n      <td>True</td>\n      <td>True</td>\n      <td>True</td>\n      <td>True</td>\n      <td>True</td>\n      <td>True</td>\n      <td>True</td>\n      <td>True</td>\n      <td>True</td>\n      <td>True</td>\n    </tr>\n    <tr>\n      <th>24/01/2021</th>\n      <td>True</td>\n      <td>True</td>\n      <td>True</td>\n      <td>True</td>\n      <td>True</td>\n      <td>True</td>\n      <td>True</td>\n      <td>True</td>\n      <td>True</td>\n      <td>True</td>\n      <td>True</td>\n      <td>True</td>\n      <td>True</td>\n      <td>True</td>\n      <td>True</td>\n    </tr>\n    <tr>\n      <th>25/01/2021</th>\n      <td>True</td>\n      <td>True</td>\n      <td>True</td>\n      <td>True</td>\n      <td>False</td>\n      <td>True</td>\n      <td>True</td>\n      <td>True</td>\n      <td>True</td>\n      <td>False</td>\n      <td>True</td>\n      <td>True</td>\n      <td>True</td>\n      <td>True</td>\n      <td>True</td>\n    </tr>\n    <tr>\n      <th>26/01/2021</th>\n      <td>True</td>\n      <td>True</td>\n      <td>True</td>\n      <td>True</td>\n      <td>True</td>\n      <td>True</td>\n      <td>True</td>\n      <td>True</td>\n      <td>True</td>\n      <td>True</td>\n      <td>True</td>\n      <td>True</td>\n      <td>True</td>\n      <td>True</td>\n      <td>True</td>\n    </tr>\n  </tbody>\n</table>\n</div>"
     },
     "execution_count": 10,
     "metadata": {},
     "output_type": "execute_result"
    }
   ],
   "source": [
    "df\n"
   ],
   "metadata": {
    "collapsed": false,
    "pycharm": {
     "name": "#%%\n"
    }
   }
  },
  {
   "cell_type": "code",
   "execution_count": null,
   "outputs": [],
   "source": [],
   "metadata": {
    "collapsed": false,
    "pycharm": {
     "name": "#%%\n"
    }
   }
  }
 ],
 "metadata": {
  "kernelspec": {
   "display_name": "Python 3",
   "language": "python",
   "name": "python3"
  },
  "language_info": {
   "codemirror_mode": {
    "name": "ipython",
    "version": 2
   },
   "file_extension": ".py",
   "mimetype": "text/x-python",
   "name": "python",
   "nbconvert_exporter": "python",
   "pygments_lexer": "ipython2",
   "version": "2.7.6"
  }
 },
 "nbformat": 4,
 "nbformat_minor": 0
}