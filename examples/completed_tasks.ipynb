{
 "cells": [
  {
   "cell_type": "code",
   "execution_count": 1,
   "outputs": [],
   "source": [
    "from todoist_habit_tracker.todoist_connection import TodoistConnection\n",
    "from todoist_habit_tracker.habit import Habit\n",
    "import os\n",
    "import pandas as pd\n",
    "from datetime import datetime\n",
    "\n",
    "def init_todoist():\n",
    "    dirname = os.path.abspath(os.path.abspath(''))\n",
    "    filename = os.path.join(os.path.split(dirname)[0], '.config/.todoist.txt')\n",
    "    todoist = TodoistConnection.from_config_file(filename)\n",
    "    return todoist\n",
    "\n",
    "def append_data(succes_dict):\n",
    "    dirname = os.path.abspath(os.path.abspath(''))\n",
    "    filename = os.path.join(os.path.split(dirname)[0], '.log/daily_tasks.csv')\n",
    "    try:\n",
    "        df = pd.read_csv(filename)\n",
    "    except FileNotFoundError:\n",
    "        return pd.DataFrame()"
   ],
   "metadata": {
    "collapsed": false,
    "pycharm": {
     "name": "#%%\n"
    }
   }
  },
  {
   "cell_type": "code",
   "execution_count": 2,
   "outputs": [
    {
     "name": "stdout",
     "output_type": "stream",
     "text": [
      "{'registration mode': True, 'mail inbox check': True, 'daily review': True, 'stretching 1': True, 'apply ointment evening': True, 'apply ointment morning': True, 'meditate': True, 'update crm': True, 'stretching 2': True, 'stretchen 3': True, 'empty desk inbox daily': True, 'shave': True, 'eat fruit 1': False, 'eat fruit 2': True, 'check news': True, 'test': False}\n"
     ]
    }
   ],
   "source": [
    "LABEL = 'habit_automatic'\n",
    "todoist = init_todoist()\n",
    "# open data file\n",
    "label_id = todoist.get_label_by_name(LABEL)['id']\n",
    "habits = todoist.filter_tasks(lambda task: label_id in task['labels'])\n",
    "habit_objects = [Habit(habit, todoist, label_id) for habit in habits]\n",
    "succes = {}\n",
    "for habit in habit_objects:\n",
    "    succes[str(habit)] =  habit.done_yesterday()\n",
    "\n",
    "print(succes)\n",
    "\n"
   ],
   "metadata": {
    "collapsed": false,
    "pycharm": {
     "name": "#%%\n"
    }
   }
  },
  {
   "cell_type": "code",
   "execution_count": 58,
   "outputs": [],
   "source": [
    "def append_data(succes_dict):\n",
    "    dirname = os.path.abspath(os.path.abspath(''))\n",
    "    filename = os.path.join(os.path.split(dirname)[0], 'log/daily_tasks.csv')\n",
    "    try:\n",
    "        df = pd.read_csv(filename, index_col='date')\n",
    "        df = df.append(pd.DataFrame(succes, index=[datetime.today().strftime('%m/%d/%Y')]))\n",
    "    except FileNotFoundError:\n",
    "        df = pd.DataFrame(succes, index=[datetime.today().strftime('%m/%d/%Y')])\n",
    "        df.index.name = 'date'\n",
    "    print(filename)\n",
    "    print(df)\n",
    "    df.to_csv(filename)\n"
   ],
   "metadata": {
    "collapsed": false,
    "pycharm": {
     "name": "#%%\n"
    }
   }
  },
  {
   "cell_type": "code",
   "execution_count": 62,
   "outputs": [
    {
     "name": "stdout",
     "output_type": "stream",
     "text": [
      "/home/rutger/PycharmProjects/todoist_habit_tracker/log/daily_tasks.csv\n",
      "            registration mode  mail inbox check  daily review  stretching 1  \\\n",
      "01/23/2021               True              True          True          True   \n",
      "01/23/2021               True              True          True          True   \n",
      "\n",
      "            apply ointment evening  apply ointment morning  meditate  \\\n",
      "01/23/2021                    True                    True      True   \n",
      "01/23/2021                    True                    True      True   \n",
      "\n",
      "            update crm  stretching 2  stretchen 3  empty desk inbox daily  \\\n",
      "01/23/2021        True          True         True                    True   \n",
      "01/23/2021        True          True         True                    True   \n",
      "\n",
      "            shave  eat fruit 1  eat fruit 2  check news   test  \n",
      "01/23/2021   True        False         True        True  False  \n",
      "01/23/2021   True        False         True        True  False  \n"
     ]
    }
   ],
   "source": [
    "append_data(succes)\n"
   ],
   "metadata": {
    "collapsed": false,
    "pycharm": {
     "name": "#%%\n"
    }
   }
  },
  {
   "cell_type": "code",
   "execution_count": 60,
   "outputs": [],
   "source": [
    "df_test = pd.read_csv('/home/rutger/PycharmProjects/todoist_habit_tracker/log/daily_tasks.csv', index_col='date')"
   ],
   "metadata": {
    "collapsed": false,
    "pycharm": {
     "name": "#%%\n"
    }
   }
  },
  {
   "cell_type": "code",
   "execution_count": 61,
   "outputs": [
    {
     "data": {
      "text/plain": "            registration mode  mail inbox check  daily review  stretching 1  \\\ndate                                                                          \n01/23/2021               True              True          True          True   \n\n            apply ointment evening  apply ointment morning  meditate  \\\ndate                                                                   \n01/23/2021                    True                    True      True   \n\n            update crm  stretching 2  stretchen 3  empty desk inbox daily  \\\ndate                                                                        \n01/23/2021        True          True         True                    True   \n\n            shave  eat fruit 1  eat fruit 2  check news   test  \ndate                                                            \n01/23/2021   True        False         True        True  False  ",
      "text/html": "<div>\n<style scoped>\n    .dataframe tbody tr th:only-of-type {\n        vertical-align: middle;\n    }\n\n    .dataframe tbody tr th {\n        vertical-align: top;\n    }\n\n    .dataframe thead th {\n        text-align: right;\n    }\n</style>\n<table border=\"1\" class=\"dataframe\">\n  <thead>\n    <tr style=\"text-align: right;\">\n      <th></th>\n      <th>registration mode</th>\n      <th>mail inbox check</th>\n      <th>daily review</th>\n      <th>stretching 1</th>\n      <th>apply ointment evening</th>\n      <th>apply ointment morning</th>\n      <th>meditate</th>\n      <th>update crm</th>\n      <th>stretching 2</th>\n      <th>stretchen 3</th>\n      <th>empty desk inbox daily</th>\n      <th>shave</th>\n      <th>eat fruit 1</th>\n      <th>eat fruit 2</th>\n      <th>check news</th>\n      <th>test</th>\n    </tr>\n    <tr>\n      <th>date</th>\n      <th></th>\n      <th></th>\n      <th></th>\n      <th></th>\n      <th></th>\n      <th></th>\n      <th></th>\n      <th></th>\n      <th></th>\n      <th></th>\n      <th></th>\n      <th></th>\n      <th></th>\n      <th></th>\n      <th></th>\n      <th></th>\n    </tr>\n  </thead>\n  <tbody>\n    <tr>\n      <th>01/23/2021</th>\n      <td>True</td>\n      <td>True</td>\n      <td>True</td>\n      <td>True</td>\n      <td>True</td>\n      <td>True</td>\n      <td>True</td>\n      <td>True</td>\n      <td>True</td>\n      <td>True</td>\n      <td>True</td>\n      <td>True</td>\n      <td>False</td>\n      <td>True</td>\n      <td>True</td>\n      <td>False</td>\n    </tr>\n  </tbody>\n</table>\n</div>"
     },
     "execution_count": 61,
     "metadata": {},
     "output_type": "execute_result"
    }
   ],
   "source": [
    "df_test"
   ],
   "metadata": {
    "collapsed": false,
    "pycharm": {
     "name": "#%%\n"
    }
   }
  },
  {
   "cell_type": "code",
   "execution_count": null,
   "outputs": [],
   "source": [],
   "metadata": {
    "collapsed": false,
    "pycharm": {
     "name": "#%%\n"
    }
   }
  }
 ],
 "metadata": {
  "kernelspec": {
   "display_name": "Python 3",
   "language": "python",
   "name": "python3"
  },
  "language_info": {
   "codemirror_mode": {
    "name": "ipython",
    "version": 2
   },
   "file_extension": ".py",
   "mimetype": "text/x-python",
   "name": "python",
   "nbconvert_exporter": "python",
   "pygments_lexer": "ipython2",
   "version": "2.7.6"
  }
 },
 "nbformat": 4,
 "nbformat_minor": 0
}