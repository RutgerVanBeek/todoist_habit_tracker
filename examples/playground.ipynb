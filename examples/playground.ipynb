{
 "cells": [
  {
   "cell_type": "code",
   "execution_count": 1,
   "outputs": [],
   "source": [
    "import todoist\n",
    "import pandas as pd\n",
    "import numpy as np\n",
    "import os"
   ],
   "metadata": {
    "collapsed": false,
    "pycharm": {
     "name": "#%%\n"
    }
   }
  },
  {
   "cell_type": "code",
   "execution_count": 2,
   "outputs": [],
   "source": [
    "from todoist_habit_tracker.todoist_connection import TodoistConnection\n",
    "config_file = '/home/rutger/.todoist.txt'"
   ],
   "metadata": {
    "collapsed": false,
    "pycharm": {
     "name": "#%%\n"
    }
   }
  },
  {
   "cell_type": "code",
   "execution_count": 3,
   "outputs": [],
   "source": [
    "config_file = '/home/rutger/.todoist.txt'\n",
    "with open(config_file) as file:\n",
    "    token = file.read()"
   ],
   "metadata": {
    "collapsed": false,
    "pycharm": {
     "name": "#%%\n"
    }
   }
  },
  {
   "cell_type": "code",
   "execution_count": 8,
   "outputs": [
    {
     "ename": "TypeError",
     "evalue": "add() missing 1 required positional argument: 'content'",
     "output_type": "error",
     "traceback": [
      "\u001B[0;31m---------------------------------------------------------------------------\u001B[0m",
      "\u001B[0;31mTypeError\u001B[0m                                 Traceback (most recent call last)",
      "\u001B[0;32m<ipython-input-8-8e1d11fec42c>\u001B[0m in \u001B[0;36m<module>\u001B[0;34m\u001B[0m\n\u001B[1;32m      1\u001B[0m \u001B[0mapi\u001B[0m \u001B[0;34m=\u001B[0m \u001B[0mtodoist\u001B[0m\u001B[0;34m.\u001B[0m\u001B[0mTodoistAPI\u001B[0m\u001B[0;34m(\u001B[0m\u001B[0mtoken\u001B[0m\u001B[0;34m)\u001B[0m\u001B[0;34m\u001B[0m\u001B[0;34m\u001B[0m\u001B[0m\n\u001B[0;32m----> 2\u001B[0;31m \u001B[0mapi\u001B[0m\u001B[0;34m.\u001B[0m\u001B[0mitems\u001B[0m\u001B[0;34m.\u001B[0m\u001B[0madd\u001B[0m\u001B[0;34m(\u001B[0m\u001B[0;34m)\u001B[0m\u001B[0;34m\u001B[0m\u001B[0;34m\u001B[0m\u001B[0m\n\u001B[0m\u001B[1;32m      3\u001B[0m \u001B[0;34m\u001B[0m\u001B[0m\n",
      "\u001B[0;31mTypeError\u001B[0m: add() missing 1 required positional argument: 'content'"
     ]
    }
   ],
   "source": [
    "api = todoist.TodoistAPI(token)\n",
    "api.items.add()"
   ],
   "metadata": {
    "collapsed": false,
    "pycharm": {
     "name": "#%%\n"
    }
   }
  },
  {
   "cell_type": "code",
   "execution_count": 7,
   "outputs": [
    {
     "data": {
      "text/plain": "[Project({'child_order': 0,\n  'collapsed': 0,\n  'color': 48,\n  'has_more_notes': False,\n  'id': 2170868719,\n  'inbox_project': True,\n  'is_archived': 0,\n  'is_deleted': 0,\n  'is_favorite': 0,\n  'name': 'Inbox',\n  'parent_id': None,\n  'shared': False,\n  'sync_id': None}),\n Project({'child_order': 1,\n  'collapsed': 0,\n  'color': 47,\n  'has_more_notes': False,\n  'id': 2245639901,\n  'is_archived': 0,\n  'is_deleted': 0,\n  'is_favorite': 0,\n  'name': 'Projecten',\n  'parent_id': None,\n  'shared': False,\n  'sync_id': None}),\n Project({'child_order': 1,\n  'collapsed': 0,\n  'color': 33,\n  'has_more_notes': False,\n  'id': 2245639924,\n  'is_archived': 0,\n  'is_deleted': 0,\n  'is_favorite': 0,\n  'name': 'Study',\n  'parent_id': 2245639901,\n  'shared': False,\n  'sync_id': None}),\n Project({'child_order': 3,\n  'collapsed': 0,\n  'color': 33,\n  'has_more_notes': False,\n  'id': 2245640005,\n  'is_archived': 1,\n  'is_deleted': 0,\n  'is_favorite': 0,\n  'name': 'Scientific writing',\n  'parent_id': 2245639924,\n  'shared': False,\n  'sync_id': None}),\n Project({'child_order': 3,\n  'collapsed': 0,\n  'color': 33,\n  'has_more_notes': False,\n  'id': 2245640099,\n  'is_archived': 0,\n  'is_deleted': 0,\n  'is_favorite': 0,\n  'name': 'Statistical inference',\n  'parent_id': 2245639924,\n  'shared': False,\n  'sync_id': None}),\n Project({'child_order': 4,\n  'collapsed': 0,\n  'color': 33,\n  'has_more_notes': False,\n  'id': 2245640078,\n  'is_archived': 0,\n  'is_deleted': 0,\n  'is_favorite': 0,\n  'name': 'Martingales',\n  'parent_id': 2245639924,\n  'shared': False,\n  'sync_id': None}),\n Project({'child_order': 2,\n  'collapsed': 0,\n  'color': 33,\n  'has_more_notes': False,\n  'id': 2245640052,\n  'is_archived': 0,\n  'is_deleted': 0,\n  'is_favorite': 0,\n  'name': 'Scientific computing',\n  'parent_id': 2245639924,\n  'shared': False,\n  'sync_id': None}),\n Project({'child_order': 5,\n  'collapsed': 0,\n  'color': 33,\n  'has_more_notes': False,\n  'id': 2245640156,\n  'is_archived': 0,\n  'is_deleted': 0,\n  'is_favorite': 0,\n  'name': 'Risk analysis',\n  'parent_id': 2245639924,\n  'shared': False,\n  'sync_id': None}),\n Project({'child_order': 6,\n  'collapsed': 0,\n  'color': 33,\n  'has_more_notes': False,\n  'id': 2245640082,\n  'is_archived': 1,\n  'is_deleted': 0,\n  'is_favorite': 0,\n  'name': 'Game theory',\n  'parent_id': 2245639924,\n  'shared': False,\n  'sync_id': None}),\n Project({'child_order': 2,\n  'collapsed': 0,\n  'color': 33,\n  'has_more_notes': False,\n  'id': 2245640992,\n  'is_archived': 0,\n  'is_deleted': 0,\n  'is_favorite': 0,\n  'name': 'Becoming a data scientist',\n  'parent_id': 2245639901,\n  'shared': False,\n  'sync_id': None}),\n Project({'child_order': 2,\n  'collapsed': 0,\n  'color': 33,\n  'has_more_notes': False,\n  'id': 2245654353,\n  'is_archived': 0,\n  'is_deleted': 0,\n  'is_favorite': 0,\n  'name': 'Make Kaggle contribution',\n  'parent_id': 2245640992,\n  'shared': False,\n  'sync_id': None}),\n Project({'child_order': 3,\n  'collapsed': 0,\n  'color': 33,\n  'has_more_notes': False,\n  'id': 2245641060,\n  'is_archived': 0,\n  'is_deleted': 0,\n  'is_favorite': 0,\n  'name': 'March',\n  'parent_id': 2245639901,\n  'shared': False,\n  'sync_id': None}),\n Project({'child_order': 1,\n  'collapsed': 0,\n  'color': 33,\n  'has_more_notes': False,\n  'id': 2245654477,\n  'is_archived': 1,\n  'is_deleted': 0,\n  'is_favorite': 0,\n  'name': 'Road to cyba',\n  'parent_id': 2245641060,\n  'shared': False,\n  'sync_id': None}),\n Project({'child_order': 2,\n  'collapsed': 0,\n  'color': 33,\n  'has_more_notes': False,\n  'id': 2245654455,\n  'is_archived': 1,\n  'is_deleted': 0,\n  'is_favorite': 0,\n  'name': 'Finish March year',\n  'parent_id': 2245641060,\n  'shared': False,\n  'sync_id': None}),\n Project({'child_order': 2,\n  'collapsed': 0,\n  'color': 31,\n  'has_more_notes': False,\n  'id': 2245640786,\n  'is_archived': 0,\n  'is_deleted': 0,\n  'is_favorite': 0,\n  'name': 'Relations',\n  'parent_id': None,\n  'shared': False,\n  'sync_id': None}),\n Project({'child_order': 2,\n  'collapsed': 0,\n  'color': 31,\n  'has_more_notes': False,\n  'id': 2245650957,\n  'is_archived': 0,\n  'is_deleted': 0,\n  'is_favorite': 0,\n  'name': 'Organise wispo',\n  'parent_id': 2245640786,\n  'shared': False,\n  'sync_id': None}),\n Project({'child_order': 3,\n  'collapsed': 0,\n  'color': 36,\n  'has_more_notes': False,\n  'id': 2245640837,\n  'is_archived': 0,\n  'is_deleted': 0,\n  'is_favorite': 0,\n  'name': 'GOL',\n  'parent_id': None,\n  'shared': False,\n  'sync_id': None}),\n Project({'child_order': 1,\n  'collapsed': 0,\n  'color': 36,\n  'has_more_notes': False,\n  'id': 2245641104,\n  'is_archived': 1,\n  'is_deleted': 0,\n  'is_favorite': 0,\n  'name': 'Improving CRM',\n  'parent_id': 2245640837,\n  'shared': False,\n  'sync_id': None}),\n Project({'child_order': 2,\n  'collapsed': 0,\n  'color': 36,\n  'has_more_notes': False,\n  'id': 2245641092,\n  'is_archived': 1,\n  'is_deleted': 0,\n  'is_favorite': 0,\n  'name': 'Integrating Todoist',\n  'parent_id': 2245640837,\n  'shared': False,\n  'sync_id': None}),\n Project({'child_order': 4,\n  'collapsed': 0,\n  'color': 41,\n  'has_more_notes': False,\n  'id': 2245640302,\n  'is_archived': 0,\n  'is_deleted': 0,\n  'is_favorite': 0,\n  'name': 'Vitality',\n  'parent_id': None,\n  'shared': False,\n  'sync_id': None}),\n Project({'child_order': 1,\n  'collapsed': 0,\n  'color': 41,\n  'has_more_notes': False,\n  'id': 2245642080,\n  'is_archived': 0,\n  'is_deleted': 0,\n  'is_favorite': 0,\n  'name': 'Inboxes',\n  'parent_id': 2245640302,\n  'shared': False,\n  'sync_id': None}),\n Project({'child_order': 2,\n  'collapsed': 0,\n  'color': 41,\n  'has_more_notes': False,\n  'id': 2245641641,\n  'is_archived': 0,\n  'is_deleted': 0,\n  'is_favorite': 0,\n  'name': 'Chores',\n  'parent_id': 2245640302,\n  'shared': False,\n  'sync_id': None}),\n Project({'child_order': 3,\n  'collapsed': 0,\n  'color': 41,\n  'has_more_notes': False,\n  'id': 2245641603,\n  'is_archived': 0,\n  'is_deleted': 0,\n  'is_favorite': 0,\n  'name': 'Relaxation',\n  'parent_id': 2245640302,\n  'shared': False,\n  'sync_id': None}),\n Project({'child_order': 4,\n  'collapsed': 0,\n  'color': 41,\n  'has_more_notes': False,\n  'id': 2245641350,\n  'is_archived': 0,\n  'is_deleted': 0,\n  'is_favorite': 0,\n  'name': 'Reflection',\n  'parent_id': 2245640302,\n  'shared': False,\n  'sync_id': None}),\n Project({'child_order': 5,\n  'collapsed': 0,\n  'color': 41,\n  'has_more_notes': False,\n  'id': 2245640412,\n  'is_archived': 0,\n  'is_deleted': 0,\n  'is_favorite': 0,\n  'name': 'Sports',\n  'parent_id': 2245640302,\n  'shared': False,\n  'sync_id': None}),\n Project({'child_order': 6,\n  'collapsed': 0,\n  'color': 41,\n  'has_more_notes': False,\n  'id': 2245641031,\n  'is_archived': 0,\n  'is_deleted': 0,\n  'is_favorite': 0,\n  'name': 'Finance',\n  'parent_id': 2245640302,\n  'shared': False,\n  'sync_id': None}),\n Project({'child_order': 7,\n  'collapsed': 0,\n  'color': 41,\n  'has_more_notes': False,\n  'id': 2245640727,\n  'is_archived': 0,\n  'is_deleted': 0,\n  'is_favorite': 0,\n  'name': 'Food',\n  'parent_id': 2245640302,\n  'shared': False,\n  'sync_id': None}),\n Project({'child_order': 8,\n  'collapsed': 0,\n  'color': 41,\n  'has_more_notes': False,\n  'id': 2245640739,\n  'is_archived': 0,\n  'is_deleted': 0,\n  'is_favorite': 0,\n  'name': 'Health',\n  'parent_id': 2245640302,\n  'shared': False,\n  'sync_id': None}),\n Project({'child_order': 1,\n  'collapsed': 0,\n  'color': 33,\n  'id': 2250203651,\n  'is_archived': 0,\n  'is_deleted': 0,\n  'is_favorite': 0,\n  'name': 'Custom habit tracker',\n  'parent_id': 2245640992,\n  'shared': False,\n  'sync_id': None}),\n Project({'child_order': 1,\n  'collapsed': 0,\n  'color': 31,\n  'id': 2250204093,\n  'is_archived': 0,\n  'is_deleted': 0,\n  'is_favorite': 0,\n  'name': 'Lustrum holiday',\n  'parent_id': 2245640786,\n  'shared': False,\n  'sync_id': None}),\n Project({'child_order': 1,\n  'collapsed': 0,\n  'color': 33,\n  'id': 2249570550,\n  'is_archived': 0,\n  'is_deleted': 0,\n  'is_favorite': 0,\n  'name': 'Ethics',\n  'parent_id': 2245639924,\n  'shared': False,\n  'sync_id': None}),\n Project({'child_order': 7,\n  'collapsed': 0,\n  'color': 33,\n  'id': 2249598916,\n  'is_archived': 0,\n  'is_deleted': 0,\n  'is_favorite': 0,\n  'name': 'machine learning 1',\n  'parent_id': 2245639924,\n  'shared': False,\n  'sync_id': None})]"
     },
     "execution_count": 7,
     "metadata": {},
     "output_type": "execute_result"
    }
   ],
   "source": [
    "api.state['projects']"
   ],
   "metadata": {
    "collapsed": false,
    "pycharm": {
     "name": "#%%\n"
    }
   }
  },
  {
   "cell_type": "code",
   "execution_count": null,
   "outputs": [],
   "source": [
    "items = api.state['items']\n",
    "len(items)"
   ],
   "metadata": {
    "collapsed": false,
    "pycharm": {
     "name": "#%%\n"
    }
   }
  },
  {
   "cell_type": "code",
   "execution_count": null,
   "outputs": [],
   "source": [
    "task = items[0]"
   ],
   "metadata": {
    "collapsed": false,
    "pycharm": {
     "name": "#%%\n"
    }
   }
  },
  {
   "cell_type": "code",
   "execution_count": null,
   "outputs": [],
   "source": [
    "task['checked']"
   ],
   "metadata": {
    "collapsed": false,
    "pycharm": {
     "name": "#%%\n"
    }
   }
  },
  {
   "cell_type": "code",
   "execution_count": null,
   "outputs": [],
   "source": [
    "for task in items:\n",
    "    print(task['checked'])"
   ],
   "metadata": {
    "collapsed": false,
    "pycharm": {
     "name": "#%%\n"
    }
   }
  },
  {
   "cell_type": "code",
   "execution_count": null,
   "outputs": [],
   "source": [
    "stats = api.completed.get_stats()"
   ],
   "metadata": {
    "collapsed": false,
    "pycharm": {
     "name": "#%%\n"
    }
   }
  },
  {
   "cell_type": "code",
   "execution_count": null,
   "outputs": [],
   "source": [
    "stats.keys()"
   ],
   "metadata": {
    "collapsed": false,
    "pycharm": {
     "name": "#%%\n"
    }
   }
  },
  {
   "cell_type": "code",
   "execution_count": null,
   "outputs": [],
   "source": [
    "stats['completed_count']"
   ],
   "metadata": {
    "collapsed": false,
    "pycharm": {
     "name": "#%%\n"
    }
   }
  },
  {
   "cell_type": "code",
   "execution_count": null,
   "outputs": [],
   "source": [
    "stats['days_items']"
   ],
   "metadata": {
    "collapsed": false,
    "pycharm": {
     "name": "#%%\n"
    }
   }
  },
  {
   "cell_type": "code",
   "execution_count": null,
   "outputs": [],
   "source": [
    "import pandas as pd\n"
   ],
   "metadata": {
    "collapsed": false,
    "pycharm": {
     "name": "#%%\n"
    }
   }
  },
  {
   "cell_type": "code",
   "execution_count": null,
   "outputs": [],
   "source": [
    "pd.Series(data=[date['total_completed'] for date in stats['days_items']], index=[date['date'] for date in stats['days_items']])"
   ],
   "metadata": {
    "collapsed": false,
    "pycharm": {
     "name": "#%%\n"
    }
   }
  },
  {
   "cell_type": "code",
   "execution_count": null,
   "outputs": [],
   "source": [
    "week_stats = stats['week_items']"
   ],
   "metadata": {
    "collapsed": false,
    "pycharm": {
     "name": "#%%\n"
    }
   }
  },
  {
   "cell_type": "code",
   "execution_count": null,
   "outputs": [],
   "source": [
    "week_stats"
   ],
   "metadata": {
    "collapsed": false,
    "pycharm": {
     "name": "#%%\n"
    }
   }
  },
  {
   "cell_type": "code",
   "execution_count": null,
   "outputs": [],
   "source": [
    "weeks = pd.Series(data=[date['total_completed'] for date in week_stats], index=[date['from'] for date in week_stats])"
   ],
   "metadata": {
    "collapsed": false,
    "pycharm": {
     "name": "#%%\n"
    }
   }
  },
  {
   "cell_type": "code",
   "execution_count": null,
   "outputs": [],
   "source": [
    "weeks"
   ],
   "metadata": {
    "collapsed": false,
    "pycharm": {
     "name": "#%%\n"
    }
   }
  },
  {
   "cell_type": "code",
   "execution_count": 3,
   "metadata": {
    "collapsed": true
   },
   "outputs": [],
   "source": [
    "# use own API\n",
    "todoist = TodoistConnection.from_config_file(config_file)\n",
    "# todoist.items"
   ]
  },
  {
   "cell_type": "code",
   "execution_count": 12,
   "outputs": [
    {
     "name": "stdout",
     "output_type": "stream",
     "text": [
      "Help on class TodoistConnection in module src.todoist_connection:\n",
      "\n",
      "class TodoistConnection(builtins.object)\n",
      " |  TodoistConnection(token)\n",
      " |  \n",
      " |  Methods defined here:\n",
      " |  \n",
      " |  __init__(self, token)\n",
      " |      Initialize self.  See help(type(self)) for accurate signature.\n",
      " |  \n",
      " |  ----------------------------------------------------------------------\n",
      " |  Readonly properties defined here:\n",
      " |  \n",
      " |  projects\n",
      " |  \n",
      " |  ----------------------------------------------------------------------\n",
      " |  Data descriptors defined here:\n",
      " |  \n",
      " |  __dict__\n",
      " |      dictionary for instance variables (if defined)\n",
      " |  \n",
      " |  __weakref__\n",
      " |      list of weak references to the object (if defined)\n",
      "\n"
     ]
    }
   ],
   "source": [
    "help(TodoistConnection)"
   ],
   "metadata": {
    "collapsed": false,
    "pycharm": {
     "name": "#%%\n"
    }
   }
  },
  {
   "cell_type": "code",
   "execution_count": 14,
   "outputs": [],
   "source": [
    "task = todoist.tasks[1]"
   ],
   "metadata": {
    "collapsed": false,
    "pycharm": {
     "name": "#%%\n"
    }
   }
  },
  {
   "cell_type": "code",
   "execution_count": 8,
   "outputs": [],
   "source": [
    "if task['checked']:\n",
    "    print('hello')\n"
   ],
   "metadata": {
    "collapsed": false,
    "pycharm": {
     "name": "#%%\n"
    }
   }
  },
  {
   "cell_type": "code",
   "execution_count": 15,
   "outputs": [
    {
     "ename": "AttributeError",
     "evalue": "'Item' object has no attribute 'checked'",
     "output_type": "error",
     "traceback": [
      "\u001B[0;31m---------------------------------------------------------------------------\u001B[0m",
      "\u001B[0;31mAttributeError\u001B[0m                            Traceback (most recent call last)",
      "\u001B[0;32m<ipython-input-15-9d98d4d1b59c>\u001B[0m in \u001B[0;36m<module>\u001B[0;34m\u001B[0m\n\u001B[0;32m----> 1\u001B[0;31m \u001B[0mtask\u001B[0m\u001B[0;34m.\u001B[0m\u001B[0mchecked\u001B[0m\u001B[0;34m\u001B[0m\u001B[0;34m\u001B[0m\u001B[0m\n\u001B[0m",
      "\u001B[0;31mAttributeError\u001B[0m: 'Item' object has no attribute 'checked'"
     ]
    }
   ],
   "source": [
    "task.checked"
   ],
   "metadata": {
    "collapsed": false,
    "pycharm": {
     "name": "#%%\n"
    }
   }
  },
  {
   "cell_type": "code",
   "execution_count": 6,
   "outputs": [
    {
     "data": {
      "text/plain": "92"
     },
     "execution_count": 6,
     "metadata": {},
     "output_type": "execute_result"
    }
   ],
   "source": [
    "len(todoist.uncompleted_tasks)"
   ],
   "metadata": {
    "collapsed": false,
    "pycharm": {
     "name": "#%%\n"
    }
   }
  },
  {
   "cell_type": "code",
   "execution_count": 3,
   "outputs": [
    {
     "ename": "TypeError",
     "evalue": "'list' object is not callable",
     "output_type": "error",
     "traceback": [
      "\u001B[0;31m---------------------------------------------------------------------------\u001B[0m",
      "\u001B[0;31mTypeError\u001B[0m                                 Traceback (most recent call last)",
      "\u001B[0;32m<ipython-input-3-adb7b082c201>\u001B[0m in \u001B[0;36m<module>\u001B[0;34m\u001B[0m\n\u001B[0;32m----> 1\u001B[0;31m \u001B[0mtodoist\u001B[0m\u001B[0;34m.\u001B[0m\u001B[0muncompleted_tasks\u001B[0m\u001B[0;34m(\u001B[0m\u001B[0;34m)\u001B[0m\u001B[0;34m\u001B[0m\u001B[0;34m\u001B[0m\u001B[0m\n\u001B[0m",
      "\u001B[0;31mTypeError\u001B[0m: 'list' object is not callable"
     ]
    }
   ],
   "source": [
    "todoist.uncompleted_tasks()"
   ],
   "metadata": {
    "collapsed": false,
    "pycharm": {
     "name": "#%%\n"
    }
   }
  },
  {
   "cell_type": "code",
   "execution_count": 4,
   "outputs": [
    {
     "name": "stdout",
     "output_type": "stream",
     "text": [
      "Help on TodoistConnection in module todoist_habit_tracker.todoist_connection object:\n",
      "\n",
      "class TodoistConnection(builtins.object)\n",
      " |  TodoistConnection(token)\n",
      " |  \n",
      " |  Methods defined here:\n",
      " |  \n",
      " |  __init__(self, token)\n",
      " |      Initialize self.  See help(type(self)) for accurate signature.\n",
      " |  \n",
      " |  filter_tasks(self, filter_function)\n",
      " |  \n",
      " |  ----------------------------------------------------------------------\n",
      " |  Class methods defined here:\n",
      " |  \n",
      " |  from_config_file(config_file) from builtins.type\n",
      " |  \n",
      " |  ----------------------------------------------------------------------\n",
      " |  Readonly properties defined here:\n",
      " |  \n",
      " |  projects\n",
      " |  \n",
      " |  tasks\n",
      " |  \n",
      " |  uncompleted_tasks\n",
      " |  \n",
      " |  ----------------------------------------------------------------------\n",
      " |  Data descriptors defined here:\n",
      " |  \n",
      " |  __dict__\n",
      " |      dictionary for instance variables (if defined)\n",
      " |  \n",
      " |  __weakref__\n",
      " |      list of weak references to the object (if defined)\n",
      "\n"
     ]
    }
   ],
   "source": [
    "help(todoist)\n"
   ],
   "metadata": {
    "collapsed": false,
    "pycharm": {
     "name": "#%%\n"
    }
   }
  },
  {
   "cell_type": "code",
   "execution_count": 5,
   "outputs": [
    {
     "ename": "AttributeError",
     "evalue": "module 'todoist' has no attribute 'items'",
     "output_type": "error",
     "traceback": [
      "\u001B[0;31m---------------------------------------------------------------------------\u001B[0m",
      "\u001B[0;31mAttributeError\u001B[0m                            Traceback (most recent call last)",
      "\u001B[0;32m<ipython-input-5-cece6a46f9f7>\u001B[0m in \u001B[0;36m<module>\u001B[0;34m\u001B[0m\n\u001B[0;32m----> 1\u001B[0;31m \u001B[0mtodoist\u001B[0m\u001B[0;34m.\u001B[0m\u001B[0mitems\u001B[0m\u001B[0;34m.\u001B[0m\u001B[0madd\u001B[0m\u001B[0;34m(\u001B[0m\u001B[0;34m)\u001B[0m\u001B[0;34m\u001B[0m\u001B[0;34m\u001B[0m\u001B[0m\n\u001B[0m",
      "\u001B[0;31mAttributeError\u001B[0m: module 'todoist' has no attribute 'items'"
     ]
    }
   ],
   "source": [
    "todoist.items.add()"
   ],
   "metadata": {
    "collapsed": false,
    "pycharm": {
     "name": "#%%\n"
    }
   }
  },
  {
   "cell_type": "code",
   "execution_count": 10,
   "outputs": [],
   "source": [
    "a = api.items"
   ],
   "metadata": {
    "collapsed": false,
    "pycharm": {
     "name": "#%%\n"
    }
   }
  },
  {
   "cell_type": "code",
   "execution_count": 12,
   "outputs": [],
   "source": [
    "a = api.state['items']"
   ],
   "metadata": {
    "collapsed": false,
    "pycharm": {
     "name": "#%%\n"
    }
   }
  },
  {
   "cell_type": "code",
   "execution_count": 13,
   "outputs": [
    {
     "data": {
      "text/plain": "Item({'added_by_uid': None,\n 'assigned_by_uid': 15358147,\n 'checked': 0,\n 'child_order': 49,\n 'collapsed': 0,\n 'content': 'money counting',\n 'date_added': '2018-12-23T10:43:04Z',\n 'date_completed': None,\n 'day_order': -1,\n 'due': {'date': '2021-01-01',\n         'is_recurring': True,\n         'lang': 'en',\n         'string': 'every 1',\n         'timezone': None},\n 'has_more_notes': False,\n 'id': 2968233996,\n 'in_history': 0,\n 'is_deleted': 0,\n 'labels': [2155514023, 2155263627],\n 'parent_id': None,\n 'priority': 3,\n 'project_id': 2245641031,\n 'responsible_uid': None,\n 'section_id': None,\n 'sync_id': None,\n 'user_id': 15358147})"
     },
     "execution_count": 13,
     "metadata": {},
     "output_type": "execute_result"
    }
   ],
   "source": [
    "a[0]"
   ],
   "metadata": {
    "collapsed": false,
    "pycharm": {
     "name": "#%%\n"
    }
   }
  },
  {
   "cell_type": "code",
   "execution_count": 16,
   "outputs": [
    {
     "data": {
      "text/plain": "{'date': '2021-01-01',\n 'is_recurring': True,\n 'lang': 'en',\n 'string': 'every 1',\n 'timezone': None}"
     },
     "execution_count": 16,
     "metadata": {},
     "output_type": "execute_result"
    }
   ],
   "source": [
    "a[0]['due']"
   ],
   "metadata": {
    "collapsed": false,
    "pycharm": {
     "name": "#%%\n"
    }
   }
  },
  {
   "cell_type": "code",
   "execution_count": 19,
   "outputs": [
    {
     "name": "stdout",
     "output_type": "stream",
     "text": [
      "[2155514023, 2155263627]\n",
      "[2155263627]\n",
      "[2155263627]\n",
      "[2155263627]\n",
      "[2155263649]\n",
      "[2155263630]\n",
      "[2155263627]\n",
      "[2155514023, 2155263630]\n",
      "[2155263630]\n",
      "[2155263649]\n",
      "[2155263649]\n",
      "[]\n",
      "[2155263649]\n",
      "[2155263649]\n",
      "[2155263649]\n",
      "[2155263653]\n",
      "[2155305400]\n",
      "[2155305400]\n",
      "[2155305400]\n",
      "[2155305400]\n",
      "[2155305400]\n",
      "[2155305400]\n",
      "[2155305400]\n",
      "[2155305400]\n",
      "[2155305400]\n",
      "[]\n",
      "[]\n",
      "[]\n",
      "[2155305400]\n",
      "[2155263649]\n",
      "[2155263649]\n",
      "[2155305400]\n",
      "[2155305400]\n",
      "[2155263649]\n",
      "[2155263653, 2155470478]\n",
      "[2155263653, 2155470478]\n",
      "[2155263630]\n",
      "[]\n",
      "[]\n",
      "[]\n",
      "[]\n",
      "[]\n",
      "[]\n",
      "[]\n",
      "[]\n",
      "[]\n",
      "[]\n",
      "[]\n",
      "[]\n",
      "[]\n",
      "[]\n",
      "[2155305400]\n",
      "[2155514023, 2155263630]\n",
      "[2155263653, 2155470478]\n",
      "[2155263630]\n",
      "[2155263653, 2155470478]\n",
      "[]\n",
      "[]\n",
      "[2155263653]\n",
      "[2155263653]\n",
      "[2155263653]\n",
      "[2155263653]\n",
      "[2155263653]\n",
      "[2155263653]\n",
      "[]\n",
      "[2155305400]\n",
      "[]\n",
      "[]\n",
      "[]\n",
      "[2155490620]\n",
      "[2155490620]\n",
      "[2155490620]\n",
      "[]\n",
      "[]\n",
      "[2155514023]\n",
      "[]\n",
      "[]\n",
      "[]\n",
      "[]\n",
      "[]\n",
      "[2155514023]\n",
      "[2155263653]\n",
      "[]\n",
      "[]\n",
      "[]\n",
      "[]\n",
      "[]\n",
      "[]\n",
      "[]\n",
      "[]\n",
      "[]\n",
      "[2155263653]\n",
      "[]\n",
      "[2155263653]\n",
      "[2155263653]\n",
      "[]\n",
      "[]\n",
      "[2155263653]\n",
      "[2155514023]\n",
      "[2155263653]\n",
      "[]\n",
      "[]\n",
      "[2155263653]\n",
      "[]\n",
      "[]\n",
      "[]\n",
      "[]\n",
      "[2155263653, 2155470478]\n",
      "[2155263653, 2155470478]\n",
      "[2155263653, 2155470478]\n",
      "[2155263653]\n",
      "[]\n",
      "[2155490620, 2155263653]\n",
      "[2155263653, 2155470478]\n",
      "[2155490620, 2155263653]\n",
      "[]\n",
      "[]\n",
      "[2155263653]\n",
      "[2155490620, 2155263653]\n",
      "[]\n",
      "[2155263653]\n",
      "[2155263653]\n",
      "[2155263653]\n",
      "[]\n",
      "[]\n",
      "[2155490620]\n",
      "[2155263653]\n",
      "[]\n",
      "[]\n",
      "[]\n",
      "[2155263653]\n",
      "[]\n",
      "[]\n",
      "[2155263653]\n",
      "[]\n",
      "[]\n",
      "[]\n",
      "[2155263653, 2155470478]\n",
      "[2155305400]\n",
      "[2155490620]\n",
      "[2155490620]\n",
      "[]\n",
      "[]\n",
      "[]\n",
      "[]\n",
      "[2155263653]\n",
      "[]\n",
      "[]\n",
      "[]\n",
      "[]\n",
      "[2155263653]\n",
      "[2155263653]\n",
      "[2155263653]\n",
      "[2155263653]\n",
      "[2155263653]\n",
      "[]\n",
      "[]\n",
      "[2155263653]\n",
      "[2155263653]\n",
      "[2155263653]\n",
      "[]\n",
      "[]\n",
      "[]\n",
      "[2155305400, 2155263653]\n",
      "[]\n",
      "[]\n",
      "[2155305400, 2155263653]\n",
      "[2155263653]\n",
      "[2155263653]\n",
      "[2155263653]\n",
      "[2155263653]\n",
      "[2155263653]\n",
      "[]\n",
      "[2155263653]\n",
      "[2155263653]\n",
      "[2155263653]\n",
      "[2155263653]\n",
      "[2155305400]\n",
      "[2155263653]\n",
      "[2155514023, 2155263653]\n",
      "[2155263653]\n",
      "[]\n",
      "[2155514023]\n",
      "[2155263653]\n",
      "[]\n",
      "[2155263653]\n",
      "[2155263653]\n",
      "[]\n",
      "[2155263653]\n",
      "[2155514023]\n",
      "[]\n",
      "[2155263653]\n",
      "[]\n",
      "[]\n",
      "[]\n",
      "[2155263653]\n",
      "[]\n",
      "[2155263653]\n",
      "[2155263653]\n",
      "[]\n",
      "[]\n",
      "[]\n",
      "[2155263653]\n",
      "[2155263653]\n",
      "[2155263653]\n",
      "[2155263653]\n",
      "[]\n",
      "[2155263653]\n",
      "[]\n",
      "[2155263653]\n",
      "[]\n",
      "[]\n",
      "[]\n",
      "[]\n",
      "[2155263653]\n",
      "[]\n",
      "[]\n",
      "[2155263653]\n",
      "[2155263653]\n",
      "[2155263653]\n",
      "[]\n",
      "[]\n",
      "[2155263653]\n",
      "[]\n",
      "[]\n",
      "[]\n",
      "[]\n",
      "[2155263653]\n",
      "[]\n",
      "[]\n",
      "[]\n",
      "[2155263649]\n",
      "[]\n",
      "[2155263649]\n",
      "[]\n",
      "[]\n",
      "[]\n",
      "[2155263653]\n",
      "[]\n",
      "[]\n",
      "[]\n",
      "[]\n",
      "[]\n",
      "[2155263653]\n",
      "[2155263653]\n",
      "[2155263653]\n",
      "[2155263653]\n",
      "[2155263653]\n",
      "[]\n",
      "[]\n",
      "[2155263653]\n",
      "[]\n",
      "[]\n",
      "[2155263653]\n",
      "[2155263653]\n",
      "[2155263653]\n",
      "[2155514023]\n",
      "[2155514023]\n",
      "[2155263653]\n",
      "[]\n",
      "[2155263653]\n",
      "[2155514023]\n",
      "[]\n",
      "[2155263653, 2155470478]\n",
      "[2155490620, 2155263653, 2155470478]\n",
      "[2155490620]\n",
      "[2155263653]\n",
      "[2155263653]\n",
      "[2155263653, 2155470478]\n",
      "[2155263653, 2155470478]\n",
      "[2155514023, 2155263653]\n",
      "[2155263653, 2155470478]\n",
      "[]\n",
      "[]\n",
      "[2155263653]\n",
      "[]\n",
      "[2155263653, 2155470478]\n",
      "[2155263653]\n",
      "[2155514023]\n",
      "[2155263653, 2155470478]\n",
      "[]\n",
      "[2155490620, 2155263653, 2155470478]\n",
      "[2155263653, 2155470478]\n",
      "[2155514023]\n",
      "[]\n",
      "[2155470478]\n",
      "[2155263653]\n",
      "[]\n",
      "[]\n",
      "[2155514023]\n",
      "[2155470478]\n",
      "[2155470478]\n",
      "[]\n",
      "[2155470478]\n",
      "[2155514023]\n",
      "[]\n",
      "[2155263653]\n",
      "[2155263653]\n",
      "[2155470478]\n",
      "[2155263653, 2155470478]\n",
      "[2155263653]\n",
      "[2155514023]\n",
      "[]\n",
      "[2155514023]\n",
      "[2155514023, 2155470478]\n",
      "[]\n",
      "[2155490620]\n",
      "[]\n",
      "[]\n",
      "[]\n",
      "[]\n",
      "[2155263653]\n",
      "[2155263653]\n",
      "[]\n",
      "[]\n",
      "[]\n",
      "[2155263653]\n",
      "[2155263653]\n",
      "[]\n",
      "[]\n",
      "[]\n",
      "[]\n",
      "[2155514023]\n",
      "[]\n",
      "[]\n",
      "[]\n",
      "[2155263649]\n",
      "[2155263653]\n",
      "[]\n",
      "[2155490620, 2155470478]\n",
      "[]\n",
      "[2155263653]\n",
      "[]\n",
      "[2155470478]\n",
      "[]\n",
      "[2155490620]\n",
      "[2155263653]\n",
      "[]\n",
      "[2155263653, 2155470478]\n",
      "[2155263653]\n",
      "[2155263653, 2155470478]\n",
      "[2155263653, 2155470478]\n",
      "[2155263653, 2155470478]\n",
      "[2155514023, 2155263653]\n",
      "[2155263653]\n",
      "[]\n",
      "[]\n",
      "[2155263653]\n",
      "[2155470478]\n",
      "[]\n",
      "[]\n",
      "[]\n",
      "[2155514023, 2155263653]\n",
      "[]\n",
      "[2155514023]\n",
      "[2155263653, 2155470478]\n",
      "[2155263653, 2155470478]\n",
      "[2155263653, 2155470478]\n",
      "[]\n",
      "[2155263653]\n",
      "[]\n",
      "[2155263653]\n",
      "[2155514023]\n",
      "[2155263653]\n",
      "[2155263653]\n",
      "[]\n",
      "[]\n",
      "[2155263653, 2155470478]\n",
      "[2155470478]\n",
      "[2155263653, 2155470478]\n",
      "[2155263653, 2155470478]\n",
      "[2155263653, 2155470478]\n",
      "[]\n",
      "[]\n",
      "[2155263653]\n",
      "[]\n",
      "[]\n",
      "[2155263653, 2155470478]\n",
      "[2155470478]\n",
      "[2155490620]\n",
      "[2155490620, 2155470478]\n",
      "[]\n",
      "[]\n",
      "[2155263653]\n",
      "[]\n",
      "[]\n",
      "[]\n",
      "[]\n",
      "[]\n",
      "[2155305400]\n",
      "[2155263653, 2155470478]\n",
      "[2155263653, 2155470478]\n",
      "[2155263653, 2155470478]\n",
      "[2155263653]\n",
      "[]\n",
      "[]\n",
      "[2155263653]\n",
      "[2155263653]\n",
      "[2155514023]\n",
      "[]\n",
      "[2155263653]\n",
      "[2155263653]\n",
      "[]\n",
      "[]\n",
      "[]\n",
      "[2155263653]\n",
      "[2155263653]\n",
      "[]\n",
      "[]\n",
      "[2155263653]\n",
      "[]\n",
      "[]\n",
      "[]\n",
      "[]\n",
      "[2155263653, 2155470478]\n",
      "[]\n",
      "[]\n",
      "[2155263653, 2155470478]\n",
      "[]\n",
      "[]\n",
      "[]\n",
      "[]\n",
      "[]\n",
      "[2155263653, 2155470478]\n",
      "[2155263653, 2155470478]\n",
      "[]\n",
      "[2155263653]\n",
      "[2155263653]\n",
      "[2155490620, 2155263653]\n",
      "[2155263653, 2155470478]\n",
      "[2155514023]\n",
      "[]\n",
      "[2155263653]\n",
      "[2155263653, 2155470478]\n",
      "[2155263653, 2155470478]\n",
      "[]\n",
      "[2155263653]\n",
      "[2155263653]\n",
      "[]\n",
      "[]\n",
      "[2155263653]\n",
      "[2155263653, 2155470478]\n",
      "[2155514023]\n",
      "[2155470478]\n",
      "[2155263653, 2155470478]\n",
      "[]\n",
      "[2155263653]\n",
      "[]\n",
      "[2155263653, 2155470478]\n",
      "[]\n",
      "[2155263653]\n",
      "[2155263653]\n",
      "[]\n",
      "[]\n",
      "[]\n",
      "[2155263653, 2155470478]\n",
      "[2155490620, 2155263653, 2155470478]\n",
      "[2155470478]\n",
      "[]\n",
      "[2155490620, 2155470478]\n",
      "[]\n",
      "[]\n",
      "[]\n",
      "[]\n",
      "[2155514023]\n",
      "[2155263653, 2155470478]\n",
      "[2155514023]\n",
      "[2155514023]\n",
      "[]\n",
      "[2155263653]\n",
      "[2155470478]\n",
      "[]\n",
      "[2155490620]\n",
      "[2155490620]\n",
      "[]\n",
      "[]\n",
      "[]\n",
      "[2155514023]\n",
      "[2155263653]\n",
      "[]\n",
      "[2155263653]\n",
      "[2155514023]\n",
      "[2155263653]\n",
      "[2155263653, 2155470478]\n",
      "[2155263653, 2155470478]\n",
      "[2155263653, 2155470478]\n",
      "[2155263653, 2155470478]\n",
      "[]\n",
      "[2155490620]\n",
      "[]\n",
      "[]\n",
      "[2155263653]\n",
      "[2155263653]\n",
      "[]\n",
      "[]\n",
      "[]\n",
      "[]\n",
      "[2155514023]\n",
      "[2155514023, 2155263630]\n",
      "[]\n",
      "[2155514023]\n",
      "[]\n",
      "[2155263653]\n",
      "[2155263653, 2155470478]\n",
      "[2155263653, 2155470478]\n",
      "[2155263653, 2155470478]\n",
      "[2155263653, 2155470478]\n",
      "[2155470478]\n",
      "[2155470478]\n",
      "[2155470478]\n",
      "[]\n",
      "[]\n",
      "[]\n",
      "[]\n",
      "[]\n",
      "[2155263653, 2155470478]\n",
      "[2155263653]\n",
      "[2155263653]\n",
      "[2155263653]\n",
      "[2155263653]\n",
      "[]\n",
      "[]\n",
      "[]\n",
      "[]\n",
      "[]\n",
      "[2155263653]\n",
      "[2155263653]\n",
      "[2155263653]\n",
      "[2155263653]\n",
      "[2155263630]\n",
      "[2155263653]\n",
      "[2155263653]\n",
      "[2155263653]\n",
      "[]\n",
      "[]\n",
      "[]\n",
      "[]\n",
      "[2155263653]\n",
      "[2155263653]\n",
      "[2155514023]\n",
      "[2155490620]\n",
      "[]\n",
      "[]\n",
      "[]\n",
      "[]\n",
      "[]\n",
      "[]\n"
     ]
    }
   ],
   "source": [
    "for task in a:\n",
    "    print(task['labels'])"
   ],
   "metadata": {
    "collapsed": false,
    "pycharm": {
     "name": "#%%\n"
    }
   }
  },
  {
   "cell_type": "code",
   "execution_count": 4,
   "outputs": [],
   "source": [
    "label_id = todoist.get_label_by_name('habit')['id']\n",
    "habits = todoist.filter_tasks(lambda item: label_id in item['labels'])"
   ],
   "metadata": {
    "collapsed": false,
    "pycharm": {
     "name": "#%%\n"
    }
   }
  },
  {
   "cell_type": "code",
   "execution_count": 5,
   "outputs": [
    {
     "data": {
      "text/plain": "1"
     },
     "execution_count": 5,
     "metadata": {},
     "output_type": "execute_result"
    }
   ],
   "source": [
    "len(habits)"
   ],
   "metadata": {
    "collapsed": false,
    "pycharm": {
     "name": "#%%\n"
    }
   }
  },
  {
   "cell_type": "code",
   "execution_count": 8,
   "outputs": [
    {
     "data": {
      "text/plain": "[2155514023, 2155263627]"
     },
     "execution_count": 8,
     "metadata": {},
     "output_type": "execute_result"
    }
   ],
   "source": [
    "todoist.tasks[0]['labels']"
   ],
   "metadata": {
    "collapsed": false,
    "pycharm": {
     "name": "#%%\n"
    }
   }
  },
  {
   "cell_type": "code",
   "execution_count": 9,
   "outputs": [
    {
     "data": {
      "text/plain": "list"
     },
     "execution_count": 9,
     "metadata": {},
     "output_type": "execute_result"
    }
   ],
   "source": [
    "type(todoist.tasks)"
   ],
   "metadata": {
    "collapsed": false,
    "pycharm": {
     "name": "#%%\n"
    }
   }
  },
  {
   "cell_type": "code",
   "execution_count": 10,
   "outputs": [
    {
     "data": {
      "text/plain": "todoist.models.Item"
     },
     "execution_count": 10,
     "metadata": {},
     "output_type": "execute_result"
    }
   ],
   "source": [
    "type(todoist.tasks[0])"
   ],
   "metadata": {
    "collapsed": false,
    "pycharm": {
     "name": "#%%\n"
    }
   }
  },
  {
   "cell_type": "code",
   "execution_count": 7,
   "outputs": [],
   "source": [
    "habits = todoist.filter_tasks(lambda item: 'a' in item['labels'])"
   ],
   "metadata": {
    "collapsed": false,
    "pycharm": {
     "name": "#%%\n"
    }
   }
  },
  {
   "cell_type": "code",
   "execution_count": 7,
   "outputs": [],
   "source": [
    "todoist.add_task({'content': 'test_add_task'})"
   ],
   "metadata": {
    "collapsed": false,
    "pycharm": {
     "name": "#%%\n"
    }
   }
  },
  {
   "cell_type": "code",
   "execution_count": 5,
   "outputs": [
    {
     "data": {
      "text/plain": "todoist_habit_tracker.todoist_connection.TodoistConnection"
     },
     "execution_count": 5,
     "metadata": {},
     "output_type": "execute_result"
    }
   ],
   "source": [
    "type(todoist)\n"
   ],
   "metadata": {
    "collapsed": false,
    "pycharm": {
     "name": "#%%\n"
    }
   }
  },
  {
   "cell_type": "code",
   "execution_count": 18,
   "outputs": [
    {
     "data": {
      "text/plain": "NoneType"
     },
     "execution_count": 18,
     "metadata": {},
     "output_type": "execute_result"
    }
   ],
   "source": [
    "type(todoist.add_task())"
   ],
   "metadata": {
    "collapsed": false,
    "pycharm": {
     "name": "#%%\n"
    }
   }
  },
  {
   "cell_type": "code",
   "execution_count": 7,
   "outputs": [
    {
     "name": "stdout",
     "output_type": "stream",
     "text": [
      "finished\n"
     ]
    }
   ],
   "source": [
    "todoist = TodoistConnection.from_config_file(config_file)\n",
    "print('finished')"
   ],
   "metadata": {
    "collapsed": false,
    "pycharm": {
     "name": "#%%\n"
    }
   }
  },
  {
   "cell_type": "code",
   "execution_count": 7,
   "outputs": [],
   "source": [
    "todoist.add_task({'content': 'test 2'})\n",
    "todoist.commit()"
   ],
   "metadata": {
    "collapsed": false,
    "pycharm": {
     "name": "#%%\n"
    }
   }
  },
  {
   "cell_type": "code",
   "execution_count": 5,
   "outputs": [],
   "source": [
    "def init_todoist():\n",
    "    dirname = os.path.abspath(os.path.dirname(__file__))\n",
    "    filename = os.path.join(os.path.split(dirname)[0], '.config/.todoist.txt')\n",
    "    todoist = todoist_connection.TodoistConnection.from_config_file(filename)\n",
    "    return todoist\n",
    "\n",
    "\n",
    "def create_task(habit, label_id):\n",
    "    # task for the next day with the same id?\n",
    "    task = {'content': habit['content'], 'project_id': habit['project_id'], 'priority': habit['priority']}\n",
    "    task['labels'] = [label for label in habit['labels'] if label != label_id]\n",
    "    task['due'] = {'string': 'tommorow'}\n",
    "    return task\n",
    "\n",
    "def main(config_file):\n",
    "    LABEL = 'habit'\n",
    "    print('start')\n",
    "    todoist = TodoistConnection.from_config_file(config_file)\n",
    "    print('initialized')\n",
    "    # project_id = list(filter(lambda project: project['name'] == PROJECT, todoist.projects))[-1]['id']\n",
    "    label_id = todoist.get_label_by_name(LABEL)['id']\n",
    "    habits = todoist.filter_tasks(lambda task: label_id in task['labels'])\n",
    "\n",
    "    for habit in habits:\n",
    "        todoist.add_task(create_task(habit, label_id))\n",
    "    print('created tasks')\n",
    "    todoist.commit()\n",
    "    print('commited')\n",
    "    return todoist"
   ],
   "metadata": {
    "collapsed": false,
    "pycharm": {
     "name": "#%%\n"
    }
   }
  },
  {
   "cell_type": "code",
   "execution_count": 6,
   "outputs": [
    {
     "name": "stdout",
     "output_type": "stream",
     "text": [
      "start\n",
      "initialized\n",
      "created tasks\n",
      "commited\n"
     ]
    }
   ],
   "source": [
    "todoist = main(config_file)"
   ],
   "metadata": {
    "collapsed": false,
    "pycharm": {
     "name": "#%%\n"
    }
   }
  },
  {
   "cell_type": "code",
   "execution_count": 28,
   "outputs": [
    {
     "data": {
      "text/plain": "[Item({'added_by_uid': 15358147,\n  'assigned_by_uid': None,\n  'checked': 1,\n  'child_order': 2,\n  'collapsed': 0,\n  'content': 'test microsoft teams stuff',\n  'date_added': '2020-11-17T07:44:10Z',\n  'date_completed': '2020-11-17T08:35:58Z',\n  'day_order': -1,\n  'due': {'date': '2020-11-17T10:00:00',\n          'is_recurring': False,\n          'lang': 'en',\n          'string': '17 Nov 10:00',\n          'timezone': None},\n  'id': 4342041970,\n  'in_history': 1,\n  'is_deleted': 0,\n  'labels': [],\n  'parent_id': None,\n  'priority': 4,\n  'project_id': 2249570550,\n  'responsible_uid': None,\n  'section_id': None,\n  'sync_id': None,\n  'user_id': 15358147}),\n Item({'added_by_uid': 15358147,\n  'assigned_by_uid': None,\n  'checked': 0,\n  'child_order': 1,\n  'collapsed': 0,\n  'content': 'test',\n  'date_added': '2020-12-13T20:01:28Z',\n  'date_completed': None,\n  'day_order': -1,\n  'due': None,\n  'id': 4411237772,\n  'in_history': 0,\n  'is_deleted': 0,\n  'labels': [2155788059],\n  'parent_id': None,\n  'priority': 1,\n  'project_id': 2252535675,\n  'responsible_uid': None,\n  'section_id': None,\n  'sync_id': None,\n  'user_id': 15358147}),\n Item({'added_by_uid': 15358147,\n  'assigned_by_uid': None,\n  'checked': 1,\n  'child_order': 63,\n  'collapsed': 0,\n  'content': 'test pseudo code with exact',\n  'date_added': '2020-12-17T15:25:13Z',\n  'date_completed': '2020-12-17T16:47:44Z',\n  'day_order': -1,\n  'due': {'date': '2020-12-17',\n          'is_recurring': False,\n          'lang': 'en',\n          'string': '17 Dec',\n          'timezone': None},\n  'id': 4421990201,\n  'in_history': 1,\n  'is_deleted': 0,\n  'labels': [],\n  'parent_id': None,\n  'priority': 1,\n  'project_id': 2245640052,\n  'responsible_uid': None,\n  'section_id': None,\n  'sync_id': None,\n  'user_id': 15358147}),\n Item({'added_by_uid': 15358147,\n  'assigned_by_uid': None,\n  'checked': 1,\n  'child_order': 58,\n  'collapsed': 0,\n  'content': 'test_add_task',\n  'date_added': '2020-12-19T13:34:49Z',\n  'date_completed': '2020-12-19T14:03:15Z',\n  'day_order': -1,\n  'due': None,\n  'id': 4426583690,\n  'in_history': 1,\n  'is_deleted': 0,\n  'labels': [],\n  'parent_id': None,\n  'priority': 1,\n  'project_id': 2170868719,\n  'responsible_uid': None,\n  'section_id': None,\n  'sync_id': None,\n  'user_id': 15358147}),\n Item({'added_by_uid': 15358147,\n  'assigned_by_uid': None,\n  'checked': 1,\n  'child_order': 59,\n  'collapsed': 0,\n  'content': 'test {automatic}',\n  'date_added': '2020-12-19T13:48:15Z',\n  'date_completed': '2020-12-19T14:03:15Z',\n  'day_order': -1,\n  'due': None,\n  'id': 4426606288,\n  'in_history': 1,\n  'is_deleted': 0,\n  'labels': [],\n  'parent_id': None,\n  'priority': 1,\n  'project_id': 2170868719,\n  'responsible_uid': None,\n  'section_id': None,\n  'sync_id': None,\n  'user_id': 15358147}),\n Item({'added_by_uid': 15358147,\n  'assigned_by_uid': None,\n  'checked': 1,\n  'child_order': 60,\n  'collapsed': 0,\n  'content': 'test {automatic}',\n  'date_added': '2020-12-19T13:48:15Z',\n  'date_completed': '2020-12-19T14:03:16Z',\n  'day_order': -1,\n  'due': None,\n  'id': 4426606293,\n  'in_history': 1,\n  'is_deleted': 0,\n  'labels': [],\n  'parent_id': None,\n  'priority': 1,\n  'project_id': 2170868719,\n  'responsible_uid': None,\n  'section_id': None,\n  'sync_id': None,\n  'user_id': 15358147}),\n Item({'added_by_uid': 15358147,\n  'assigned_by_uid': None,\n  'checked': 1,\n  'child_order': 61,\n  'collapsed': 0,\n  'content': 'test 2 {automatic}',\n  'date_added': '2020-12-19T13:48:29Z',\n  'date_completed': '2020-12-19T14:03:17Z',\n  'day_order': -1,\n  'due': None,\n  'id': 4426606780,\n  'in_history': 1,\n  'is_deleted': 0,\n  'labels': [],\n  'parent_id': None,\n  'priority': 1,\n  'project_id': 2170868719,\n  'responsible_uid': None,\n  'section_id': None,\n  'sync_id': None,\n  'user_id': 15358147}),\n Item({'content': 'test {automatic}',\n  'id': 'e46ad888-4202-11eb-88ae-8d0c13dd66a0',\n  'project_id': 2170868719})]"
     },
     "execution_count": 28,
     "metadata": {},
     "output_type": "execute_result"
    }
   ],
   "source": [
    "todoist.filter_tasks(lambda task: 'test' in task['content'])"
   ],
   "metadata": {
    "collapsed": false,
    "pycharm": {
     "name": "#%%\n"
    }
   }
  },
  {
   "cell_type": "code",
   "execution_count": 16,
   "outputs": [
    {
     "name": "stdout",
     "output_type": "stream",
     "text": [
      "None\n"
     ]
    },
    {
     "data": {
      "text/plain": "{'collaborator_states': [],\n 'collaborators': [],\n 'day_orders': {},\n 'day_orders_timestamp': '1607027944.1774726',\n 'due_exceptions': [],\n 'filters': [],\n 'full_sync': False,\n 'items': [],\n 'labels': [],\n 'live_notifications': [],\n 'live_notifications_last_read_id': 2292742539,\n 'notes': [],\n 'project_notes': [],\n 'projects': [],\n 'reminders': [],\n 'sections': [],\n 'sync_token': 'CNcqlWu6cgKWbulV1TJL4HScYl_-7w4QzBCDDvr0K1kVDKgkIoo7teCf2sYp0GGsWOoZO41mTdD9JdUI179AKQfefh9Uf3rJvYoNyYrWigvBj6k',\n 'temp_id_mapping': {},\n 'view_options': []}"
     },
     "execution_count": 16,
     "metadata": {},
     "output_type": "execute_result"
    }
   ],
   "source": [
    "print(todoist.commit())\n",
    "todoist.api.sync()"
   ],
   "metadata": {
    "collapsed": false,
    "pycharm": {
     "name": "#%%\n"
    }
   }
  },
  {
   "cell_type": "code",
   "execution_count": 18,
   "outputs": [],
   "source": [
    "todoist.api.reset_state()"
   ],
   "metadata": {
    "collapsed": false,
    "pycharm": {
     "name": "#%%\n"
    }
   }
  },
  {
   "cell_type": "code",
   "execution_count": 19,
   "outputs": [
    {
     "data": {
      "text/plain": "{'collaborator_states': [],\n 'collaborators': [],\n 'day_orders': {'3360612581': 9,\n  '3447622732': 1,\n  '3448991312': 8,\n  '3659840603': 6,\n  '3755274505': 1,\n  '3782055145': 10,\n  '3844224457': 4,\n  '3845222529': 0,\n  '3845223146': 0,\n  '3846844974': 0,\n  '3846866421': 0,\n  '3846876717': 2,\n  '3846980905': 1,\n  '3846989811': 1,\n  '3847537680': 4,\n  '3849536723': 0,\n  '3849644892': 1,\n  '3849685118': 2,\n  '3850044945': 5,\n  '3850072863': 6,\n  '3850094758': 0,\n  '3850095062': 0,\n  '3850111696': 0,\n  '3850111937': 1,\n  '3850112877': 2,\n  '3850148240': 3,\n  '3850452686': 0,\n  '3852398881': 0,\n  '3852406247': 0,\n  '3853939281': 0,\n  '3854220473': 1,\n  '3855529567': 0,\n  '3859144812': 0,\n  '3859144875': 1,\n  '3864567313': 0,\n  '3864667477': 0,\n  '3866318340': 1,\n  '3866320524': 1,\n  '3866333975': 0,\n  '3866335138': 1,\n  '3866335551': 2,\n  '3866336149': 3,\n  '3866336658': 4,\n  '3866337849': 5,\n  '3866338284': 6,\n  '3867460499': 0,\n  '3867939896': 1,\n  '3867940745': 2,\n  '3869463748': 0,\n  '3871875386': 1,\n  '3872096786': 2,\n  '3872146575': 4,\n  '3872177076': 5,\n  '3872374315': 6,\n  '3872622020': 6,\n  '3873171570': 6,\n  '3873279629': 7,\n  '3879551905': 0,\n  '3879552691': 1,\n  '3879552901': 2,\n  '3879554441': 3,\n  '3882804320': 0,\n  '3882808650': 1,\n  '3885483979': 0,\n  '3885485650': 1,\n  '3885672177': 2,\n  '3885672179': 3,\n  '3885672180': 4,\n  '3885672522': 4,\n  '3885672704': 5,\n  '3887753386': 0,\n  '3887753642': 1,\n  '3887753918': 2,\n  '3887754123': 3,\n  '3887754368': 4,\n  '3887754679': 5,\n  '3887766988': 6,\n  '3894050488': 0,\n  '3894055340': 1,\n  '3894067637': 2,\n  '3894674288': 3,\n  '3894906733': 0,\n  '3896887862': 0,\n  '3897486124': 0,\n  '3897486594': 1,\n  '3897487385': 2,\n  '3897489355': 3,\n  '3898409010': 0,\n  '3901952736': 0,\n  '3904681511': 1,\n  '3907695251': 0,\n  '3907696435': 1,\n  '3908289273': 0,\n  '3909501692': 1,\n  '3910524714': 0,\n  '3910536251': 0,\n  '3910686162': 1,\n  '3910730738': 2,\n  '3911112900': 1,\n  '3911207084': 3,\n  '3911221823': 4,\n  '3911258807': 5,\n  '3911374525': 4,\n  '3911452166': 4,\n  '3915998615': 0,\n  '3916969536': 0,\n  '3918704851': 0,\n  '3918706038': 0,\n  '3921674255': 0,\n  '3921864368': 1,\n  '3923242004': 0,\n  '3923242305': 1,\n  '3923242513': 2,\n  '3923242783': 3,\n  '3923243126': 4,\n  '3923243686': 5,\n  '3923244430': 6,\n  '3923244795': 7,\n  '3923245445': 0,\n  '3923247724': 1,\n  '3923262037': 2,\n  '3923263928': 3,\n  '3923444705': 0,\n  '3924878041': 1,\n  '3924878295': 2,\n  '3928321676': 0,\n  '3928720299': 1,\n  '3929005162': 1,\n  '3931155334': 0,\n  '3931155538': 1,\n  '3931601778': 0,\n  '3932562537': 0,\n  '3932562901': 1,\n  '3932563105': 2,\n  '3932563363': 3,\n  '3932563695': 4,\n  '3933525969': 0,\n  '3936045897': 1,\n  '3936045932': 2,\n  '3936046179': 1,\n  '3936047262': 3,\n  '3936047296': 4,\n  '3936047427': 5,\n  '3936047567': 5,\n  '3937147848': 0,\n  '3937148060': 1,\n  '3937148211': 2,\n  '3937148499': 3,\n  '3937148749': 4,\n  '3937148799': 5,\n  '3937148986': 6,\n  '3938976491': 1,\n  '3939771659': 4,\n  '3939815312': 4,\n  '3941593578': 2,\n  '3941594501': 3,\n  '3941595405': 4,\n  '3941597129': 5,\n  '3941597722': 6,\n  '3941598103': 7,\n  '3941927062': 8,\n  '3942431082': 2,\n  '3942496850': 3,\n  '3944162315': 0,\n  '3944169403': 0,\n  '3944169679': 1,\n  '3944170129': 2,\n  '3944170358': 3,\n  '3944170466': 4,\n  '3944170954': 5,\n  '3944179395': 6,\n  '3944179694': 7,\n  '3944180238': 8,\n  '3944201109': 9,\n  '3949378982': 0,\n  '3953052044': 0,\n  '3953089418': 1,\n  '3953175522': 1,\n  '3957773529': 0,\n  '3957774610': 1,\n  '3957775256': 2,\n  '3958184277': 0,\n  '3958184409': 1,\n  '3985321311': 10,\n  '3987410522': 4,\n  '3988142549': 11,\n  '3988155741': 5,\n  '3988156303': 6,\n  '3988156642': 7,\n  '3988156845': 12,\n  '3989679692': 13,\n  '4008487275': 1,\n  '4029481043': 1,\n  '4029481105': 2,\n  '4029481199': 3,\n  '4041292249': 1,\n  '4041292384': 2,\n  '4041293236': 4,\n  '4041366697': 8,\n  '4060631575': 7,\n  '4062953925': 8,\n  '4064901187': 4,\n  '4065151231': 5,\n  '4066546198': 7,\n  '4067380387': 8,\n  '4067573663': 9,\n  '4082498536': 9,\n  '4082498769': 14,\n  '4082499399': 1,\n  '4082500595': 10,\n  '4086211607': 2,\n  '4086211786': 3,\n  '4086212315': 11,\n  '4086212577': 15,\n  '4208597834': 11,\n  '4208609202': 9,\n  '4208939792': 10,\n  '4215546886': 1,\n  '4215551961': 12,\n  '4215552521': 13,\n  '4215555465': 2,\n  '4215555965': 4,\n  '4215556303': 5,\n  '4215556607': 6,\n  '4218548809': 4,\n  '4241633824': 1,\n  '4264615262': 11,\n  '4265066275': 2,\n  '4265070648': 3,\n  '4281097816': 12,\n  '4282583048': 21,\n  '4318366864': 13,\n  '4318391969': 4,\n  '4318392632': 14,\n  '4331396258': 16,\n  '4336610097': 24,\n  '4336626308': 17,\n  '4336630813': 18,\n  '4336636466': 5,\n  '4336636516': 6,\n  '4336640199': 19,\n  '4337326996': 20,\n  '4337327689': 7,\n  '4337354930': 26,\n  '4338803338': 27,\n  '4366129977': 1,\n  '4366130008': 2,\n  '4366130079': 3},\n 'day_orders_timestamp': '1607027944.1774726',\n 'due_exceptions': [],\n 'filters': [{'color': 38,\n   'id': 2169725517,\n   'is_deleted': 0,\n   'is_favorite': 0,\n   'item_order': 6,\n   'name': 'Priority 1',\n   'query': 'priority 1'},\n  {'color': 38,\n   'id': 2169725518,\n   'is_deleted': 0,\n   'is_favorite': 0,\n   'item_order': 7,\n   'name': 'Priority 2',\n   'query': 'priority 2'},\n  {'color': 38,\n   'id': 2169725519,\n   'is_deleted': 0,\n   'is_favorite': 0,\n   'item_order': 8,\n   'name': 'Priority 3',\n   'query': 'priority 3'},\n  {'color': 38,\n   'id': 2169725520,\n   'is_deleted': 0,\n   'is_favorite': 0,\n   'item_order': 9,\n   'name': 'Priority 4',\n   'query': 'priority 4'},\n  {'color': 38,\n   'id': 2169725521,\n   'is_deleted': 0,\n   'is_favorite': 0,\n   'item_order': 10,\n   'name': 'View all',\n   'query': 'view all'},\n  {'color': 38,\n   'id': 2169725522,\n   'is_deleted': 0,\n   'is_favorite': 0,\n   'item_order': 11,\n   'name': 'No due date',\n   'query': 'no date'},\n  {'color': 47,\n   'id': 2294101618,\n   'is_deleted': 0,\n   'is_favorite': 1,\n   'item_order': 12,\n   'name': 'workday',\n   'query': '(@work & today)'}],\n 'full_sync': True,\n 'incomplete_item_ids': [],\n 'incomplete_project_ids': [],\n 'items': [{'added_by_uid': None,\n   'assigned_by_uid': 15358147,\n   'checked': 0,\n   'child_order': 49,\n   'collapsed': 0,\n   'content': 'money counting',\n   'date_added': '2018-12-23T10:43:04Z',\n   'date_completed': None,\n   'day_order': -1,\n   'due': {'date': '2021-01-01',\n    'is_recurring': True,\n    'lang': 'en',\n    'string': 'every 1',\n    'timezone': None},\n   'has_more_notes': False,\n   'id': 2968233996,\n   'in_history': 0,\n   'is_deleted': 0,\n   'labels': [2155514023, 2155263627],\n   'parent_id': None,\n   'priority': 3,\n   'project_id': 2245641031,\n   'responsible_uid': None,\n   'section_id': None,\n   'sync_id': None,\n   'user_id': 15358147},\n  {'added_by_uid': None,\n   'assigned_by_uid': 15358147,\n   'checked': 0,\n   'child_order': 2,\n   'collapsed': 0,\n   'content': 'clean up room',\n   'date_added': '2019-03-01T09:42:33Z',\n   'date_completed': None,\n   'day_order': -1,\n   'due': {'date': '2020-12-19',\n    'is_recurring': True,\n    'lang': 'en',\n    'string': 'every other sat',\n    'timezone': None},\n   'has_more_notes': False,\n   'id': 3077509499,\n   'in_history': 0,\n   'is_deleted': 0,\n   'labels': [2155263627],\n   'parent_id': None,\n   'priority': 3,\n   'project_id': 2245641641,\n   'responsible_uid': None,\n   'section_id': None,\n   'sync_id': None,\n   'user_id': 15358147},\n  {'added_by_uid': None,\n   'assigned_by_uid': 15358147,\n   'checked': 0,\n   'child_order': 1,\n   'collapsed': 0,\n   'content': 'cleaning duty',\n   'date_added': '2019-04-20T13:32:21Z',\n   'date_completed': None,\n   'day_order': -1,\n   'due': {'date': '2020-12-27',\n    'is_recurring': True,\n    'lang': 'en',\n    'string': 'every other sun',\n    'timezone': None},\n   'has_more_notes': False,\n   'id': 3160449294,\n   'in_history': 0,\n   'is_deleted': 0,\n   'labels': [2155263627],\n   'parent_id': None,\n   'priority': 4,\n   'project_id': 2245641641,\n   'responsible_uid': None,\n   'section_id': None,\n   'sync_id': None,\n   'user_id': 15358147},\n  {'added_by_uid': None,\n   'assigned_by_uid': 15358147,\n   'checked': 0,\n   'child_order': 3,\n   'collapsed': 0,\n   'content': 'clean up room',\n   'date_added': '2019-04-21T11:56:32Z',\n   'date_completed': None,\n   'day_order': -1,\n   'due': {'date': '2020-12-27',\n    'is_recurring': True,\n    'lang': 'en',\n    'string': 'every other sun',\n    'timezone': None},\n   'has_more_notes': False,\n   'id': 3161218506,\n   'in_history': 0,\n   'is_deleted': 0,\n   'labels': [2155263627],\n   'parent_id': None,\n   'priority': 3,\n   'project_id': 2245641641,\n   'responsible_uid': None,\n   'section_id': None,\n   'sync_id': None,\n   'user_id': 15358147},\n  {'added_by_uid': None,\n   'assigned_by_uid': 15358147,\n   'checked': 0,\n   'child_order': 1,\n   'collapsed': 0,\n   'content': 'Adding recipes',\n   'date_added': '2019-04-28T12:12:28Z',\n   'date_completed': None,\n   'day_order': -1,\n   'due': None,\n   'has_more_notes': False,\n   'id': 3172068566,\n   'in_history': 0,\n   'is_deleted': 0,\n   'labels': [2155263649],\n   'parent_id': None,\n   'priority': 1,\n   'project_id': 2245640727,\n   'responsible_uid': None,\n   'section_id': None,\n   'sync_id': None,\n   'user_id': 15358147},\n  {'added_by_uid': None,\n   'assigned_by_uid': 15358147,\n   'checked': 0,\n   'child_order': 1,\n   'collapsed': 0,\n   'content': 'registration mode',\n   'date_added': '2019-08-25T19:15:45Z',\n   'date_completed': None,\n   'day_order': 9,\n   'due': {'date': '2020-12-19',\n    'is_recurring': True,\n    'lang': 'en',\n    'string': 'every day',\n    'timezone': None},\n   'has_more_notes': False,\n   'id': 3360612581,\n   'in_history': 0,\n   'is_deleted': 0,\n   'labels': [2155263630],\n   'parent_id': None,\n   'priority': 3,\n   'project_id': 2245641603,\n   'responsible_uid': None,\n   'section_id': None,\n   'sync_id': None,\n   'user_id': 15358147},\n  {'added_by_uid': None,\n   'assigned_by_uid': 15358147,\n   'checked': 0,\n   'child_order': 1,\n   'collapsed': 0,\n   'content': 'weekly overview',\n   'date_added': '2019-09-29T08:16:02Z',\n   'date_completed': None,\n   'day_order': -1,\n   'due': {'date': '2020-12-20',\n    'is_recurring': True,\n    'lang': 'en',\n    'string': 'every sun',\n    'timezone': None},\n   'has_more_notes': False,\n   'id': 3421810439,\n   'in_history': 0,\n   'is_deleted': 0,\n   'labels': [2155263627],\n   'parent_id': None,\n   'priority': 4,\n   'project_id': 2245640837,\n   'responsible_uid': None,\n   'section_id': None,\n   'sync_id': None,\n   'user_id': 15358147},\n  {'added_by_uid': None,\n   'assigned_by_uid': 15358147,\n   'checked': 0,\n   'child_order': 8,\n   'collapsed': 0,\n   'content': 'mail inbox check',\n   'date_added': '2019-10-14T08:45:34Z',\n   'date_completed': None,\n   'day_order': 8,\n   'due': {'date': '2020-12-20',\n    'is_recurring': True,\n    'lang': 'en',\n    'string': 'every day',\n    'timezone': None},\n   'has_more_notes': False,\n   'id': 3448991312,\n   'in_history': 0,\n   'is_deleted': 0,\n   'labels': [2155514023, 2155263630],\n   'parent_id': None,\n   'priority': 3,\n   'project_id': 2245642080,\n   'responsible_uid': None,\n   'section_id': None,\n   'sync_id': None,\n   'user_id': 15358147},\n  {'added_by_uid': 15358147,\n   'assigned_by_uid': None,\n   'checked': 0,\n   'child_order': 2,\n   'collapsed': 0,\n   'content': 'addressing weekfocus',\n   'date_added': '2020-03-29T15:11:12Z',\n   'date_completed': None,\n   'day_order': 10,\n   'due': {'date': '2020-12-19',\n    'is_recurring': True,\n    'lang': 'en',\n    'string': 'every day',\n    'timezone': None},\n   'has_more_notes': False,\n   'id': 3782055145,\n   'in_history': 0,\n   'is_deleted': 0,\n   'labels': [2155263630],\n   'parent_id': None,\n   'priority': 3,\n   'project_id': 2245640837,\n   'responsible_uid': None,\n   'section_id': None,\n   'sync_id': None,\n   'user_id': 15358147},\n  {'added_by_uid': 15358147,\n   'assigned_by_uid': None,\n   'checked': 0,\n   'child_order': 3,\n   'collapsed': 0,\n   'content': 'Sport en hardloop schoenen kopen',\n   'date_added': '2020-05-11T12:23:06Z',\n   'date_completed': None,\n   'day_order': -1,\n   'due': None,\n   'has_more_notes': False,\n   'id': 3891859144,\n   'in_history': 0,\n   'is_deleted': 0,\n   'labels': [2155263649],\n   'parent_id': None,\n   'priority': 1,\n   'project_id': 2245641031,\n   'responsible_uid': None,\n   'section_id': None,\n   'sync_id': None,\n   'user_id': 15358147},\n  {'added_by_uid': 15358147,\n   'assigned_by_uid': None,\n   'checked': 0,\n   'child_order': 4,\n   'collapsed': 0,\n   'content': 'spot op bureau',\n   'date_added': '2020-05-11T20:13:13Z',\n   'date_completed': None,\n   'day_order': -1,\n   'due': None,\n   'has_more_notes': False,\n   'id': 3893106477,\n   'in_history': 0,\n   'is_deleted': 0,\n   'labels': [2155263649],\n   'parent_id': None,\n   'priority': 1,\n   'project_id': 2245641031,\n   'responsible_uid': None,\n   'section_id': None,\n   'sync_id': None,\n   'user_id': 15358147},\n  {'added_by_uid': 15358147,\n   'assigned_by_uid': None,\n   'checked': 0,\n   'child_order': 2,\n   'collapsed': 0,\n   'content': 'apply ointment evening',\n   'date_added': '2020-09-02T20:21:19Z',\n   'date_completed': None,\n   'day_order': -1,\n   'due': {'date': '2020-12-20',\n    'is_recurring': True,\n    'lang': 'en',\n    'string': 'every sunday',\n    'timezone': None},\n   'has_more_notes': False,\n   'id': 4146827535,\n   'in_history': 0,\n   'is_deleted': 0,\n   'labels': [],\n   'parent_id': None,\n   'priority': 4,\n   'project_id': 2245640739,\n   'responsible_uid': None,\n   'section_id': None,\n   'sync_id': None,\n   'user_id': 15358147},\n  {'added_by_uid': 15358147,\n   'assigned_by_uid': None,\n   'checked': 0,\n   'child_order': 2,\n   'collapsed': 0,\n   'content': 'subscriptions overview',\n   'date_added': '2020-09-27T13:27:10Z',\n   'date_completed': None,\n   'day_order': -1,\n   'due': None,\n   'has_more_notes': False,\n   'id': 4208331956,\n   'in_history': 0,\n   'is_deleted': 0,\n   'labels': [2155263649],\n   'parent_id': None,\n   'priority': 1,\n   'project_id': 2245641031,\n   'responsible_uid': None,\n   'section_id': None,\n   'sync_id': None,\n   'user_id': 15358147},\n  {'added_by_uid': 15358147,\n   'assigned_by_uid': None,\n   'checked': 0,\n   'child_order': 19,\n   'collapsed': 0,\n   'content': 'Make a to do list for notebook for ready for publishing',\n   'date_added': '2020-09-27T15:52:52Z',\n   'date_completed': None,\n   'day_order': -1,\n   'due': None,\n   'has_more_notes': False,\n   'id': 4208603974,\n   'in_history': 0,\n   'is_deleted': 0,\n   'labels': [2155263653],\n   'parent_id': None,\n   'priority': 1,\n   'project_id': 2245654353,\n   'responsible_uid': None,\n   'section_id': None,\n   'sync_id': None,\n   'user_id': 15358147},\n  {'added_by_uid': 15358147,\n   'assigned_by_uid': None,\n   'checked': 0,\n   'child_order': 3,\n   'collapsed': 0,\n   'content': 'love',\n   'date_added': '2020-10-04T17:17:21Z',\n   'date_completed': None,\n   'day_order': -1,\n   'due': None,\n   'has_more_notes': False,\n   'id': 4227997412,\n   'in_history': 0,\n   'is_deleted': 0,\n   'labels': [2155305400],\n   'parent_id': None,\n   'priority': 1,\n   'project_id': 2245640837,\n   'responsible_uid': None,\n   'section_id': None,\n   'sync_id': None,\n   'user_id': 15358147},\n  {'added_by_uid': 15358147,\n   'assigned_by_uid': None,\n   'checked': 0,\n   'child_order': 4,\n   'collapsed': 0,\n   'content': 'loneliness',\n   'date_added': '2020-10-04T17:18:05Z',\n   'date_completed': None,\n   'day_order': -1,\n   'due': None,\n   'has_more_notes': False,\n   'id': 4227998787,\n   'in_history': 0,\n   'is_deleted': 0,\n   'labels': [2155305400],\n   'parent_id': None,\n   'priority': 1,\n   'project_id': 2245640837,\n   'responsible_uid': None,\n   'section_id': None,\n   'sync_id': None,\n   'user_id': 15358147},\n  {'added_by_uid': 15358147,\n   'assigned_by_uid': None,\n   'checked': 0,\n   'child_order': 4,\n   'collapsed': 0,\n   'content': 'mission',\n   'date_added': '2020-10-04T19:48:39Z',\n   'date_completed': None,\n   'day_order': -1,\n   'due': None,\n   'has_more_notes': False,\n   'id': 4228291381,\n   'in_history': 0,\n   'is_deleted': 0,\n   'labels': [2155305400],\n   'parent_id': None,\n   'priority': 1,\n   'project_id': 2170868719,\n   'responsible_uid': None,\n   'section_id': None,\n   'sync_id': None,\n   'user_id': 15358147},\n  {'added_by_uid': 15358147,\n   'assigned_by_uid': None,\n   'checked': 0,\n   'child_order': 5,\n   'collapsed': 0,\n   'content': 'vision',\n   'date_added': '2020-10-04T19:48:39Z',\n   'date_completed': None,\n   'day_order': -1,\n   'due': None,\n   'has_more_notes': False,\n   'id': 4228291387,\n   'in_history': 0,\n   'is_deleted': 0,\n   'labels': [2155305400],\n   'parent_id': None,\n   'priority': 1,\n   'project_id': 2170868719,\n   'responsible_uid': None,\n   'section_id': None,\n   'sync_id': None,\n   'user_id': 15358147},\n  {'added_by_uid': 15358147,\n   'assigned_by_uid': None,\n   'checked': 0,\n   'child_order': 6,\n   'collapsed': 0,\n   'content': 'how is life in general',\n   'date_added': '2020-10-04T19:48:39Z',\n   'date_completed': None,\n   'day_order': -1,\n   'due': None,\n   'has_more_notes': False,\n   'id': 4228291390,\n   'in_history': 0,\n   'is_deleted': 0,\n   'labels': [2155305400],\n   'parent_id': None,\n   'priority': 1,\n   'project_id': 2170868719,\n   'responsible_uid': None,\n   'section_id': None,\n   'sync_id': None,\n   'user_id': 15358147},\n  {'added_by_uid': 15358147,\n   'assigned_by_uid': None,\n   'checked': 0,\n   'child_order': 7,\n   'collapsed': 0,\n   'content': 'how to become a data scientist',\n   'date_added': '2020-10-04T19:48:39Z',\n   'date_completed': None,\n   'day_order': -1,\n   'due': None,\n   'has_more_notes': False,\n   'id': 4228291394,\n   'in_history': 0,\n   'is_deleted': 0,\n   'labels': [2155305400],\n   'parent_id': None,\n   'priority': 1,\n   'project_id': 2170868719,\n   'responsible_uid': None,\n   'section_id': None,\n   'sync_id': None,\n   'user_id': 15358147},\n  {'added_by_uid': 15358147,\n   'assigned_by_uid': None,\n   'checked': 0,\n   'child_order': 8,\n   'collapsed': 0,\n   'content': 'GOL improvements',\n   'date_added': '2020-10-04T19:48:39Z',\n   'date_completed': None,\n   'day_order': -1,\n   'due': None,\n   'has_more_notes': False,\n   'id': 4228291396,\n   'in_history': 0,\n   'is_deleted': 0,\n   'labels': [2155305400],\n   'parent_id': None,\n   'priority': 1,\n   'project_id': 2170868719,\n   'responsible_uid': None,\n   'section_id': None,\n   'sync_id': None,\n   'user_id': 15358147},\n  {'added_by_uid': 15358147,\n   'assigned_by_uid': None,\n   'checked': 0,\n   'child_order': 9,\n   'collapsed': 0,\n   'content': 'distractions/social media',\n   'date_added': '2020-10-04T19:48:40Z',\n   'date_completed': None,\n   'day_order': -1,\n   'due': None,\n   'has_more_notes': False,\n   'id': 4228291398,\n   'in_history': 0,\n   'is_deleted': 0,\n   'labels': [2155305400],\n   'parent_id': None,\n   'priority': 1,\n   'project_id': 2170868719,\n   'responsible_uid': None,\n   'section_id': None,\n   'sync_id': None,\n   'user_id': 15358147},\n  {'added_by_uid': 15358147,\n   'assigned_by_uid': None,\n   'checked': 0,\n   'child_order': 10,\n   'collapsed': 0,\n   'content': 'How to become more productive',\n   'date_added': '2020-10-04T19:48:40Z',\n   'date_completed': None,\n   'day_order': -1,\n   'due': None,\n   'has_more_notes': False,\n   'id': 4228291403,\n   'in_history': 0,\n   'is_deleted': 0,\n   'labels': [2155305400],\n   'parent_id': None,\n   'priority': 1,\n   'project_id': 2170868719,\n   'responsible_uid': None,\n   'section_id': None,\n   'sync_id': None,\n   'user_id': 15358147},\n  {'added_by_uid': 15358147,\n   'assigned_by_uid': None,\n   'checked': 0,\n   'child_order': 49,\n   'collapsed': 0,\n   'content': 'Dentist appointment',\n   'date_added': '2020-10-07T06:53:41Z',\n   'date_completed': None,\n   'day_order': -1,\n   'due': {'date': '2021-03-07',\n    'is_recurring': False,\n    'lang': 'en',\n    'string': '7 Mar 2021',\n    'timezone': None},\n   'has_more_notes': False,\n   'id': 4235688655,\n   'in_history': 0,\n   'is_deleted': 0,\n   'labels': [],\n   'parent_id': None,\n   'priority': 1,\n   'project_id': 2245640739,\n   'responsible_uid': None,\n   'section_id': None,\n   'sync_id': None,\n   'user_id': 15358147},\n  {'added_by_uid': 15358147,\n   'assigned_by_uid': None,\n   'checked': 0,\n   'child_order': 3,\n   'collapsed': 0,\n   'content': 'stretching 1',\n   'date_added': '2020-10-09T08:21:09Z',\n   'date_completed': None,\n   'day_order': 1,\n   'due': {'date': '2020-12-20',\n    'is_recurring': True,\n    'lang': 'en',\n    'string': 'every day',\n    'timezone': None},\n   'has_more_notes': False,\n   'id': 4241633824,\n   'in_history': 0,\n   'is_deleted': 0,\n   'labels': [],\n   'parent_id': None,\n   'priority': 4,\n   'project_id': 2245640739,\n   'responsible_uid': None,\n   'section_id': None,\n   'sync_id': None,\n   'user_id': 15358147},\n  {'added_by_uid': 15358147,\n   'assigned_by_uid': None,\n   'checked': 0,\n   'child_order': 5,\n   'collapsed': 0,\n   'content': 'think about schedule',\n   'date_added': '2020-10-15T06:33:22Z',\n   'date_completed': None,\n   'day_order': -1,\n   'due': None,\n   'has_more_notes': False,\n   'id': 4256889664,\n   'in_history': 0,\n   'is_deleted': 0,\n   'labels': [2155305400],\n   'parent_id': None,\n   'priority': 1,\n   'project_id': 2245640837,\n   'responsible_uid': None,\n   'section_id': None,\n   'sync_id': None,\n   'user_id': 15358147},\n  {'added_by_uid': 15358147,\n   'assigned_by_uid': None,\n   'checked': 0,\n   'child_order': 41,\n   'collapsed': 0,\n   'content': 'buy new clothes',\n   'date_added': '2020-10-18T09:33:47Z',\n   'date_completed': None,\n   'day_order': -1,\n   'due': None,\n   'has_more_notes': False,\n   'id': 4264265160,\n   'in_history': 0,\n   'is_deleted': 0,\n   'labels': [2155263649],\n   'parent_id': None,\n   'priority': 1,\n   'project_id': 2170868719,\n   'responsible_uid': None,\n   'section_id': None,\n   'sync_id': None,\n   'user_id': 15358147},\n  {'added_by_uid': 15358147,\n   'assigned_by_uid': None,\n   'checked': 0,\n   'child_order': 42,\n   'collapsed': 0,\n   'content': 'buy plants',\n   'date_added': '2020-10-18T09:33:49Z',\n   'date_completed': None,\n   'day_order': -1,\n   'due': None,\n   'has_more_notes': False,\n   'id': 4264265218,\n   'in_history': 0,\n   'is_deleted': 0,\n   'labels': [2155263649],\n   'parent_id': None,\n   'priority': 1,\n   'project_id': 2170868719,\n   'responsible_uid': None,\n   'section_id': None,\n   'sync_id': None,\n   'user_id': 15358147},\n  {'added_by_uid': 15358147,\n   'assigned_by_uid': None,\n   'checked': 0,\n   'child_order': 44,\n   'collapsed': 0,\n   'content': 'review yearly letter',\n   'date_added': '2020-10-18T12:11:52Z',\n   'date_completed': None,\n   'day_order': -1,\n   'due': None,\n   'has_more_notes': False,\n   'id': 4264484950,\n   'in_history': 0,\n   'is_deleted': 0,\n   'labels': [2155305400],\n   'parent_id': None,\n   'priority': 1,\n   'project_id': 2170868719,\n   'responsible_uid': None,\n   'section_id': None,\n   'sync_id': None,\n   'user_id': 15358147},\n  {'added_by_uid': 15358147,\n   'assigned_by_uid': None,\n   'checked': 0,\n   'child_order': 45,\n   'collapsed': 0,\n   'content': 'habits',\n   'date_added': '2020-10-18T12:11:57Z',\n   'date_completed': None,\n   'day_order': -1,\n   'due': None,\n   'has_more_notes': False,\n   'id': 4264485081,\n   'in_history': 0,\n   'is_deleted': 0,\n   'labels': [2155305400],\n   'parent_id': None,\n   'priority': 1,\n   'project_id': 2170868719,\n   'responsible_uid': None,\n   'section_id': None,\n   'sync_id': None,\n   'user_id': 15358147},\n  {'added_by_uid': 15358147,\n   'assigned_by_uid': None,\n   'checked': 0,\n   'child_order': 46,\n   'collapsed': 0,\n   'content': 'fix all accounts',\n   'date_added': '2020-10-18T12:15:47Z',\n   'date_completed': None,\n   'day_order': -1,\n   'due': None,\n   'has_more_notes': False,\n   'id': 4264490488,\n   'in_history': 0,\n   'is_deleted': 0,\n   'labels': [2155263649],\n   'parent_id': None,\n   'priority': 1,\n   'project_id': 2170868719,\n   'responsible_uid': None,\n   'section_id': None,\n   'sync_id': None,\n   'user_id': 15358147},\n  {'added_by_uid': 15358147,\n   'assigned_by_uid': None,\n   'checked': 0,\n   'child_order': 47,\n   'collapsed': 0,\n   'content': 'morning workout',\n   'date_added': '2020-10-18T13:36:44Z',\n   'date_completed': None,\n   'day_order': 11,\n   'due': {'date': '2020-12-20T08:00:00',\n    'is_recurring': True,\n    'lang': 'en',\n    'string': 'every day at 8:00',\n    'timezone': None},\n   'has_more_notes': False,\n   'id': 4264615262,\n   'in_history': 0,\n   'is_deleted': 0,\n   'labels': [2155263630],\n   'parent_id': None,\n   'priority': 3,\n   'project_id': 2245640412,\n   'responsible_uid': None,\n   'section_id': None,\n   'sync_id': None,\n   'user_id': 15358147},\n  {'added_by_uid': 15358147,\n   'assigned_by_uid': None,\n   'checked': 0,\n   'child_order': 7,\n   'collapsed': 0,\n   'content': 'apply ointment evening',\n   'date_added': '2020-10-18T17:42:08Z',\n   'date_completed': None,\n   'day_order': 2,\n   'due': {'date': '2020-12-21',\n    'is_recurring': True,\n    'lang': 'en',\n    'string': 'every monday',\n    'timezone': None},\n   'has_more_notes': False,\n   'id': 4265066275,\n   'in_history': 0,\n   'is_deleted': 0,\n   'labels': [],\n   'parent_id': None,\n   'priority': 4,\n   'project_id': 2245640739,\n   'responsible_uid': None,\n   'section_id': None,\n   'sync_id': None,\n   'user_id': 15358147},\n  {'added_by_uid': 15358147,\n   'assigned_by_uid': None,\n   'checked': 0,\n   'child_order': 6,\n   'collapsed': 0,\n   'content': 'apply ointment evening',\n   'date_added': '2020-10-18T17:42:12Z',\n   'date_completed': None,\n   'day_order': -1,\n   'due': {'date': '2020-12-22',\n    'is_recurring': True,\n    'lang': 'en',\n    'string': 'every tue',\n    'timezone': None},\n   'has_more_notes': False,\n   'id': 4265066393,\n   'in_history': 0,\n   'is_deleted': 0,\n   'labels': [],\n   'parent_id': None,\n   'priority': 4,\n   'project_id': 2245640739,\n   'responsible_uid': None,\n   'section_id': None,\n   'sync_id': None,\n   'user_id': 15358147},\n  {'added_by_uid': 15358147,\n   'assigned_by_uid': None,\n   'checked': 0,\n   'child_order': 5,\n   'collapsed': 0,\n   'content': 'apply ointment evening',\n   'date_added': '2020-10-18T17:42:16Z',\n   'date_completed': None,\n   'day_order': -1,\n   'due': {'date': '2020-12-23',\n    'is_recurring': True,\n    'lang': 'en',\n    'string': 'every wed',\n    'timezone': None},\n   'has_more_notes': False,\n   'id': 4265066513,\n   'in_history': 0,\n   'is_deleted': 0,\n   'labels': [],\n   'parent_id': None,\n   'priority': 4,\n   'project_id': 2245640739,\n   'responsible_uid': None,\n   'section_id': None,\n   'sync_id': None,\n   'user_id': 15358147},\n  {'added_by_uid': 15358147,\n   'assigned_by_uid': None,\n   'checked': 0,\n   'child_order': 4,\n   'collapsed': 0,\n   'content': 'apply ointment evening',\n   'date_added': '2020-10-18T17:43:01Z',\n   'date_completed': None,\n   'day_order': -1,\n   'due': {'date': '2020-12-24',\n    'is_recurring': True,\n    'lang': 'en',\n    'string': 'every thur',\n    'timezone': None},\n   'has_more_notes': False,\n   'id': 4265068046,\n   'in_history': 0,\n   'is_deleted': 0,\n   'labels': [],\n   'parent_id': None,\n   'priority': 4,\n   'project_id': 2245640739,\n   'responsible_uid': None,\n   'section_id': None,\n   'sync_id': None,\n   'user_id': 15358147},\n  {'added_by_uid': 15358147,\n   'assigned_by_uid': None,\n   'checked': 0,\n   'child_order': 8,\n   'collapsed': 0,\n   'content': 'apply ointment evening',\n   'date_added': '2020-10-18T17:44:09Z',\n   'date_completed': None,\n   'day_order': -1,\n   'due': {'date': '2020-12-25',\n    'is_recurring': True,\n    'lang': 'en',\n    'string': 'every fri',\n    'timezone': None},\n   'has_more_notes': False,\n   'id': 4265070080,\n   'in_history': 0,\n   'is_deleted': 0,\n   'labels': [],\n   'parent_id': None,\n   'priority': 4,\n   'project_id': 2245640739,\n   'responsible_uid': None,\n   'section_id': None,\n   'sync_id': None,\n   'user_id': 15358147},\n  {'added_by_uid': 15358147,\n   'assigned_by_uid': None,\n   'checked': 0,\n   'child_order': 9,\n   'collapsed': 0,\n   'content': 'apply ointment evening',\n   'date_added': '2020-10-18T17:44:12Z',\n   'date_completed': None,\n   'day_order': -1,\n   'due': {'date': '2020-12-19',\n    'is_recurring': True,\n    'lang': 'en',\n    'string': 'every sat',\n    'timezone': None},\n   'has_more_notes': False,\n   'id': 4265070155,\n   'in_history': 0,\n   'is_deleted': 0,\n   'labels': [],\n   'parent_id': None,\n   'priority': 4,\n   'project_id': 2245640739,\n   'responsible_uid': None,\n   'section_id': None,\n   'sync_id': None,\n   'user_id': 15358147},\n  {'added_by_uid': 15358147,\n   'assigned_by_uid': None,\n   'checked': 0,\n   'child_order': 10,\n   'collapsed': 0,\n   'content': 'apply ointment morning',\n   'date_added': '2020-10-18T17:44:23Z',\n   'date_completed': None,\n   'day_order': -1,\n   'due': {'date': '2020-12-20',\n    'is_recurring': True,\n    'lang': 'en',\n    'string': 'every sunday',\n    'timezone': None},\n   'has_more_notes': False,\n   'id': 4265070479,\n   'in_history': 0,\n   'is_deleted': 0,\n   'labels': [],\n   'parent_id': None,\n   'priority': 4,\n   'project_id': 2245640739,\n   'responsible_uid': None,\n   'section_id': None,\n   'sync_id': None,\n   'user_id': 15358147},\n  {'added_by_uid': 15358147,\n   'assigned_by_uid': None,\n   'checked': 0,\n   'child_order': 11,\n   'collapsed': 0,\n   'content': 'apply ointment morning',\n   'date_added': '2020-10-18T17:44:29Z',\n   'date_completed': None,\n   'day_order': 3,\n   'due': {'date': '2020-12-21',\n    'is_recurring': True,\n    'lang': 'en',\n    'string': 'every mon',\n    'timezone': None},\n   'has_more_notes': False,\n   'id': 4265070648,\n   'in_history': 0,\n   'is_deleted': 0,\n   'labels': [],\n   'parent_id': None,\n   'priority': 4,\n   'project_id': 2245640739,\n   'responsible_uid': None,\n   'section_id': None,\n   'sync_id': None,\n   'user_id': 15358147},\n  {'added_by_uid': 15358147,\n   'assigned_by_uid': None,\n   'checked': 0,\n   'child_order': 12,\n   'collapsed': 0,\n   'content': 'apply ointment morning',\n   'date_added': '2020-10-18T17:44:36Z',\n   'date_completed': None,\n   'day_order': -1,\n   'due': {'date': '2020-12-22',\n    'is_recurring': True,\n    'lang': 'en',\n    'string': 'every tue',\n    'timezone': None},\n   'has_more_notes': False,\n   'id': 4265070866,\n   'in_history': 0,\n   'is_deleted': 0,\n   'labels': [],\n   'parent_id': None,\n   'priority': 4,\n   'project_id': 2245640739,\n   'responsible_uid': None,\n   'section_id': None,\n   'sync_id': None,\n   'user_id': 15358147},\n  {'added_by_uid': 15358147,\n   'assigned_by_uid': None,\n   'checked': 0,\n   'child_order': 13,\n   'collapsed': 0,\n   'content': 'apply ointment morning',\n   'date_added': '2020-10-18T17:44:39Z',\n   'date_completed': None,\n   'day_order': -1,\n   'due': {'date': '2020-12-23',\n    'is_recurring': True,\n    'lang': 'en',\n    'string': 'every wed',\n    'timezone': None},\n   'has_more_notes': False,\n   'id': 4265070945,\n   'in_history': 0,\n   'is_deleted': 0,\n   'labels': [],\n   'parent_id': None,\n   'priority': 4,\n   'project_id': 2245640739,\n   'responsible_uid': None,\n   'section_id': None,\n   'sync_id': None,\n   'user_id': 15358147},\n  {'added_by_uid': 15358147,\n   'assigned_by_uid': None,\n   'checked': 0,\n   'child_order': 14,\n   'collapsed': 0,\n   'content': 'apply ointment morning',\n   'date_added': '2020-10-18T17:44:42Z',\n   'date_completed': None,\n   'day_order': -1,\n   'due': {'date': '2020-12-24',\n    'is_recurring': True,\n    'lang': 'en',\n    'string': 'every thu',\n    'timezone': None},\n   'has_more_notes': False,\n   'id': 4265071074,\n   'in_history': 0,\n   'is_deleted': 0,\n   'labels': [],\n   'parent_id': None,\n   'priority': 4,\n   'project_id': 2245640739,\n   'responsible_uid': None,\n   'section_id': None,\n   'sync_id': None,\n   'user_id': 15358147},\n  {'added_by_uid': 15358147,\n   'assigned_by_uid': None,\n   'checked': 0,\n   'child_order': 15,\n   'collapsed': 0,\n   'content': 'apply ointment morning',\n   'date_added': '2020-10-18T17:44:45Z',\n   'date_completed': None,\n   'day_order': -1,\n   'due': {'date': '2020-12-25',\n    'is_recurring': True,\n    'lang': 'en',\n    'string': 'every fri',\n    'timezone': None},\n   'has_more_notes': False,\n   'id': 4265071167,\n   'in_history': 0,\n   'is_deleted': 0,\n   'labels': [],\n   'parent_id': None,\n   'priority': 4,\n   'project_id': 2245640739,\n   'responsible_uid': None,\n   'section_id': None,\n   'sync_id': None,\n   'user_id': 15358147},\n  {'added_by_uid': 15358147,\n   'assigned_by_uid': None,\n   'checked': 0,\n   'child_order': 16,\n   'collapsed': 0,\n   'content': 'apply ointment morning',\n   'date_added': '2020-10-18T17:44:48Z',\n   'date_completed': None,\n   'day_order': -1,\n   'due': {'date': '2020-12-26',\n    'is_recurring': True,\n    'lang': 'en',\n    'string': 'every sat',\n    'timezone': None},\n   'has_more_notes': False,\n   'id': 4265071240,\n   'in_history': 0,\n   'is_deleted': 0,\n   'labels': [],\n   'parent_id': None,\n   'priority': 4,\n   'project_id': 2245640739,\n   'responsible_uid': None,\n   'section_id': None,\n   'sync_id': None,\n   'user_id': 15358147},\n  {'added_by_uid': 15358147,\n   'assigned_by_uid': None,\n   'checked': 0,\n   'child_order': 57,\n   'collapsed': 0,\n   'content': 'house improvements',\n   'date_added': '2020-10-23T06:53:04Z',\n   'date_completed': None,\n   'day_order': -1,\n   'due': None,\n   'has_more_notes': False,\n   'id': 4278166395,\n   'in_history': 0,\n   'is_deleted': 0,\n   'labels': [2155305400],\n   'parent_id': None,\n   'priority': 1,\n   'project_id': 2170868719,\n   'responsible_uid': None,\n   'section_id': None,\n   'sync_id': None,\n   'user_id': 15358147},\n  {'added_by_uid': 15358147,\n   'assigned_by_uid': None,\n   'checked': 0,\n   'child_order': 48,\n   'collapsed': 0,\n   'content': 'meditate',\n   'date_added': '2020-10-24T13:01:54Z',\n   'date_completed': None,\n   'day_order': 12,\n   'due': {'date': '2020-12-19',\n    'is_recurring': True,\n    'lang': 'en',\n    'string': 'every day',\n    'timezone': None},\n   'has_more_notes': False,\n   'id': 4281097816,\n   'in_history': 0,\n   'is_deleted': 0,\n   'labels': [2155514023, 2155263630],\n   'parent_id': None,\n   'priority': 3,\n   'project_id': 2245641603,\n   'responsible_uid': None,\n   'section_id': None,\n   'sync_id': None,\n   'user_id': 15358147},\n  {'added_by_uid': 15358147,\n   'assigned_by_uid': None,\n   'checked': 0,\n   'child_order': 52,\n   'collapsed': 0,\n   'content': 'update crm',\n   'date_added': '2020-10-25T10:51:47Z',\n   'date_completed': None,\n   'day_order': 21,\n   'due': {'date': '2020-12-19',\n    'is_recurring': True,\n    'lang': 'en',\n    'string': 'every day',\n    'timezone': None},\n   'has_more_notes': False,\n   'id': 4282583048,\n   'in_history': 0,\n   'is_deleted': 0,\n   'labels': [2155263630],\n   'parent_id': None,\n   'priority': 2,\n   'project_id': 2245640786,\n   'responsible_uid': None,\n   'section_id': None,\n   'sync_id': None,\n   'user_id': 15358147},\n  {'added_by_uid': 15358147,\n   'assigned_by_uid': None,\n   'checked': 0,\n   'child_order': 3,\n   'collapsed': 0,\n   'content': 'make a becoming a data scientist plan',\n   'date_added': '2020-11-08T10:10:46Z',\n   'date_completed': None,\n   'day_order': -1,\n   'due': None,\n   'has_more_notes': False,\n   'id': 4318382414,\n   'in_history': 0,\n   'is_deleted': 0,\n   'labels': [2155263649],\n   'parent_id': None,\n   'priority': 1,\n   'project_id': 2245640992,\n   'responsible_uid': None,\n   'section_id': None,\n   'sync_id': None,\n   'user_id': 15358147},\n  {'added_by_uid': 15358147,\n   'assigned_by_uid': None,\n   'checked': 0,\n   'child_order': 17,\n   'collapsed': 0,\n   'content': 'stretching 2',\n   'date_added': '2020-11-08T10:17:41Z',\n   'date_completed': None,\n   'day_order': 4,\n   'due': {'date': '2020-12-19',\n    'is_recurring': True,\n    'lang': 'en',\n    'string': 'every day',\n    'timezone': None},\n   'has_more_notes': False,\n   'id': 4318391969,\n   'in_history': 0,\n   'is_deleted': 0,\n   'labels': [],\n   'parent_id': None,\n   'priority': 4,\n   'project_id': 2245640739,\n   'responsible_uid': None,\n   'section_id': None,\n   'sync_id': None,\n   'user_id': 15358147},\n  {'added_by_uid': 15358147,\n   'assigned_by_uid': None,\n   'checked': 0,\n   'child_order': 18,\n   'collapsed': 0,\n   'content': 'stretchen 3',\n   'date_added': '2020-11-08T10:18:10Z',\n   'date_completed': None,\n   'day_order': 14,\n   'due': {'date': '2020-12-19',\n    'is_recurring': True,\n    'lang': 'en',\n    'string': 'every day',\n    'timezone': None},\n   'has_more_notes': False,\n   'id': 4318392632,\n   'in_history': 0,\n   'is_deleted': 0,\n   'labels': [],\n   'parent_id': None,\n   'priority': 3,\n   'project_id': 2245640739,\n   'responsible_uid': None,\n   'section_id': None,\n   'sync_id': None,\n   'user_id': 15358147},\n  {'added_by_uid': 15358147,\n   'assigned_by_uid': None,\n   'checked': 0,\n   'child_order': 7,\n   'collapsed': 0,\n   'content': 'exercises 11 (Brown basics 2)',\n   'date_added': '2020-11-17T17:52:54Z',\n   'date_completed': None,\n   'day_order': -1,\n   'due': None,\n   'has_more_notes': False,\n   'id': 4343602867,\n   'in_history': 0,\n   'is_deleted': 0,\n   'labels': [2155470478],\n   'parent_id': None,\n   'priority': 1,\n   'project_id': 2245640078,\n   'responsible_uid': None,\n   'section_id': None,\n   'sync_id': None,\n   'user_id': 15358147},\n  {'added_by_uid': 15358147,\n   'assigned_by_uid': None,\n   'checked': 0,\n   'child_order': 8,\n   'collapsed': 0,\n   'content': 'exercises 12 Poisson process and its martingales',\n   'date_added': '2020-11-17T17:53:10Z',\n   'date_completed': None,\n   'day_order': -1,\n   'due': None,\n   'has_more_notes': False,\n   'id': 4343603569,\n   'in_history': 0,\n   'is_deleted': 0,\n   'labels': [2155470478],\n   'parent_id': None,\n   'priority': 1,\n   'project_id': 2245640078,\n   'responsible_uid': None,\n   'section_id': None,\n   'sync_id': None,\n   'user_id': 15358147},\n  {'added_by_uid': 15358147,\n   'assigned_by_uid': None,\n   'checked': 0,\n   'child_order': 3,\n   'collapsed': 0,\n   'content': 'we shoppen',\n   'date_added': '2020-11-21T08:16:58Z',\n   'date_completed': None,\n   'day_order': -1,\n   'due': None,\n   'has_more_notes': False,\n   'id': 4353272503,\n   'in_history': 0,\n   'is_deleted': 0,\n   'labels': [2155263649],\n   'parent_id': None,\n   'priority': 1,\n   'project_id': 2170868719,\n   'responsible_uid': None,\n   'section_id': None,\n   'sync_id': None,\n   'user_id': 15358147},\n  {'added_by_uid': 15358147,\n   'assigned_by_uid': None,\n   'checked': 0,\n   'child_order': 53,\n   'collapsed': 0,\n   'content': 'get new clothes',\n   'date_added': '2020-11-22T09:49:41Z',\n   'date_completed': None,\n   'day_order': -1,\n   'due': {'date': '2020-12-19',\n    'is_recurring': False,\n    'lang': 'en',\n    'string': '19 Dec',\n    'timezone': None},\n   'has_more_notes': False,\n   'id': 4355223519,\n   'in_history': 0,\n   'is_deleted': 0,\n   'labels': [2155263653],\n   'parent_id': None,\n   'priority': 2,\n   'project_id': 2245641031,\n   'responsible_uid': None,\n   'section_id': None,\n   'sync_id': None,\n   'user_id': 15358147},\n  {'added_by_uid': 15358147,\n   'assigned_by_uid': None,\n   'checked': 0,\n   'child_order': 6,\n   'collapsed': 0,\n   'content': 'clean fridge',\n   'date_added': '2020-11-25T16:34:56Z',\n   'date_completed': None,\n   'day_order': -1,\n   'due': {'date': '2020-12-24',\n    'is_recurring': True,\n    'lang': 'en',\n    'string': 'every thursday',\n    'timezone': None},\n   'has_more_notes': False,\n   'id': 4364774699,\n   'in_history': 0,\n   'is_deleted': 0,\n   'labels': [2155514023],\n   'parent_id': None,\n   'priority': 2,\n   'project_id': 2245641641,\n   'responsible_uid': None,\n   'section_id': None,\n   'sync_id': None,\n   'user_id': 15358147},\n  {'added_by_uid': 15358147,\n   'assigned_by_uid': None,\n   'checked': 0,\n   'child_order': 12,\n   'collapsed': 0,\n   'content': 'mouth wash',\n   'date_added': '2020-11-25T16:35:07Z',\n   'date_completed': None,\n   'day_order': -1,\n   'due': {'date': '2020-12-22',\n    'is_recurring': True,\n    'lang': 'en',\n    'string': 'every tuesday',\n    'timezone': None},\n   'has_more_notes': False,\n   'id': 4364775232,\n   'in_history': 0,\n   'is_deleted': 0,\n   'labels': [2155514023],\n   'parent_id': None,\n   'priority': 2,\n   'project_id': 2245640739,\n   'responsible_uid': None,\n   'section_id': None,\n   'sync_id': None,\n   'user_id': 15358147},\n  {'added_by_uid': 15358147,\n   'assigned_by_uid': None,\n   'checked': 0,\n   'child_order': 5,\n   'collapsed': 0,\n   'content': 'exercises 12',\n   'date_added': '2020-11-29T09:17:09Z',\n   'date_completed': None,\n   'day_order': -1,\n   'due': None,\n   'has_more_notes': False,\n   'id': 4372653880,\n   'in_history': 0,\n   'is_deleted': 0,\n   'labels': [],\n   'parent_id': None,\n   'priority': 1,\n   'project_id': 2245640156,\n   'responsible_uid': None,\n   'section_id': None,\n   'sync_id': None,\n   'user_id': 15358147},\n  {'added_by_uid': 15358147,\n   'assigned_by_uid': None,\n   'checked': 0,\n   'child_order': 56,\n   'collapsed': 0,\n   'content': 'cv naar engels',\n   'date_added': '2020-11-29T19:36:07Z',\n   'date_completed': None,\n   'day_order': -1,\n   'due': None,\n   'has_more_notes': False,\n   'id': 4373692652,\n   'in_history': 0,\n   'is_deleted': 0,\n   'labels': [2155263649],\n   'parent_id': None,\n   'priority': 1,\n   'project_id': 2245640992,\n   'responsible_uid': None,\n   'section_id': None,\n   'sync_id': None,\n   'user_id': 15358147},\n  {'added_by_uid': 15358147,\n   'assigned_by_uid': None,\n   'checked': 0,\n   'child_order': 48,\n   'collapsed': 0,\n   'content': 'Drink water',\n   'date_added': '2020-11-30T21:11:12Z',\n   'date_completed': None,\n   'day_order': -1,\n   'due': {'date': '2020-12-20T08:00:00',\n    'is_recurring': True,\n    'lang': 'en',\n    'string': 'every day at 8:00',\n    'timezone': None},\n   'has_more_notes': False,\n   'id': 4377238168,\n   'in_history': 0,\n   'is_deleted': 0,\n   'labels': [],\n   'parent_id': None,\n   'priority': 2,\n   'project_id': 2245640739,\n   'responsible_uid': None,\n   'section_id': None,\n   'sync_id': None,\n   'user_id': 15358147},\n  {'added_by_uid': 15358147,\n   'assigned_by_uid': None,\n   'checked': 0,\n   'child_order': 9,\n   'collapsed': 0,\n   'content': 'slack check',\n   'date_added': '2020-12-06T10:37:27Z',\n   'date_completed': None,\n   'day_order': -1,\n   'due': {'date': '2020-12-21',\n    'is_recurring': True,\n    'lang': 'en',\n    'string': 'every workday',\n    'timezone': None},\n   'has_more_notes': False,\n   'id': 4391934314,\n   'in_history': 0,\n   'is_deleted': 0,\n   'labels': [2155514023, 2155263630],\n   'parent_id': None,\n   'priority': 2,\n   'project_id': 2245642080,\n   'responsible_uid': None,\n   'section_id': None,\n   'sync_id': None,\n   'user_id': 15358147},\n  {'added_by_uid': 15358147,\n   'assigned_by_uid': None,\n   'checked': 0,\n   'child_order': 49,\n   'collapsed': 0,\n   'content': 'read in productiviteits Ninja',\n   'date_added': '2020-12-06T10:38:10Z',\n   'date_completed': None,\n   'day_order': -1,\n   'due': None,\n   'has_more_notes': False,\n   'id': 4391935303,\n   'in_history': 0,\n   'is_deleted': 0,\n   'labels': [],\n   'parent_id': None,\n   'priority': 1,\n   'project_id': 2245641603,\n   'responsible_uid': None,\n   'section_id': None,\n   'sync_id': None,\n   'user_id': 15358147},\n  {'added_by_uid': 15358147,\n   'assigned_by_uid': None,\n   'checked': 0,\n   'child_order': 50,\n   'collapsed': 0,\n   'content': 'read personal Baantjes',\n   'date_added': '2020-12-06T10:38:17Z',\n   'date_completed': None,\n   'day_order': -1,\n   'due': None,\n   'has_more_notes': False,\n   'id': 4391935433,\n   'in_history': 0,\n   'is_deleted': 0,\n   'labels': [],\n   'parent_id': None,\n   'priority': 1,\n   'project_id': 2245641603,\n   'responsible_uid': None,\n   'section_id': None,\n   'sync_id': None,\n   'user_id': 15358147},\n  {'added_by_uid': 15358147,\n   'assigned_by_uid': None,\n   'checked': 0,\n   'child_order': 54,\n   'collapsed': 0,\n   'content': 'lecture 12',\n   'date_added': '2020-12-10T07:59:28Z',\n   'date_completed': None,\n   'day_order': -1,\n   'due': None,\n   'has_more_notes': False,\n   'id': 4403078712,\n   'in_history': 0,\n   'is_deleted': 0,\n   'labels': [2155470478],\n   'parent_id': None,\n   'priority': 1,\n   'project_id': 2245640052,\n   'responsible_uid': None,\n   'section_id': None,\n   'sync_id': None,\n   'user_id': 15358147},\n  {'added_by_uid': 15358147,\n   'assigned_by_uid': None,\n   'checked': 0,\n   'child_order': 55,\n   'collapsed': 0,\n   'content': 'lecture 13',\n   'date_added': '2020-12-10T07:59:31Z',\n   'date_completed': None,\n   'day_order': -1,\n   'due': None,\n   'has_more_notes': False,\n   'id': 4403078792,\n   'in_history': 0,\n   'is_deleted': 0,\n   'labels': [2155470478],\n   'parent_id': None,\n   'priority': 1,\n   'project_id': 2245640052,\n   'responsible_uid': None,\n   'section_id': None,\n   'sync_id': None,\n   'user_id': 15358147},\n  {'added_by_uid': 15358147,\n   'assigned_by_uid': None,\n   'checked': 0,\n   'child_order': 56,\n   'collapsed': 0,\n   'content': 'lecture 14',\n   'date_added': '2020-12-10T07:59:33Z',\n   'date_completed': None,\n   'day_order': -1,\n   'due': None,\n   'has_more_notes': False,\n   'id': 4403078847,\n   'in_history': 0,\n   'is_deleted': 0,\n   'labels': [2155470478],\n   'parent_id': None,\n   'priority': 1,\n   'project_id': 2245640052,\n   'responsible_uid': None,\n   'section_id': None,\n   'sync_id': None,\n   'user_id': 15358147},\n  {'added_by_uid': 15358147,\n   'assigned_by_uid': None,\n   'checked': 0,\n   'child_order': 50,\n   'collapsed': 0,\n   'content': 'pasje laten maken reinier de graaf',\n   'date_added': '2020-12-11T14:16:35Z',\n   'date_completed': None,\n   'day_order': -1,\n   'due': None,\n   'has_more_notes': False,\n   'id': 4406658670,\n   'in_history': 0,\n   'is_deleted': 0,\n   'labels': [],\n   'parent_id': None,\n   'priority': 1,\n   'project_id': 2245640739,\n   'responsible_uid': None,\n   'section_id': None,\n   'sync_id': None,\n   'user_id': 15358147},\n  {'added_by_uid': 15358147,\n   'assigned_by_uid': None,\n   'checked': 0,\n   'child_order': 67,\n   'collapsed': 0,\n   'content': 'Back up setttings',\n   'date_added': '2020-12-12T07:54:33Z',\n   'date_completed': None,\n   'day_order': -1,\n   'due': None,\n   'has_more_notes': False,\n   'id': 4408257414,\n   'in_history': 0,\n   'is_deleted': 0,\n   'labels': [2155263653],\n   'parent_id': None,\n   'priority': 1,\n   'project_id': 2245641641,\n   'responsible_uid': None,\n   'section_id': None,\n   'sync_id': None,\n   'user_id': 15358147},\n  {'added_by_uid': 15358147,\n   'assigned_by_uid': None,\n   'checked': 0,\n   'child_order': 2,\n   'collapsed': 0,\n   'content': 'have a close look at chapter 5',\n   'date_added': '2020-12-13T08:31:29Z',\n   'date_completed': None,\n   'day_order': -1,\n   'due': None,\n   'has_more_notes': False,\n   'id': 4410103566,\n   'in_history': 0,\n   'is_deleted': 0,\n   'labels': [2155470478],\n   'parent_id': None,\n   'priority': 1,\n   'project_id': 2245640099,\n   'responsible_uid': None,\n   'section_id': None,\n   'sync_id': None,\n   'user_id': 15358147},\n  {'added_by_uid': 15358147,\n   'assigned_by_uid': None,\n   'checked': 0,\n   'child_order': 3,\n   'collapsed': 0,\n   'content': 'exercises H6 part 1',\n   'date_added': '2020-12-13T08:31:34Z',\n   'date_completed': None,\n   'day_order': -1,\n   'due': None,\n   'has_more_notes': False,\n   'id': 4410103657,\n   'in_history': 0,\n   'is_deleted': 0,\n   'labels': [2155470478],\n   'parent_id': None,\n   'priority': 1,\n   'project_id': 2245640099,\n   'responsible_uid': None,\n   'section_id': None,\n   'sync_id': None,\n   'user_id': 15358147},\n  {'added_by_uid': 15358147,\n   'assigned_by_uid': None,\n   'checked': 0,\n   'child_order': 4,\n   'collapsed': 0,\n   'content': 'exercises H6 part 2',\n   'date_added': '2020-12-13T08:31:40Z',\n   'date_completed': None,\n   'day_order': -1,\n   'due': None,\n   'has_more_notes': False,\n   'id': 4410103742,\n   'in_history': 0,\n   'is_deleted': 0,\n   'labels': [2155470478],\n   'parent_id': None,\n   'priority': 1,\n   'project_id': 2245640099,\n   'responsible_uid': None,\n   'section_id': None,\n   'sync_id': None,\n   'user_id': 15358147},\n  {'added_by_uid': 15358147,\n   'assigned_by_uid': None,\n   'checked': 0,\n   'child_order': 5,\n   'collapsed': 0,\n   'content': 'summary chapter 4',\n   'date_added': '2020-12-13T08:31:55Z',\n   'date_completed': None,\n   'day_order': -1,\n   'due': None,\n   'has_more_notes': False,\n   'id': 4410103992,\n   'in_history': 0,\n   'is_deleted': 0,\n   'labels': [2155470478],\n   'parent_id': None,\n   'priority': 1,\n   'project_id': 2245640099,\n   'responsible_uid': None,\n   'section_id': None,\n   'sync_id': None,\n   'user_id': 15358147},\n  {'added_by_uid': 15358147,\n   'assigned_by_uid': None,\n   'checked': 0,\n   'child_order': 74,\n   'collapsed': 0,\n   'content': 'bed wash',\n   'date_added': '2020-12-13T08:58:05Z',\n   'date_completed': None,\n   'day_order': -1,\n   'due': {'date': '2020-12-21',\n    'is_recurring': False,\n    'lang': 'en',\n    'string': '21 Dec',\n    'timezone': None},\n   'has_more_notes': False,\n   'id': 4410132552,\n   'in_history': 0,\n   'is_deleted': 0,\n   'labels': [],\n   'parent_id': None,\n   'priority': 1,\n   'project_id': 2245641641,\n   'responsible_uid': None,\n   'section_id': None,\n   'sync_id': None,\n   'user_id': 15358147},\n  {'added_by_uid': 15358147,\n   'assigned_by_uid': None,\n   'checked': 0,\n   'child_order': 70,\n   'collapsed': 0,\n   'content': 'compliment one person in CRM',\n   'date_added': '2020-12-13T09:08:16Z',\n   'date_completed': None,\n   'day_order': -1,\n   'due': {'date': '2020-12-19',\n    'is_recurring': True,\n    'lang': 'en',\n    'string': 'every day',\n    'timezone': None},\n   'has_more_notes': False,\n   'id': 4410144492,\n   'in_history': 0,\n   'is_deleted': 0,\n   'labels': [2155263630],\n   'parent_id': None,\n   'priority': 2,\n   'project_id': 2245640786,\n   'responsible_uid': None,\n   'section_id': None,\n   'sync_id': None,\n   'user_id': 15358147},\n  {'added_by_uid': 15358147,\n   'assigned_by_uid': None,\n   'checked': 0,\n   'child_order': 1,\n   'collapsed': 0,\n   'content': 'test',\n   'date_added': '2020-12-13T20:01:28Z',\n   'date_completed': None,\n   'day_order': -1,\n   'due': None,\n   'has_more_notes': False,\n   'id': 4411237772,\n   'in_history': 0,\n   'is_deleted': 0,\n   'labels': [2155788059],\n   'parent_id': None,\n   'priority': 1,\n   'project_id': 2252535675,\n   'responsible_uid': None,\n   'section_id': None,\n   'sync_id': None,\n   'user_id': 15358147},\n  {'added_by_uid': 15358147,\n   'assigned_by_uid': None,\n   'checked': 0,\n   'child_order': 73,\n   'collapsed': 0,\n   'content': 'exponential family in summary',\n   'date_added': '2020-12-15T09:37:21Z',\n   'date_completed': None,\n   'day_order': -1,\n   'due': None,\n   'has_more_notes': False,\n   'id': 4415618374,\n   'in_history': 0,\n   'is_deleted': 0,\n   'labels': [],\n   'parent_id': None,\n   'priority': 1,\n   'project_id': 2245639924,\n   'responsible_uid': None,\n   'section_id': None,\n   'sync_id': None,\n   'user_id': 15358147},\n  {'added_by_uid': 15358147,\n   'assigned_by_uid': None,\n   'checked': 0,\n   'child_order': 74,\n   'collapsed': 0,\n   'content': 'independence in summary',\n   'date_added': '2020-12-15T09:38:09Z',\n   'date_completed': None,\n   'day_order': -1,\n   'due': None,\n   'has_more_notes': False,\n   'id': 4415619980,\n   'in_history': 0,\n   'is_deleted': 0,\n   'labels': [],\n   'parent_id': None,\n   'priority': 1,\n   'project_id': 2245639924,\n   'responsible_uid': None,\n   'section_id': None,\n   'sync_id': None,\n   'user_id': 15358147},\n  {'added_by_uid': 15358147,\n   'assigned_by_uid': None,\n   'checked': 0,\n   'child_order': 75,\n   'collapsed': 0,\n   'content': 'estimators in summary',\n   'date_added': '2020-12-15T09:38:17Z',\n   'date_completed': None,\n   'day_order': -1,\n   'due': None,\n   'has_more_notes': False,\n   'id': 4415620255,\n   'in_history': 0,\n   'is_deleted': 0,\n   'labels': [],\n   'parent_id': None,\n   'priority': 1,\n   'project_id': 2245639924,\n   'responsible_uid': None,\n   'section_id': None,\n   'sync_id': None,\n   'user_id': 15358147},\n  {'added_by_uid': 15358147,\n   'assigned_by_uid': None,\n   'checked': 0,\n   'child_order': 75,\n   'collapsed': 0,\n   'content': 'marktplaats for house',\n   'date_added': '2020-12-15T17:19:10Z',\n   'date_completed': None,\n   'day_order': -1,\n   'due': None,\n   'has_more_notes': False,\n   'id': 4416783120,\n   'in_history': 0,\n   'is_deleted': 0,\n   'labels': [2155263649],\n   'parent_id': None,\n   'priority': 1,\n   'project_id': 2245640786,\n   'responsible_uid': None,\n   'section_id': None,\n   'sync_id': None,\n   'user_id': 15358147},\n  {'added_by_uid': 15358147,\n   'assigned_by_uid': None,\n   'checked': 0,\n   'child_order': 57,\n   'collapsed': 0,\n   'content': 'summary chapter 3 model problem',\n   'date_added': '2020-12-17T10:00:41Z',\n   'date_completed': None,\n   'day_order': -1,\n   'due': None,\n   'has_more_notes': False,\n   'id': 4421254430,\n   'in_history': 0,\n   'is_deleted': 0,\n   'labels': [2155470478],\n   'parent_id': None,\n   'priority': 1,\n   'project_id': 2245640052,\n   'responsible_uid': None,\n   'section_id': None,\n   'sync_id': None,\n   'user_id': 15358147},\n  {'added_by_uid': 15358147,\n   'assigned_by_uid': None,\n   'checked': 0,\n   'child_order': 58,\n   'collapsed': 0,\n   'content': 'summary chapter 4 Direct Solution Methods',\n   'date_added': '2020-12-17T10:00:50Z',\n   'date_completed': None,\n   'day_order': -1,\n   'due': None,\n   'has_more_notes': False,\n   'id': 4421254693,\n   'in_history': 0,\n   'is_deleted': 0,\n   'labels': [2155470478],\n   'parent_id': None,\n   'priority': 1,\n   'project_id': 2245640052,\n   'responsible_uid': None,\n   'section_id': None,\n   'sync_id': None,\n   'user_id': 15358147},\n  {'added_by_uid': 15358147,\n   'assigned_by_uid': None,\n   'checked': 0,\n   'child_order': 59,\n   'collapsed': 0,\n   'content': 'summary chapter  5 Basic Iterative Methods',\n   'date_added': '2020-12-17T10:01:03Z',\n   'date_completed': None,\n   'day_order': -1,\n   'due': None,\n   'has_more_notes': False,\n   'id': 4421255088,\n   'in_history': 0,\n   'is_deleted': 0,\n   'labels': [2155470478],\n   'parent_id': None,\n   'priority': 1,\n   'project_id': 2245640052,\n   'responsible_uid': None,\n   'section_id': None,\n   'sync_id': None,\n   'user_id': 15358147},\n  {'added_by_uid': 15358147,\n   'assigned_by_uid': None,\n   'checked': 0,\n   'child_order': 60,\n   'collapsed': 0,\n   'content': 'summary chapter 6 Multigrid Methods',\n   'date_added': '2020-12-17T10:01:10Z',\n   'date_completed': None,\n   'day_order': -1,\n   'due': None,\n   'has_more_notes': False,\n   'id': 4421255375,\n   'in_history': 0,\n   'is_deleted': 0,\n   'labels': [2155470478],\n   'parent_id': None,\n   'priority': 1,\n   'project_id': 2245640052,\n   'responsible_uid': None,\n   'section_id': None,\n   'sync_id': None,\n   'user_id': 15358147},\n  {'added_by_uid': 15358147,\n   'assigned_by_uid': None,\n   'checked': 0,\n   'child_order': 61,\n   'collapsed': 0,\n   'content': 'summary chapter 7 Krylov subspace methods',\n   'date_added': '2020-12-17T10:01:20Z',\n   'date_completed': None,\n   'day_order': -1,\n   'due': None,\n   'has_more_notes': False,\n   'id': 4421255597,\n   'in_history': 0,\n   'is_deleted': 0,\n   'labels': [2155470478],\n   'parent_id': None,\n   'priority': 1,\n   'project_id': 2245640052,\n   'responsible_uid': None,\n   'section_id': None,\n   'sync_id': None,\n   'user_id': 15358147},\n  {'added_by_uid': 15358147,\n   'assigned_by_uid': None,\n   'checked': 0,\n   'child_order': 13,\n   'collapsed': 0,\n   'content': 'lecture 13',\n   'date_added': '2020-12-17T14:33:55Z',\n   'date_completed': None,\n   'day_order': -1,\n   'due': None,\n   'has_more_notes': False,\n   'id': 4421859893,\n   'in_history': 0,\n   'is_deleted': 0,\n   'labels': [2155470478],\n   'parent_id': None,\n   'priority': 1,\n   'project_id': 2245640156,\n   'responsible_uid': None,\n   'section_id': None,\n   'sync_id': None,\n   'user_id': 15358147},\n  {'added_by_uid': 15358147,\n   'assigned_by_uid': None,\n   'checked': 0,\n   'child_order': 14,\n   'collapsed': 0,\n   'content': 'exercises 13',\n   'date_added': '2020-12-17T14:33:59Z',\n   'date_completed': None,\n   'day_order': -1,\n   'due': None,\n   'has_more_notes': False,\n   'id': 4421860083,\n   'in_history': 0,\n   'is_deleted': 0,\n   'labels': [2155470478],\n   'parent_id': None,\n   'priority': 1,\n   'project_id': 2245640156,\n   'responsible_uid': None,\n   'section_id': None,\n   'sync_id': None,\n   'user_id': 15358147},\n  {'added_by_uid': 15358147,\n   'assigned_by_uid': None,\n   'checked': 0,\n   'child_order': 15,\n   'collapsed': 0,\n   'content': 'summary 3',\n   'date_added': '2020-12-17T14:34:34Z',\n   'date_completed': None,\n   'day_order': -1,\n   'due': None,\n   'has_more_notes': False,\n   'id': 4421861454,\n   'in_history': 0,\n   'is_deleted': 0,\n   'labels': [2155470478],\n   'parent_id': None,\n   'priority': 1,\n   'project_id': 2245640156,\n   'responsible_uid': None,\n   'section_id': None,\n   'sync_id': None,\n   'user_id': 15358147},\n  {'added_by_uid': 15358147,\n   'assigned_by_uid': None,\n   'checked': 0,\n   'child_order': 16,\n   'collapsed': 0,\n   'content': 'summary 4',\n   'date_added': '2020-12-17T14:34:46Z',\n   'date_completed': None,\n   'day_order': -1,\n   'due': None,\n   'has_more_notes': False,\n   'id': 4421861900,\n   'in_history': 0,\n   'is_deleted': 0,\n   'labels': [2155470478],\n   'parent_id': None,\n   'priority': 1,\n   'project_id': 2245640156,\n   'responsible_uid': None,\n   'section_id': None,\n   'sync_id': None,\n   'user_id': 15358147},\n  {'added_by_uid': 15358147,\n   'assigned_by_uid': None,\n   'checked': 0,\n   'child_order': 17,\n   'collapsed': 0,\n   'content': 'summary 5',\n   'date_added': '2020-12-17T14:34:54Z',\n   'date_completed': None,\n   'day_order': -1,\n   'due': None,\n   'has_more_notes': False,\n   'id': 4421862184,\n   'in_history': 0,\n   'is_deleted': 0,\n   'labels': [2155470478],\n   'parent_id': None,\n   'priority': 1,\n   'project_id': 2245640156,\n   'responsible_uid': None,\n   'section_id': None,\n   'sync_id': None,\n   'user_id': 15358147},\n  {'added_by_uid': 15358147,\n   'assigned_by_uid': None,\n   'checked': 0,\n   'child_order': 18,\n   'collapsed': 0,\n   'content': 'summary 6',\n   'date_added': '2020-12-17T14:34:56Z',\n   'date_completed': None,\n   'day_order': -1,\n   'due': None,\n   'has_more_notes': False,\n   'id': 4421862293,\n   'in_history': 0,\n   'is_deleted': 0,\n   'labels': [2155470478],\n   'parent_id': None,\n   'priority': 1,\n   'project_id': 2245640156,\n   'responsible_uid': None,\n   'section_id': None,\n   'sync_id': None,\n   'user_id': 15358147},\n  {'added_by_uid': 15358147,\n   'assigned_by_uid': None,\n   'checked': 0,\n   'child_order': 19,\n   'collapsed': 0,\n   'content': 'summary 7',\n   'date_added': '2020-12-17T14:34:58Z',\n   'date_completed': None,\n   'day_order': -1,\n   'due': None,\n   'has_more_notes': False,\n   'id': 4421862390,\n   'in_history': 0,\n   'is_deleted': 0,\n   'labels': [2155470478],\n   'parent_id': None,\n   'priority': 1,\n   'project_id': 2245640156,\n   'responsible_uid': None,\n   'section_id': None,\n   'sync_id': None,\n   'user_id': 15358147},\n  {'added_by_uid': 15358147,\n   'assigned_by_uid': None,\n   'checked': 0,\n   'child_order': 20,\n   'collapsed': 0,\n   'content': 'summary 8',\n   'date_added': '2020-12-17T14:35:02Z',\n   'date_completed': None,\n   'day_order': -1,\n   'due': None,\n   'has_more_notes': False,\n   'id': 4421862567,\n   'in_history': 0,\n   'is_deleted': 0,\n   'labels': [2155470478],\n   'parent_id': None,\n   'priority': 1,\n   'project_id': 2245640156,\n   'responsible_uid': None,\n   'section_id': None,\n   'sync_id': None,\n   'user_id': 15358147},\n  {'added_by_uid': 15358147,\n   'assigned_by_uid': None,\n   'checked': 0,\n   'child_order': 21,\n   'collapsed': 0,\n   'content': 'summary 9',\n   'date_added': '2020-12-17T14:35:02Z',\n   'date_completed': None,\n   'day_order': -1,\n   'due': None,\n   'has_more_notes': False,\n   'id': 4421862571,\n   'in_history': 0,\n   'is_deleted': 0,\n   'labels': [2155470478],\n   'parent_id': None,\n   'priority': 1,\n   'project_id': 2245640156,\n   'responsible_uid': None,\n   'section_id': None,\n   'sync_id': None,\n   'user_id': 15358147},\n  {'added_by_uid': 15358147,\n   'assigned_by_uid': None,\n   'checked': 0,\n   'child_order': 22,\n   'collapsed': 0,\n   'content': 'summary 10',\n   'date_added': '2020-12-17T14:35:04Z',\n   'date_completed': None,\n   'day_order': -1,\n   'due': None,\n   'has_more_notes': False,\n   'id': 4421862674,\n   'in_history': 0,\n   'is_deleted': 0,\n   'labels': [2155470478],\n   'parent_id': None,\n   'priority': 1,\n   'project_id': 2245640156,\n   'responsible_uid': None,\n   'section_id': None,\n   'sync_id': None,\n   'user_id': 15358147},\n  {'added_by_uid': 15358147,\n   'assigned_by_uid': None,\n   'checked': 0,\n   'child_order': 23,\n   'collapsed': 0,\n   'content': 'summary 11',\n   'date_added': '2020-12-17T14:35:06Z',\n   'date_completed': None,\n   'day_order': -1,\n   'due': None,\n   'has_more_notes': False,\n   'id': 4421862743,\n   'in_history': 0,\n   'is_deleted': 0,\n   'labels': [2155470478],\n   'parent_id': None,\n   'priority': 1,\n   'project_id': 2245640156,\n   'responsible_uid': None,\n   'section_id': None,\n   'sync_id': None,\n   'user_id': 15358147},\n  {'added_by_uid': 15358147,\n   'assigned_by_uid': None,\n   'checked': 0,\n   'child_order': 24,\n   'collapsed': 0,\n   'content': 'summary 12',\n   'date_added': '2020-12-17T14:35:08Z',\n   'date_completed': None,\n   'day_order': -1,\n   'due': None,\n   'has_more_notes': False,\n   'id': 4421862825,\n   'in_history': 0,\n   'is_deleted': 0,\n   'labels': [2155470478],\n   'parent_id': None,\n   'priority': 1,\n   'project_id': 2245640156,\n   'responsible_uid': None,\n   'section_id': None,\n   'sync_id': None,\n   'user_id': 15358147},\n  {'added_by_uid': 15358147,\n   'assigned_by_uid': None,\n   'checked': 0,\n   'child_order': 25,\n   'collapsed': 0,\n   'content': 'summary 13',\n   'date_added': '2020-12-17T14:35:10Z',\n   'date_completed': None,\n   'day_order': -1,\n   'due': None,\n   'has_more_notes': False,\n   'id': 4421862925,\n   'in_history': 0,\n   'is_deleted': 0,\n   'labels': [2155470478],\n   'parent_id': None,\n   'priority': 1,\n   'project_id': 2245640156,\n   'responsible_uid': None,\n   'section_id': None,\n   'sync_id': None,\n   'user_id': 15358147},\n  {'added_by_uid': 15358147,\n   'assigned_by_uid': None,\n   'checked': 0,\n   'child_order': 77,\n   'collapsed': 0,\n   'content': 'make appointment with Steven for',\n   'date_added': '2020-12-17T19:24:30Z',\n   'date_completed': None,\n   'day_order': -1,\n   'due': {'date': '2020-12-21',\n    'is_recurring': False,\n    'lang': 'en',\n    'string': '21 Dec',\n    'timezone': None},\n   'has_more_notes': False,\n   'id': 4422576679,\n   'in_history': 0,\n   'is_deleted': 0,\n   'labels': [],\n   'parent_id': None,\n   'priority': 3,\n   'project_id': 2245640786,\n   'responsible_uid': None,\n   'section_id': None,\n   'sync_id': None,\n   'user_id': 15358147},\n  {'added_by_uid': 15358147,\n   'assigned_by_uid': None,\n   'checked': 0,\n   'child_order': 76,\n   'collapsed': 0,\n   'content': 'convergence implications in summary',\n   'date_added': '2020-12-18T08:43:05Z',\n   'date_completed': None,\n   'day_order': -1,\n   'due': None,\n   'has_more_notes': False,\n   'id': 4423777831,\n   'in_history': 0,\n   'is_deleted': 0,\n   'labels': [2155470478],\n   'parent_id': None,\n   'priority': 1,\n   'project_id': 2245639924,\n   'responsible_uid': None,\n   'section_id': None,\n   'sync_id': None,\n   'user_id': 15358147},\n  {'added_by_uid': 15358147,\n   'assigned_by_uid': None,\n   'checked': 0,\n   'child_order': 62,\n   'collapsed': 0,\n   'content': 'exercises lecture 12',\n   'date_added': '2020-12-18T14:00:39Z',\n   'date_completed': None,\n   'day_order': -1,\n   'due': None,\n   'has_more_notes': False,\n   'id': 4424458218,\n   'in_history': 0,\n   'is_deleted': 0,\n   'labels': [2155470478],\n   'parent_id': None,\n   'priority': 1,\n   'project_id': 2245640052,\n   'responsible_uid': None,\n   'section_id': None,\n   'sync_id': None,\n   'user_id': 15358147},\n  {'added_by_uid': 15358147,\n   'assigned_by_uid': None,\n   'checked': 0,\n   'child_order': 63,\n   'collapsed': 0,\n   'content': 'exercises lecture 13',\n   'date_added': '2020-12-18T14:00:44Z',\n   'date_completed': None,\n   'day_order': -1,\n   'due': None,\n   'has_more_notes': False,\n   'id': 4424458393,\n   'in_history': 0,\n   'is_deleted': 0,\n   'labels': [2155470478],\n   'parent_id': None,\n   'priority': 1,\n   'project_id': 2245640052,\n   'responsible_uid': None,\n   'section_id': None,\n   'sync_id': None,\n   'user_id': 15358147},\n  {'added_by_uid': 15358147,\n   'assigned_by_uid': None,\n   'checked': 0,\n   'child_order': 64,\n   'collapsed': 0,\n   'content': 'exercises 14',\n   'date_added': '2020-12-18T14:00:46Z',\n   'date_completed': None,\n   'day_order': -1,\n   'due': None,\n   'has_more_notes': False,\n   'id': 4424458517,\n   'in_history': 0,\n   'is_deleted': 0,\n   'labels': [2155470478],\n   'parent_id': None,\n   'priority': 1,\n   'project_id': 2245640052,\n   'responsible_uid': None,\n   'section_id': None,\n   'sync_id': None,\n   'user_id': 15358147},\n  {'added_by_uid': 15358147,\n   'assigned_by_uid': None,\n   'checked': 0,\n   'child_order': 6,\n   'collapsed': 0,\n   'content': 'summary chapter 5',\n   'date_added': '2020-12-18T17:37:02Z',\n   'date_completed': None,\n   'day_order': -1,\n   'due': None,\n   'has_more_notes': False,\n   'id': 4425000127,\n   'in_history': 0,\n   'is_deleted': 0,\n   'labels': [2155470478],\n   'parent_id': None,\n   'priority': 1,\n   'project_id': 2245640099,\n   'responsible_uid': None,\n   'section_id': None,\n   'sync_id': None,\n   'user_id': 15358147},\n  {'added_by_uid': 15358147,\n   'assigned_by_uid': None,\n   'checked': 0,\n   'child_order': 7,\n   'collapsed': 0,\n   'content': 'summary chapter 6',\n   'date_added': '2020-12-18T17:37:41Z',\n   'date_completed': None,\n   'day_order': -1,\n   'due': None,\n   'has_more_notes': False,\n   'id': 4425001533,\n   'in_history': 0,\n   'is_deleted': 0,\n   'labels': [2155470478],\n   'parent_id': None,\n   'priority': 1,\n   'project_id': 2245640099,\n   'responsible_uid': None,\n   'section_id': None,\n   'sync_id': None,\n   'user_id': 15358147},\n  {'added_by_uid': 15358147,\n   'assigned_by_uid': None,\n   'checked': 0,\n   'child_order': 9,\n   'collapsed': 0,\n   'content': 'start on graded homework',\n   'date_added': '2020-12-18T17:43:06Z',\n   'date_completed': None,\n   'day_order': -1,\n   'due': None,\n   'has_more_notes': False,\n   'id': 4425013772,\n   'in_history': 0,\n   'is_deleted': 0,\n   'labels': [2155470478],\n   'parent_id': None,\n   'priority': 1,\n   'project_id': 2245640078,\n   'responsible_uid': None,\n   'section_id': None,\n   'sync_id': None,\n   'user_id': 15358147},\n  {'added_by_uid': 15358147,\n   'assigned_by_uid': None,\n   'checked': 0,\n   'child_order': 10,\n   'collapsed': 0,\n   'content': 'summary on Brownian Motion',\n   'date_added': '2020-12-18T17:44:04Z',\n   'date_completed': None,\n   'day_order': -1,\n   'due': None,\n   'has_more_notes': False,\n   'id': 4425015816,\n   'in_history': 0,\n   'is_deleted': 0,\n   'labels': [2155470478],\n   'parent_id': None,\n   'priority': 1,\n   'project_id': 2245640078,\n   'responsible_uid': None,\n   'section_id': None,\n   'sync_id': None,\n   'user_id': 15358147},\n  {'added_by_uid': 15358147,\n   'assigned_by_uid': None,\n   'checked': 0,\n   'child_order': 1,\n   'collapsed': 0,\n   'content': 'lecture 6_1',\n   'date_added': '2020-12-18T17:44:20Z',\n   'date_completed': None,\n   'day_order': -1,\n   'due': None,\n   'has_more_notes': False,\n   'id': 4425016355,\n   'in_history': 0,\n   'is_deleted': 0,\n   'labels': [2155470478],\n   'parent_id': None,\n   'priority': 1,\n   'project_id': 2249598916,\n   'responsible_uid': None,\n   'section_id': None,\n   'sync_id': None,\n   'user_id': 15358147},\n  {'added_by_uid': 15358147,\n   'assigned_by_uid': None,\n   'checked': 0,\n   'child_order': 2,\n   'collapsed': 0,\n   'content': 'lecture 6_2',\n   'date_added': '2020-12-18T17:44:26Z',\n   'date_completed': None,\n   'day_order': -1,\n   'due': None,\n   'has_more_notes': False,\n   'id': 4425016555,\n   'in_history': 0,\n   'is_deleted': 0,\n   'labels': [2155470478],\n   'parent_id': None,\n   'priority': 1,\n   'project_id': 2249598916,\n   'responsible_uid': None,\n   'section_id': None,\n   'sync_id': None,\n   'user_id': 15358147},\n  {'added_by_uid': 15358147,\n   'assigned_by_uid': None,\n   'checked': 0,\n   'child_order': 3,\n   'collapsed': 0,\n   'content': 'exercises 6',\n   'date_added': '2020-12-18T17:44:31Z',\n   'date_completed': None,\n   'day_order': -1,\n   'due': None,\n   'has_more_notes': False,\n   'id': 4425016742,\n   'in_history': 0,\n   'is_deleted': 0,\n   'labels': [2155470478],\n   'parent_id': None,\n   'priority': 1,\n   'project_id': 2249598916,\n   'responsible_uid': None,\n   'section_id': None,\n   'sync_id': None,\n   'user_id': 15358147},\n  {'added_by_uid': 15358147,\n   'assigned_by_uid': None,\n   'checked': 0,\n   'child_order': 4,\n   'collapsed': 0,\n   'content': 'lecture 7_1',\n   'date_added': '2020-12-18T17:44:36Z',\n   'date_completed': None,\n   'day_order': -1,\n   'due': None,\n   'has_more_notes': False,\n   'id': 4425016899,\n   'in_history': 0,\n   'is_deleted': 0,\n   'labels': [2155470478],\n   'parent_id': None,\n   'priority': 1,\n   'project_id': 2249598916,\n   'responsible_uid': None,\n   'section_id': None,\n   'sync_id': None,\n   'user_id': 15358147},\n  {'added_by_uid': 15358147,\n   'assigned_by_uid': None,\n   'checked': 0,\n   'child_order': 5,\n   'collapsed': 0,\n   'content': 'lecture 7_2',\n   'date_added': '2020-12-18T17:44:42Z',\n   'date_completed': None,\n   'day_order': -1,\n   'due': None,\n   'has_more_notes': False,\n   'id': 4425017110,\n   'in_history': 0,\n   'is_deleted': 0,\n   'labels': [2155470478],\n   'parent_id': None,\n   'priority': 1,\n   'project_id': 2249598916,\n   'responsible_uid': None,\n   'section_id': None,\n   'sync_id': None,\n   'user_id': 15358147},\n  {'added_by_uid': 15358147,\n   'assigned_by_uid': None,\n   'checked': 0,\n   'child_order': 6,\n   'collapsed': 0,\n   'content': 'exercises 7',\n   'date_added': '2020-12-18T17:44:48Z',\n   'date_completed': None,\n   'day_order': -1,\n   'due': None,\n   'has_more_notes': False,\n   'id': 4425017361,\n   'in_history': 0,\n   'is_deleted': 0,\n   'labels': [2155470478],\n   'parent_id': None,\n   'priority': 1,\n   'project_id': 2249598916,\n   'responsible_uid': None,\n   'section_id': None,\n   'sync_id': None,\n   'user_id': 15358147},\n  {'added_by_uid': 15358147,\n   'assigned_by_uid': None,\n   'checked': 0,\n   'child_order': 7,\n   'collapsed': 0,\n   'content': 'summary week 3',\n   'date_added': '2020-12-18T17:45:21Z',\n   'date_completed': None,\n   'day_order': -1,\n   'due': None,\n   'has_more_notes': False,\n   'id': 4425018568,\n   'in_history': 0,\n   'is_deleted': 0,\n   'labels': [2155470478],\n   'parent_id': None,\n   'priority': 1,\n   'project_id': 2249598916,\n   'responsible_uid': None,\n   'section_id': None,\n   'sync_id': None,\n   'user_id': 15358147},\n  {'added_by_uid': 15358147,\n   'assigned_by_uid': None,\n   'checked': 0,\n   'child_order': 8,\n   'collapsed': 0,\n   'content': 'summary week 4',\n   'date_added': '2020-12-18T17:45:26Z',\n   'date_completed': None,\n   'day_order': -1,\n   'due': None,\n   'has_more_notes': False,\n   'id': 4425018791,\n   'in_history': 0,\n   'is_deleted': 0,\n   'labels': [2155470478],\n   'parent_id': None,\n   'priority': 1,\n   'project_id': 2249598916,\n   'responsible_uid': None,\n   'section_id': None,\n   'sync_id': None,\n   'user_id': 15358147},\n  {'added_by_uid': 15358147,\n   'assigned_by_uid': None,\n   'checked': 0,\n   'child_order': 9,\n   'collapsed': 0,\n   'content': 'summary week 5',\n   'date_added': '2020-12-18T17:45:30Z',\n   'date_completed': None,\n   'day_order': -1,\n   'due': None,\n   'has_more_notes': False,\n   'id': 4425018944,\n   'in_history': 0,\n   'is_deleted': 0,\n   'labels': [2155470478],\n   'parent_id': None,\n   'priority': 1,\n   'project_id': 2249598916,\n   'responsible_uid': None,\n   'section_id': None,\n   'sync_id': None,\n   'user_id': 15358147},\n  {'added_by_uid': 15358147,\n   'assigned_by_uid': None,\n   'checked': 0,\n   'child_order': 10,\n   'collapsed': 0,\n   'content': 'summary week 6',\n   'date_added': '2020-12-18T17:45:35Z',\n   'date_completed': None,\n   'day_order': -1,\n   'due': None,\n   'has_more_notes': False,\n   'id': 4425019111,\n   'in_history': 0,\n   'is_deleted': 0,\n   'labels': [2155470478],\n   'parent_id': None,\n   'priority': 1,\n   'project_id': 2249598916,\n   'responsible_uid': None,\n   'section_id': None,\n   'sync_id': None,\n   'user_id': 15358147},\n  {'added_by_uid': 15358147,\n   'assigned_by_uid': None,\n   'checked': 0,\n   'child_order': 11,\n   'collapsed': 0,\n   'content': 'summary week 7',\n   'date_added': '2020-12-18T17:45:39Z',\n   'date_completed': None,\n   'day_order': -1,\n   'due': None,\n   'has_more_notes': False,\n   'id': 4425019316,\n   'in_history': 0,\n   'is_deleted': 0,\n   'labels': [2155470478],\n   'parent_id': None,\n   'priority': 1,\n   'project_id': 2249598916,\n   'responsible_uid': None,\n   'section_id': None,\n   'sync_id': None,\n   'user_id': 15358147},\n  {'added_by_uid': 15358147,\n   'assigned_by_uid': None,\n   'checked': 0,\n   'child_order': 75,\n   'collapsed': 0,\n   'content': 'clean up room plan',\n   'date_added': '2020-12-18T20:59:40Z',\n   'date_completed': None,\n   'day_order': -1,\n   'due': {'date': '2020-12-19',\n    'is_recurring': False,\n    'lang': 'en',\n    'string': '19 Dec',\n    'timezone': None},\n   'has_more_notes': False,\n   'id': 4425392335,\n   'in_history': 0,\n   'is_deleted': 0,\n   'labels': [],\n   'parent_id': None,\n   'priority': 2,\n   'project_id': 2245641641,\n   'responsible_uid': None,\n   'section_id': None,\n   'sync_id': None,\n   'user_id': 15358147},\n  {'added_by_uid': 15358147,\n   'assigned_by_uid': None,\n   'checked': 0,\n   'child_order': 80,\n   'collapsed': 0,\n   'content': 'meet with Brian',\n   'date_added': '2020-12-18T21:02:01Z',\n   'date_completed': None,\n   'day_order': -1,\n   'due': {'date': '2020-12-19T18:00:00',\n    'is_recurring': False,\n    'lang': 'en',\n    'string': '19 Dec 18:00',\n    'timezone': None},\n   'has_more_notes': False,\n   'id': 4425396589,\n   'in_history': 0,\n   'is_deleted': 0,\n   'labels': [2155490620],\n   'parent_id': None,\n   'priority': 4,\n   'project_id': 2245640786,\n   'responsible_uid': None,\n   'section_id': None,\n   'sync_id': None,\n   'user_id': 15358147},\n  {'added_by_uid': 15358147,\n   'assigned_by_uid': None,\n   'checked': 0,\n   'child_order': 1,\n   'collapsed': 0,\n   'content': 'next issue',\n   'date_added': '2020-12-18T21:02:24Z',\n   'date_completed': None,\n   'day_order': -1,\n   'due': {'date': '2020-12-19',\n    'is_recurring': False,\n    'lang': 'en',\n    'string': '19 Dec',\n    'timezone': None},\n   'has_more_notes': False,\n   'id': 4425397408,\n   'in_history': 0,\n   'is_deleted': 0,\n   'labels': [],\n   'parent_id': None,\n   'priority': 3,\n   'project_id': 2250203651,\n   'responsible_uid': None,\n   'section_id': None,\n   'sync_id': None,\n   'user_id': 15358147},\n  {'added_by_uid': 15358147,\n   'assigned_by_uid': None,\n   'checked': 0,\n   'child_order': 2,\n   'collapsed': 0,\n   'content': 'next issue 2',\n   'date_added': '2020-12-18T21:02:32Z',\n   'date_completed': None,\n   'day_order': -1,\n   'due': {'date': '2020-12-19',\n    'is_recurring': False,\n    'lang': 'en',\n    'string': '19 Dec',\n    'timezone': None},\n   'has_more_notes': False,\n   'id': 4425397670,\n   'in_history': 0,\n   'is_deleted': 0,\n   'labels': [],\n   'parent_id': None,\n   'priority': 2,\n   'project_id': 2250203651,\n   'responsible_uid': None,\n   'section_id': None,\n   'sync_id': None,\n   'user_id': 15358147},\n  {'added_by_uid': 15358147,\n   'assigned_by_uid': None,\n   'checked': 0,\n   'child_order': 3,\n   'collapsed': 0,\n   'content': 'clean git',\n   'date_added': '2020-12-18T21:02:41Z',\n   'date_completed': None,\n   'day_order': -1,\n   'due': {'date': '2020-12-19',\n    'is_recurring': False,\n    'lang': 'en',\n    'string': '19 Dec',\n    'timezone': None},\n   'has_more_notes': False,\n   'id': 4425397917,\n   'in_history': 0,\n   'is_deleted': 0,\n   'labels': [],\n   'parent_id': None,\n   'priority': 2,\n   'project_id': 2250203651,\n   'responsible_uid': None,\n   'section_id': None,\n   'sync_id': None,\n   'user_id': 15358147},\n  {'added_by_uid': 15358147,\n   'assigned_by_uid': None,\n   'checked': 0,\n   'child_order': 1,\n   'collapsed': 0,\n   'content': 'make writing plan',\n   'date_added': '2020-12-19T08:42:43Z',\n   'date_completed': None,\n   'day_order': -1,\n   'due': None,\n   'has_more_notes': False,\n   'id': 4426131281,\n   'in_history': 0,\n   'is_deleted': 0,\n   'labels': [],\n   'parent_id': None,\n   'priority': 1,\n   'project_id': 2249570550,\n   'responsible_uid': None,\n   'section_id': None,\n   'sync_id': None,\n   'user_id': 15358147},\n  {'added_by_uid': 15358147,\n   'assigned_by_uid': None,\n   'checked': 0,\n   'child_order': 77,\n   'collapsed': 0,\n   'content': 'cooking',\n   'date_added': '2020-12-19T11:56:30Z',\n   'date_completed': None,\n   'day_order': -1,\n   'due': {'date': '2020-12-19',\n    'is_recurring': False,\n    'lang': 'en',\n    'string': '19 Dec',\n    'timezone': None},\n   'has_more_notes': False,\n   'id': 4426433974,\n   'in_history': 0,\n   'is_deleted': 0,\n   'labels': [],\n   'parent_id': None,\n   'priority': 4,\n   'project_id': 2245641641,\n   'responsible_uid': None,\n   'section_id': None,\n   'sync_id': None,\n   'user_id': 15358147},\n  {'added_by_uid': 15358147,\n   'assigned_by_uid': None,\n   'checked': 0,\n   'child_order': 78,\n   'collapsed': 0,\n   'content': 'hang wash',\n   'date_added': '2020-12-19T11:56:41Z',\n   'date_completed': None,\n   'day_order': -1,\n   'due': {'date': '2020-12-19T15:00:00',\n    'is_recurring': False,\n    'lang': 'en',\n    'string': '19 Dec 15:00',\n    'timezone': None},\n   'has_more_notes': False,\n   'id': 4426434205,\n   'in_history': 0,\n   'is_deleted': 0,\n   'labels': [],\n   'parent_id': None,\n   'priority': 4,\n   'project_id': 2245641641,\n   'responsible_uid': None,\n   'section_id': None,\n   'sync_id': None,\n   'user_id': 15358147}],\n 'labels': [{'color': 47,\n   'id': 2151597608,\n   'is_deleted': 0,\n   'is_favorite': 0,\n   'item_order': 4,\n   'name': 'GCal'},\n  {'color': 47,\n   'id': 2155514023,\n   'is_deleted': 0,\n   'is_favorite': 1,\n   'item_order': 18,\n   'name': 'break'},\n  {'color': 44,\n   'id': 2155263630,\n   'is_deleted': 0,\n   'is_favorite': 0,\n   'item_order': 11,\n   'name': 'daily_habit'},\n  {'color': 47,\n   'id': 2155788059,\n   'is_deleted': 0,\n   'is_favorite': 0,\n   'item_order': 19,\n   'name': 'habit'},\n  {'color': 47,\n   'id': 2155490620,\n   'is_deleted': 0,\n   'is_favorite': 0,\n   'item_order': 17,\n   'name': 'meeting'},\n  {'color': 49,\n   'id': 2155305400,\n   'is_deleted': 0,\n   'is_favorite': 0,\n   'item_order': 14,\n   'name': 'registration_mode'},\n  {'color': 46,\n   'id': 2155263649,\n   'is_deleted': 0,\n   'is_favorite': 0,\n   'item_order': 12,\n   'name': 'someday'},\n  {'color': 37,\n   'id': 2155263653,\n   'is_deleted': 0,\n   'is_favorite': 1,\n   'item_order': 13,\n   'name': 'upcoming_week'},\n  {'color': 30,\n   'id': 2155338727,\n   'is_deleted': 0,\n   'is_favorite': 0,\n   'item_order': 15,\n   'name': 'weekend'},\n  {'color': 43,\n   'id': 2155263627,\n   'is_deleted': 0,\n   'is_favorite': 0,\n   'item_order': 10,\n   'name': 'weekly_habit'},\n  {'color': 49,\n   'id': 2155470478,\n   'is_deleted': 0,\n   'is_favorite': 0,\n   'item_order': 16,\n   'name': 'work'}],\n 'live_notifications': [{'completed_tasks': 3498,\n   'created': '2020-03-21T18:04:52Z',\n   'date_reached': '2020-03-21T18:04:52Z',\n   'id': 2292742539,\n   'is_deleted': 0,\n   'is_unread': 0,\n   'karma_level': 6,\n   'notification_key': 'karma_level_6',\n   'notification_type': 'karma_level',\n   'promo_img': 'https://d3ptyyxy2at9ui.cloudfront.net/6-866000.png',\n   'top_procent': 0.1},\n  {'completed_tasks': 775,\n   'created': '2019-04-04T20:22:07Z',\n   'date_reached': '2019-04-04T20:22:07Z',\n   'id': 2242205085,\n   'is_deleted': 0,\n   'is_unread': 1,\n   'karma_level': 5,\n   'notification_key': 'karma_level_5',\n   'notification_type': 'karma_level',\n   'promo_img': 'https://d3ptyyxy2at9ui.cloudfront.net/5-fddef8.png',\n   'top_procent': 1},\n  {'completed_last_month': 216,\n   'completed_tasks': 412,\n   'created': '2019-02-19T13:13:34Z',\n   'id': 2235225877,\n   'is_deleted': 0,\n   'is_unread': 1,\n   'karma_level': 4,\n   'notification_key': 'karma_level_4',\n   'notification_type': 'karma_level',\n   'promo_img': 'https://d3ptyyxy2at9ui.cloudfront.net/4-c87fb4.png'},\n  {'completed_last_month': 177,\n   'created': '2019-01-25T13:38:42Z',\n   'id': 2231563708,\n   'is_deleted': 0,\n   'is_unread': 1,\n   'karma_level': 3,\n   'notification_key': 'karma_level_3',\n   'notification_type': 'karma_level',\n   'promo_img': 'https://d3ptyyxy2at9ui.cloudfront.net/3-65c0c2.png'},\n  {'completed_in_days': 382,\n   'completed_tasks': 65,\n   'created': '2018-12-28T17:26:03Z',\n   'id': 2227570404,\n   'is_deleted': 0,\n   'is_unread': 0,\n   'karma_level': 2,\n   'notification_key': 'karma_level_2',\n   'notification_type': 'karma_level',\n   'promo_img': 'https://d3ptyyxy2at9ui.cloudfront.net/2-c60b7c.png'},\n  {'created': '2018-12-22T17:02:04Z',\n   'id': 2226961691,\n   'is_deleted': 0,\n   'is_unread': 0,\n   'karma_level': 1,\n   'notification_key': 'karma_level_1',\n   'notification_type': 'karma_level',\n   'promo_img': 'https://d3ptyyxy2at9ui.cloudfront.net/1-d3c52f.png'}],\n 'live_notifications_last_read_id': 2292742539,\n 'locations': [],\n 'notes': [{'content': 'https://blog.rescuetime.com/maker-vs-manager/\\n',\n   'file_attachment': {'description': 'Both makers and managers need time to focus on deep work. And this requires getting strategic with how you spend your time each day, week, and month.',\n    'favicon': 'https://blog.rescuetime.com/wp-content/uploads/2016/10/cropped-RescueTime-icon-large-150x150.png',\n    'image': 'https://blog.rescuetime.com/wp-content/uploads/2020/10/maker-vs-manager-lead.jpg',\n    'image_height': 972,\n    'image_width': 2000,\n    'resource_type': 'website',\n    'site_name': 'RescueTime Blog',\n    'title': 'Maker vs manager: How to connect your schedule to your goals',\n    'url': 'https://blog.rescuetime.com/maker-vs-manager/'},\n   'id': 2696833894,\n   'is_deleted': 0,\n   'item_id': 4256889664,\n   'posted': '2020-10-15T06:33:22Z',\n   'posted_uid': 15358147,\n   'project_id': 2245640837,\n   'reactions': None,\n   'uids_to_notify': None}],\n 'project_notes': [],\n 'projects': [{'child_order': 0,\n   'collapsed': 0,\n   'color': 48,\n   'has_more_notes': False,\n   'id': 2170868719,\n   'inbox_project': True,\n   'is_archived': 0,\n   'is_deleted': 0,\n   'is_favorite': 0,\n   'name': 'Inbox',\n   'parent_id': None,\n   'shared': False,\n   'sync_id': None},\n  {'child_order': 1,\n   'collapsed': 0,\n   'color': 47,\n   'has_more_notes': False,\n   'id': 2245639901,\n   'is_archived': 0,\n   'is_deleted': 0,\n   'is_favorite': 0,\n   'name': 'Projecten',\n   'parent_id': None,\n   'shared': False,\n   'sync_id': None},\n  {'child_order': 1,\n   'collapsed': 0,\n   'color': 47,\n   'has_more_notes': False,\n   'id': 2252535675,\n   'is_archived': 0,\n   'is_deleted': 0,\n   'is_favorite': 0,\n   'name': 'habit_tracker_test',\n   'parent_id': 2245639901,\n   'shared': False,\n   'sync_id': None},\n  {'child_order': 2,\n   'collapsed': 0,\n   'color': 33,\n   'has_more_notes': False,\n   'id': 2245639924,\n   'is_archived': 0,\n   'is_deleted': 0,\n   'is_favorite': 0,\n   'name': 'Study',\n   'parent_id': 2245639901,\n   'shared': False,\n   'sync_id': None},\n  {'child_order': 1,\n   'collapsed': 0,\n   'color': 33,\n   'has_more_notes': False,\n   'id': 2249570550,\n   'is_archived': 0,\n   'is_deleted': 0,\n   'is_favorite': 0,\n   'name': 'Ethics',\n   'parent_id': 2245639924,\n   'shared': False,\n   'sync_id': None},\n  {'child_order': 2,\n   'collapsed': 0,\n   'color': 33,\n   'has_more_notes': False,\n   'id': 2245640052,\n   'is_archived': 0,\n   'is_deleted': 0,\n   'is_favorite': 0,\n   'name': 'Scientific computing',\n   'parent_id': 2245639924,\n   'shared': False,\n   'sync_id': None},\n  {'child_order': 3,\n   'collapsed': 0,\n   'color': 33,\n   'has_more_notes': False,\n   'id': 2245640099,\n   'is_archived': 0,\n   'is_deleted': 0,\n   'is_favorite': 0,\n   'name': 'Statistical inference',\n   'parent_id': 2245639924,\n   'shared': False,\n   'sync_id': None},\n  {'child_order': 4,\n   'collapsed': 0,\n   'color': 33,\n   'has_more_notes': False,\n   'id': 2245640078,\n   'is_archived': 0,\n   'is_deleted': 0,\n   'is_favorite': 0,\n   'name': 'Martingales',\n   'parent_id': 2245639924,\n   'shared': False,\n   'sync_id': None},\n  {'child_order': 5,\n   'collapsed': 0,\n   'color': 33,\n   'has_more_notes': False,\n   'id': 2245640156,\n   'is_archived': 0,\n   'is_deleted': 0,\n   'is_favorite': 0,\n   'name': 'Risk analysis',\n   'parent_id': 2245639924,\n   'shared': False,\n   'sync_id': None},\n  {'child_order': 7,\n   'collapsed': 0,\n   'color': 33,\n   'has_more_notes': False,\n   'id': 2249598916,\n   'is_archived': 0,\n   'is_deleted': 0,\n   'is_favorite': 0,\n   'name': 'machine learning 1',\n   'parent_id': 2245639924,\n   'shared': False,\n   'sync_id': None},\n  {'child_order': 3,\n   'collapsed': 0,\n   'color': 33,\n   'has_more_notes': False,\n   'id': 2245640992,\n   'is_archived': 0,\n   'is_deleted': 0,\n   'is_favorite': 0,\n   'name': 'Becoming a data scientist',\n   'parent_id': 2245639901,\n   'shared': False,\n   'sync_id': None},\n  {'child_order': 1,\n   'collapsed': 0,\n   'color': 33,\n   'has_more_notes': False,\n   'id': 2250203651,\n   'is_archived': 0,\n   'is_deleted': 0,\n   'is_favorite': 0,\n   'name': 'Custom habit tracker',\n   'parent_id': 2245640992,\n   'shared': False,\n   'sync_id': None},\n  {'child_order': 2,\n   'collapsed': 0,\n   'color': 33,\n   'has_more_notes': False,\n   'id': 2245654353,\n   'is_archived': 0,\n   'is_deleted': 0,\n   'is_favorite': 0,\n   'name': 'Make Kaggle contribution',\n   'parent_id': 2245640992,\n   'shared': False,\n   'sync_id': None},\n  {'child_order': 4,\n   'collapsed': 0,\n   'color': 33,\n   'has_more_notes': False,\n   'id': 2245641060,\n   'is_archived': 0,\n   'is_deleted': 0,\n   'is_favorite': 0,\n   'name': 'March',\n   'parent_id': 2245639901,\n   'shared': False,\n   'sync_id': None},\n  {'child_order': 2,\n   'collapsed': 0,\n   'color': 31,\n   'has_more_notes': False,\n   'id': 2245640786,\n   'is_archived': 0,\n   'is_deleted': 0,\n   'is_favorite': 0,\n   'name': 'Relations',\n   'parent_id': None,\n   'shared': False,\n   'sync_id': None},\n  {'child_order': 1,\n   'collapsed': 0,\n   'color': 31,\n   'has_more_notes': False,\n   'id': 2250204093,\n   'is_archived': 0,\n   'is_deleted': 0,\n   'is_favorite': 0,\n   'name': 'Lustrum holiday',\n   'parent_id': 2245640786,\n   'shared': False,\n   'sync_id': None},\n  {'child_order': 2,\n   'collapsed': 0,\n   'color': 31,\n   'has_more_notes': False,\n   'id': 2245650957,\n   'is_archived': 0,\n   'is_deleted': 0,\n   'is_favorite': 0,\n   'name': 'Organise wispo',\n   'parent_id': 2245640786,\n   'shared': False,\n   'sync_id': None},\n  {'child_order': 3,\n   'collapsed': 0,\n   'color': 36,\n   'has_more_notes': False,\n   'id': 2245640837,\n   'is_archived': 0,\n   'is_deleted': 0,\n   'is_favorite': 0,\n   'name': 'GOL',\n   'parent_id': None,\n   'shared': False,\n   'sync_id': None},\n  {'child_order': 4,\n   'collapsed': 0,\n   'color': 36,\n   'has_more_notes': False,\n   'id': 2252498494,\n   'is_archived': 0,\n   'is_deleted': 0,\n   'is_favorite': 0,\n   'name': 'improve CORD',\n   'parent_id': None,\n   'shared': False,\n   'sync_id': None},\n  {'child_order': 5,\n   'collapsed': 0,\n   'color': 41,\n   'has_more_notes': False,\n   'id': 2245640302,\n   'is_archived': 0,\n   'is_deleted': 0,\n   'is_favorite': 0,\n   'name': 'Vitality',\n   'parent_id': None,\n   'shared': False,\n   'sync_id': None},\n  {'child_order': 1,\n   'collapsed': 0,\n   'color': 41,\n   'has_more_notes': False,\n   'id': 2245642080,\n   'is_archived': 0,\n   'is_deleted': 0,\n   'is_favorite': 0,\n   'name': 'Inboxes',\n   'parent_id': 2245640302,\n   'shared': False,\n   'sync_id': None},\n  {'child_order': 2,\n   'collapsed': 0,\n   'color': 41,\n   'has_more_notes': False,\n   'id': 2245641641,\n   'is_archived': 0,\n   'is_deleted': 0,\n   'is_favorite': 0,\n   'name': 'Chores',\n   'parent_id': 2245640302,\n   'shared': False,\n   'sync_id': None},\n  {'child_order': 3,\n   'collapsed': 0,\n   'color': 41,\n   'has_more_notes': False,\n   'id': 2245641603,\n   'is_archived': 0,\n   'is_deleted': 0,\n   'is_favorite': 0,\n   'name': 'Relaxation',\n   'parent_id': 2245640302,\n   'shared': False,\n   'sync_id': None},\n  {'child_order': 4,\n   'collapsed': 0,\n   'color': 41,\n   'has_more_notes': False,\n   'id': 2245641350,\n   'is_archived': 0,\n   'is_deleted': 0,\n   'is_favorite': 0,\n   'name': 'Reflection',\n   'parent_id': 2245640302,\n   'shared': False,\n   'sync_id': None},\n  {'child_order': 5,\n   'collapsed': 0,\n   'color': 41,\n   'has_more_notes': False,\n   'id': 2245640412,\n   'is_archived': 0,\n   'is_deleted': 0,\n   'is_favorite': 0,\n   'name': 'Sports',\n   'parent_id': 2245640302,\n   'shared': False,\n   'sync_id': None},\n  {'child_order': 6,\n   'collapsed': 0,\n   'color': 41,\n   'has_more_notes': False,\n   'id': 2245641031,\n   'is_archived': 0,\n   'is_deleted': 0,\n   'is_favorite': 0,\n   'name': 'Finance',\n   'parent_id': 2245640302,\n   'shared': False,\n   'sync_id': None},\n  {'child_order': 7,\n   'collapsed': 0,\n   'color': 41,\n   'has_more_notes': False,\n   'id': 2245640727,\n   'is_archived': 0,\n   'is_deleted': 0,\n   'is_favorite': 0,\n   'name': 'Food',\n   'parent_id': 2245640302,\n   'shared': False,\n   'sync_id': None},\n  {'child_order': 8,\n   'collapsed': 0,\n   'color': 41,\n   'has_more_notes': False,\n   'id': 2245640739,\n   'is_archived': 0,\n   'is_deleted': 0,\n   'is_favorite': 0,\n   'name': 'Health',\n   'parent_id': 2245640302,\n   'shared': False,\n   'sync_id': None}],\n 'reminders': [{'due': {'date': '2020-12-20T07:30:00',\n    'is_recurring': False,\n    'lang': 'en',\n    'string': '2020-12-20 07:30',\n    'timezone': None},\n   'id': 2321836612,\n   'is_deleted': 0,\n   'item_id': 4264615262,\n   'minute_offset': 30,\n   'notify_uid': 15358147,\n   'service': 'default',\n   'type': 'relative'},\n  {'due': {'date': '2020-12-20T07:30:00',\n    'is_recurring': False,\n    'lang': 'en',\n    'string': '2020-12-20 07:30',\n    'timezone': None},\n   'id': 2321836724,\n   'is_deleted': 0,\n   'item_id': 4377238168,\n   'minute_offset': 30,\n   'notify_uid': 15358147,\n   'service': 'default',\n   'type': 'relative'},\n  {'due': {'date': '2020-12-19T17:30:00',\n    'is_recurring': False,\n    'lang': 'en',\n    'string': '2020-12-19 17:30',\n    'timezone': None},\n   'id': 2325014344,\n   'is_deleted': 0,\n   'item_id': 4425396589,\n   'minute_offset': 30,\n   'notify_uid': 15358147,\n   'service': 'default',\n   'type': 'relative'}],\n 'sections': [],\n 'stats': {'completed_count': 7387,\n  'days_items': [{'date': '2020-12-19', 'total_completed': 15}],\n  'week_items': [{'from': '2020-12-14',\n    'to': '2020-12-20',\n    'total_completed': 165}]},\n 'sync_token': 'CNcqlWu6cgKWbulV1TJL4HScYl_-7w4QzBCDDvr0K1kVDKgkIoo7teCf2sYp0GGsWOoZO41mTdD9JdUI179AKQfefh9Uf3rJvYoNyYrWigvBj6k',\n 'temp_id_mapping': {},\n 'tooltips': {'scheduled': ['favorite_promo'],\n  'seen': ['sharing',\n   'web_ph_natrual_text',\n   'android_google_rated',\n   'web_complete_first_task',\n   'web_first_task_completed',\n   'yir_2019_summary',\n   'accept_terms',\n   'empty_state_next7days_first',\n   'dark_theme',\n   'foundations',\n   'android_new_widget',\n   'responsive_design_update',\n   'upcoming_view',\n   'boards_production']},\n 'user': {'auto_reminder': 30,\n  'business_account_id': None,\n  'daily_goal': 15,\n  'date_format': 0,\n  'dateist_inline_disabled': False,\n  'dateist_lang': None,\n  'days_off': [],\n  'default_reminder': 'no_default',\n  'email': '24rutger@gmail.com',\n  'features': {'beta': 0,\n   'dateist_inline_disabled': False,\n   'dateist_lang': None,\n   'has_push_reminders': True,\n   'karma_disabled': False,\n   'karma_vacation': False,\n   'restriction': 3},\n  'full_name': 'Rutger van Beek',\n  'id': 15358147,\n  'image_id': None,\n  'inbox_project': 2170868719,\n  'is_biz_admin': False,\n  'is_premium': True,\n  'join_date': '2017-12-11T16:34:54Z',\n  'karma': 28112.0,\n  'karma_trend': 'up',\n  'lang': 'en',\n  'mobile_host': None,\n  'mobile_number': None,\n  'next_week': 1,\n  'premium_until': '2021-02-18T20:50:49Z',\n  'share_limit': 25,\n  'sort_order': 0,\n  'start_day': 1,\n  'start_page': 'overdue, today',\n  'theme': 0,\n  'time_format': 0,\n  'token': 'fd48aa487df9c08bd15ec134182b1c192fb3ceda',\n  'tz_info': {'gmt_string': '+01:00',\n   'hours': 1,\n   'is_dst': 0,\n   'minutes': 0,\n   'timezone': 'Europe/Amsterdam'},\n  'unique_prefix': 4,\n  'websocket_url': 'wss://ws.todoist.com/ws?token=81c7f451dc373e4f',\n  'weekly_goal': 100},\n 'user_plan_limits': {'current': {'activity_log': True,\n   'activity_log_limit': -1,\n   'automatic_backups': True,\n   'calendar_feeds': True,\n   'comments': True,\n   'completed_tasks': True,\n   'customization_color': True,\n   'email_forwarding': True,\n   'filters': True,\n   'labels': True,\n   'max_collaborators': 25,\n   'max_filters': 150,\n   'max_labels': 500,\n   'max_projects': 300,\n   'max_reminders_location': 300,\n   'max_reminders_time': 700,\n   'max_sections': 20,\n   'max_tasks': 300,\n   'plan_name': 'pro',\n   'reminders': True,\n   'templates': True,\n   'upload_limit_mb': 100,\n   'uploads': True,\n   'weekly_trends': True},\n  'next': {'activity_log': True,\n   'activity_log_limit': -1,\n   'automatic_backups': True,\n   'calendar_feeds': True,\n   'comments': True,\n   'completed_tasks': True,\n   'customization_color': True,\n   'email_forwarding': True,\n   'filters': True,\n   'labels': True,\n   'max_collaborators': 50,\n   'max_filters': 150,\n   'max_labels': 500,\n   'max_projects': 500,\n   'max_reminders_location': 300,\n   'max_reminders_time': 700,\n   'max_sections': 20,\n   'max_tasks': 300,\n   'plan_name': 'teams',\n   'reminders': True,\n   'templates': True,\n   'upload_limit_mb': 100,\n   'uploads': True,\n   'weekly_trends': True}},\n 'user_settings': {'completed_sound_desktop': False,\n  'completed_sound_mobile': True,\n  'legacy_pricing': False,\n  'reminder_desktop': True,\n  'reminder_email': False,\n  'reminder_push': True,\n  'sound_on_completed': False},\n 'view_options': []}"
     },
     "execution_count": 19,
     "metadata": {},
     "output_type": "execute_result"
    }
   ],
   "source": [
    "todoist.api.sync()"
   ],
   "metadata": {
    "collapsed": false,
    "pycharm": {
     "name": "#%%\n"
    }
   }
  },
  {
   "cell_type": "code",
   "execution_count": 21,
   "outputs": [],
   "source": [
    "todoist.api.commit()"
   ],
   "metadata": {
    "collapsed": false,
    "pycharm": {
     "name": "#%%\n"
    }
   }
  },
  {
   "cell_type": "code",
   "execution_count": 25,
   "outputs": [
    {
     "data": {
      "text/plain": "1"
     },
     "execution_count": 25,
     "metadata": {},
     "output_type": "execute_result"
    }
   ],
   "source": [
    "len(todoist.api.queue)"
   ],
   "metadata": {
    "collapsed": false,
    "pycharm": {
     "name": "#%%\n"
    }
   }
  },
  {
   "cell_type": "code",
   "execution_count": 24,
   "outputs": [],
   "source": [
    "todoist.add_task({'content': 'test jwz'})\n"
   ],
   "metadata": {
    "collapsed": false,
    "pycharm": {
     "name": "#%%\n"
    }
   }
  },
  {
   "cell_type": "code",
   "execution_count": 26,
   "outputs": [],
   "source": [
    "todoist.commit()"
   ],
   "metadata": {
    "collapsed": false,
    "pycharm": {
     "name": "#%%\n"
    }
   }
  },
  {
   "cell_type": "code",
   "execution_count": 30,
   "outputs": [
    {
     "ename": "AttributeError",
     "evalue": "'NoneType' object has no attribute 'delete'",
     "output_type": "error",
     "traceback": [
      "\u001B[0;31m---------------------------------------------------------------------------\u001B[0m",
      "\u001B[0;31mAttributeError\u001B[0m                            Traceback (most recent call last)",
      "\u001B[0;32m<ipython-input-30-b112dd5ac663>\u001B[0m in \u001B[0;36m<module>\u001B[0;34m\u001B[0m\n\u001B[1;32m      1\u001B[0m \u001B[0mitem\u001B[0m \u001B[0;34m=\u001B[0m \u001B[0mtodoist\u001B[0m\u001B[0;34m.\u001B[0m\u001B[0mapi\u001B[0m\u001B[0;34m.\u001B[0m\u001B[0mitems\u001B[0m\u001B[0;34m.\u001B[0m\u001B[0mget_by_id\u001B[0m\u001B[0;34m(\u001B[0m\u001B[0;34m'e46ad888-4202-11eb-88ae-8d0c13dd66a0'\u001B[0m\u001B[0;34m)\u001B[0m\u001B[0;34m\u001B[0m\u001B[0;34m\u001B[0m\u001B[0m\n\u001B[0;32m----> 2\u001B[0;31m \u001B[0mitem\u001B[0m\u001B[0;34m.\u001B[0m\u001B[0mdelete\u001B[0m\u001B[0;34m(\u001B[0m\u001B[0;34m)\u001B[0m\u001B[0;34m\u001B[0m\u001B[0;34m\u001B[0m\u001B[0m\n\u001B[0m",
      "\u001B[0;31mAttributeError\u001B[0m: 'NoneType' object has no attribute 'delete'"
     ]
    }
   ],
   "source": [
    "item = todoist.api.items.get_by_id('e46ad888-4202-11eb-88ae-8d0c13dd66a0')\n",
    "item.delete()"
   ],
   "metadata": {
    "collapsed": false,
    "pycharm": {
     "name": "#%%\n"
    }
   }
  },
  {
   "cell_type": "code",
   "execution_count": 8,
   "outputs": [
    {
     "name": "stdout",
     "output_type": "stream",
     "text": [
      "92\n"
     ]
    }
   ],
   "source": [
    "tasks = todoist.filter_tasks(lambda item: '{automatic}' in item['content'])\n",
    "for task in tasks:\n",
    "    task.delete()\n",
    "print(len(todoist.api.queue))\n",
    "todoist.commit()"
   ],
   "metadata": {
    "collapsed": false,
    "pycharm": {
     "name": "#%%\n"
    }
   }
  },
  {
   "cell_type": "code",
   "execution_count": null,
   "outputs": [],
   "source": [],
   "metadata": {
    "collapsed": false,
    "pycharm": {
     "name": "#%%\n"
    }
   }
  },
  {
   "cell_type": "code",
   "execution_count": 10,
   "outputs": [
    {
     "name": "stdout",
     "output_type": "stream",
     "text": [
      "start\n",
      "initialized\n",
      "created tasks\n",
      "commited\n"
     ]
    }
   ],
   "source": [
    "def init_todoist():\n",
    "    dirname = os.path.abspath(os.path.dirname(__file__))\n",
    "    filename = os.path.join(os.path.split(dirname)[0], '.config/.todoist.txt')\n",
    "    todoist = todoist_connection.TodoistConnection.from_config_file(filename)\n",
    "    return todoist\n",
    "\n",
    "\n",
    "def create_task(habit, label_id):\n",
    "    # task for the next day with the same id?\n",
    "    task = {'content': habit['content'], 'project_id': habit['project_id'], 'priority': habit['priority']}\n",
    "    task['labels'] = [label for label in habit['labels'] if label != label_id]\n",
    "    task['due'] = {'string': 'tomorrow'}\n",
    "    return task\n",
    "\n",
    "def main(config_file):\n",
    "    LABEL = 'habit'\n",
    "    print('start')\n",
    "    todoist = TodoistConnection.from_config_file(config_file)\n",
    "    print('initialized')\n",
    "    # project_id = list(filter(lambda project: project['name'] == PROJECT, todoist.projects))[-1]['id']\n",
    "    label_id = todoist.get_label_by_name(LABEL)['id']\n",
    "    habits = todoist.filter_tasks(lambda task: label_id in task['labels'])\n",
    "\n",
    "    for habit in habits:\n",
    "        # if habit already exists update\n",
    "        is_equal = lambda task: task['content'] == habit['content'] and task['project_id'] == habit['project_id'] and label_id not in task['labels']\n",
    "        similar_task = todoist.filter_tasks(is_equal)\n",
    "        if len(similar_task) > 0:\n",
    "            similar_task[0].update(due={'string':'today'})\n",
    "        else:\n",
    "            todoist.add_task(create_task(habit, label_id))\n",
    "    print('created tasks')\n",
    "    todoist.commit()\n",
    "    print('commited')\n",
    "    return todoist\n",
    "\n",
    "todoist = main(config_file)"
   ],
   "metadata": {
    "collapsed": false,
    "pycharm": {
     "name": "#%%\n"
    }
   }
  },
  {
   "cell_type": "code",
   "execution_count": null,
   "outputs": [],
   "source": [],
   "metadata": {
    "collapsed": false,
    "pycharm": {
     "name": "#%%\n"
    }
   }
  }
 ],
 "metadata": {
  "kernelspec": {
   "display_name": "Python 3",
   "language": "python",
   "name": "python3"
  },
  "language_info": {
   "codemirror_mode": {
    "name": "ipython",
    "version": 2
   },
   "file_extension": ".py",
   "mimetype": "text/x-python",
   "name": "python",
   "nbconvert_exporter": "python",
   "pygments_lexer": "ipython2",
   "version": "2.7.6"
  }
 },
 "nbformat": 4,
 "nbformat_minor": 0
}